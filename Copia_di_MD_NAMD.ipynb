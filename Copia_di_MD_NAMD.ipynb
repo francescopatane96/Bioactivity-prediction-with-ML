{
  "nbformat": 4,
  "nbformat_minor": 0,
  "metadata": {
    "colab": {
      "name": "Copia di MD NAMD.ipynb",
      "provenance": [],
      "authorship_tag": "ABX9TyO0pffocriMJpeQEnFA68o8",
      "include_colab_link": true
    },
    "kernelspec": {
      "name": "python3",
      "display_name": "Python 3"
    },
    "language_info": {
      "name": "python"
    },
    "accelerator": "GPU",
    "gpuClass": "standard"
  },
  "cells": [
    {
      "cell_type": "markdown",
      "metadata": {
        "id": "view-in-github",
        "colab_type": "text"
      },
      "source": [
        "<a href=\"https://colab.research.google.com/github/francescopatane96/Bioactivity-prediction-with-ML/blob/main/Copia_di_MD_NAMD.ipynb\" target=\"_parent\"><img src=\"https://colab.research.google.com/assets/colab-badge.svg\" alt=\"Open In Colab\"/></a>"
      ]
    },
    {
      "cell_type": "markdown",
      "source": [
        "**Run NAMD GPU in Colab by @francescopatane96**\n",
        "\n",
        "1. NAMD config files are available in my Github page\n",
        "2. Upload all files (config, psf, pdb) to your Google Drive after creating a folder (without space in the filename)\n",
        "3. Run the experiment in the same folder of Google Drive after mounting the drive\n",
        "\n",
        "Contact me if you have any troubles or problem!\n",
        "francesco.patane@live.it\n",
        "\n",
        "Important: enable GPU mode by Runtime menu > Change Runtime type > choose GPU in hardware Accelerator and click OK.\n",
        "\n",
        "Limitations: Every 12hrs the data/Colab gets reset, so in free account you could use it for training/learning purpose only. Every 12hrs you have to start from 1st cell, like compilation etc. For paid accounts it is 24hrs. Make sure your colab webpage is active, else the compute engine gets disconnected.\n",
        "\n",
        "Before to run the simulation you have to download or obtain your pdb file (structure of the protein) from PDB etc... Then you have to add hydrogen atoms and solvate the protein using VMD, and calculate che cell size. Finally you can run the experiment using NAMD. \n",
        "\n",
        "You can utilize VMD on this colab page.\n",
        "\n",
        "How to use NAMD GPU: https://www.ks.uiuc.edu/Research/namd/"
      ],
      "metadata": {
        "id": "Ntf3W19KtA7j"
      }
    },
    {
      "cell_type": "code",
      "source": [
        "#Check Resources\n",
        "!lscpu\n",
        "!nvidia-smi"
      ],
      "metadata": {
        "id": "8YV8pDx7siRr"
      },
      "execution_count": null,
      "outputs": []
    },
    {
      "cell_type": "code",
      "source": [
        "#Mount Google Drive\n",
        "from google.colab import drive\n",
        "drive.mount('/content/drive')\n",
        "%cd /content/drive"
      ],
      "metadata": {
        "id": "iKqWbLc3xfV6",
        "outputId": "aa0258d3-73b0-497c-fd03-11d81dfb57fd",
        "colab": {
          "base_uri": "https://localhost:8080/"
        }
      },
      "execution_count": null,
      "outputs": [
        {
          "output_type": "stream",
          "name": "stdout",
          "text": [
            "Mounted at /content/drive\n",
            "/content/drive\n"
          ]
        }
      ]
    },
    {
      "cell_type": "code",
      "source": [
        "#Change directory\n",
        "%cd /content/drive/MyDrive/md"
      ],
      "metadata": {
        "id": "NgENO7aQxh2g",
        "outputId": "fb4565ba-a507-49f6-e8f1-ad12dd43b5fc",
        "colab": {
          "base_uri": "https://localhost:8080/"
        }
      },
      "execution_count": null,
      "outputs": [
        {
          "output_type": "stream",
          "name": "stdout",
          "text": [
            "/content/drive/MyDrive/md\n"
          ]
        }
      ]
    },
    {
      "cell_type": "code",
      "source": [
        "#Download, configure and check NAMD\n",
        "%%bash\n",
        "wget https://www.ks.uiuc.edu/Research/namd/2.14/download/946183/NAMD_2.14_Linux-x86_64-multicore-CUDA.tar.gz\n",
        "\n",
        "\n",
        "\n",
        "\n",
        "\n"
      ],
      "metadata": {
        "id": "ydPAT4dXxlap"
      },
      "execution_count": null,
      "outputs": []
    },
    {
      "cell_type": "code",
      "source": [
        "!tar -zxf NAMD_2.14_Linux-x86_64-multicore-CUDA.tar.gz"
      ],
      "metadata": {
        "id": "foUSzoqxKo7K"
      },
      "execution_count": null,
      "outputs": []
    },
    {
      "cell_type": "code",
      "source": [
        "#Change accessibility of the google drive folder\n",
        "!chmod 755 -R /content/drive/MyDrive/md"
      ],
      "metadata": {
        "id": "iVj1tjLYx1m6"
      },
      "execution_count": null,
      "outputs": []
    },
    {
      "cell_type": "code",
      "source": [
        "!/content/drive/MyDrive/md/NAMD_2.14_Linux-x86_64-multicore-CUDA/namd2 +auto-provision"
      ],
      "metadata": {
        "id": "SAITJq-LLIQP",
        "outputId": "3e57d076-8582-4274-8735-97eeeca38459",
        "colab": {
          "base_uri": "https://localhost:8080/"
        }
      },
      "execution_count": null,
      "outputs": [
        {
          "output_type": "stream",
          "name": "stdout",
          "text": [
            "Charm++: standalone mode (not using charmrun)\n",
            "Charm++> Running in Multicore mode: 2 threads (PEs)\n",
            "Charm++> Using recursive bisection (scheme 3) for topology aware partitions\n",
            "Converse/Charm++ Commit ID: v6.10.2-0-g7bf00fa-namd-charm-6.10.2-build-2020-Aug-05-556\n",
            "Warning> Randomization of virtual memory (ASLR) is turned on in the kernel, thread migration may not work! Run 'echo 0 > /proc/sys/kernel/randomize_va_space' as root to disable it, or try running with '+isomalloc_sync'.\n",
            "CharmLB> Load balancer assumes all CPUs are same.\n",
            "Charm++> Running on 1 hosts (1 sockets x 1 cores x 2 PUs = 2-way SMP)\n",
            "Charm++> cpu topology info is gathered in 0.000 seconds.\n",
            "Info: Built with CUDA version 10010\n",
            "Did not find +devices i,j,k,... argument, using all\n",
            "Pe 0 physical rank 0 will use CUDA device of pe 1\n",
            "Pe 1 physical rank 1 binding to CUDA device 0 on 7ca07075d353: 'Tesla P100-PCIE-16GB'  Mem: 16280MB  Rev: 6.0  PCI: 0:0:4\n",
            "Info: NAMD 2.14 for Linux-x86_64-multicore-CUDA\n",
            "Info: \n",
            "Info: Please visit http://www.ks.uiuc.edu/Research/namd/\n",
            "Info: for updates, documentation, and support information.\n",
            "Info: \n",
            "Info: Please cite Phillips et al., J. Chem. Phys. 153:044130 (2020) doi:10.1063/5.0014475\n",
            "Info: in all publications reporting results obtained with NAMD.\n",
            "Info: \n",
            "Info: Based on Charm++/Converse 61002 for multicore-linux-x86_64-iccstatic\n",
            "Info: Built Mon Aug 24 10:10:58 CDT 2020 by jim on belfast.ks.uiuc.edu\n",
            "Info: 1 NAMD  2.14  Linux-x86_64-multicore-CUDA  2    7ca07075d353  root\n",
            "Info: Running on 2 processors, 1 nodes, 1 physical nodes.\n",
            "Info: CPU topology information available.\n",
            "Info: Charm++/Converse parallel runtime startup completed at 0.698381 s\n",
            "CkLoopLib is used in SMP with simple dynamic scheduling (converse-level notification)\n",
            "FATAL ERROR: No simulation config file specified on command line.\n",
            "FATAL ERROR: No simulation config file specified on command line.\n",
            "[Partition 0][Node 0] End of program\n"
          ]
        }
      ]
    },
    {
      "cell_type": "code",
      "source": [
        "#Download VMD (used to generate pdb and psf file for the experiment, for run tcl scripts and for result analysis)\n",
        "%%bash\n",
        "wget https://www.ks.uiuc.edu/Research/vmd/vmd-1.9.3/files/final/vmd-1.9.3.bin.LINUXAMD64.text.tar.gz\n",
        "tar -zxf vmd-1.9.3.bin.LINUXAMD64.text.tar.gz\n",
        "cd vmd-1.9.3/\n",
        "./configure\n",
        "cd src\n",
        "sudo make install"
      ],
      "metadata": {
        "id": "t5kQRGNGxoVy"
      },
      "execution_count": null,
      "outputs": []
    },
    {
      "cell_type": "markdown",
      "source": [
        "VMD could run in text mode with many tcl scripts.\n",
        "\n",
        "Scripts are available in my Github page\n"
      ],
      "metadata": {
        "id": "dTDRL4dNvHaK"
      }
    },
    {
      "cell_type": "code",
      "source": [
        "#Run VMD\n",
        "!vmd"
      ],
      "metadata": {
        "id": "REauVsMYxrji"
      },
      "execution_count": null,
      "outputs": []
    },
    {
      "cell_type": "code",
      "source": [
        "!ls"
      ],
      "metadata": {
        "id": "5n_9jCkVxvpx"
      },
      "execution_count": null,
      "outputs": []
    },
    {
      "cell_type": "code",
      "source": [
        "#Download or upload CHARMM-GUI file\n",
        "\n",
        "!curl 'https://charmm-gui.org/?doc=input/download&jobid=############' \\\n",
        "  -H 'Connection: keep-alive' \\\n",
        "  -H 'sec-ch-ua: \"Google Chrome\";v=\"95\", \"Chromium\";v=\"95\", \";Not A Brand\";v=\"99\"' \\\n",
        "  -H 'sec-ch-ua-mobile: ?0' \\\n",
        "  -H 'sec-ch-ua-platform: \"Windows\"' \\\n",
        "  -H 'Upgrade-Insecure-Requests: 1' \\\n",
        "  -H 'User-Agent: Mozilla/5.0 (Windows NT 10.0; Win64; x64) AppleWebKit/537.36 (KHTML, like Gecko) Chrome/95.0.4638.54 Safari/537.36' \\\n",
        "  -H 'Accept: text/html,application/xhtml+xml,application/xml;q=0.9,image/avif,image/webp,image/apng,*/*;q=0.8,application/signed-exchange;v=b3;q=0.9' \\\n",
        "  -H 'Sec-Fetch-Site: same-origin' \\\n",
        "  -H 'Sec-Fetch-Mode: navigate' \\\n",
        "  -H 'Sec-Fetch-User: ?1' \\\n",
        "  -H 'Sec-Fetch-Dest: document' \\\n",
        "  -H 'Referer: https://charmm-gui.org/?doc=input/solution&step=4' \\\n",
        "  -H 'Accept-Language: en-US,en;q=0.9,ar-AE;q=0.8,ar;q=0.7' \\\n",
        "  -H 'Cookie: __utma=194423551.1282894827.1616081420.1616513672.1616761919.7; _ga=GA1.2.1282894827.1616081420; PHPSESSID=640if26cvc91d0tvuo4v56q16k; visit=ok; _gid=GA1.2.1908401265.1636701249' \\\n",
        "  -H 'sec-gpc: 1' \\\n",
        "  --compressed \\\n",
        "  --output charmm.tgz"
      ],
      "metadata": {
        "id": "RxDue7yJxy5x",
        "outputId": "7d7283ce-7dfb-4975-d30f-33e19082d956",
        "colab": {
          "base_uri": "https://localhost:8080/"
        }
      },
      "execution_count": null,
      "outputs": [
        {
          "output_type": "stream",
          "name": "stdout",
          "text": [
            "  % Total    % Received % Xferd  Average Speed   Time    Time     Time  Current\n",
            "                                 Dload  Upload   Total   Spent    Left  Speed\n",
            "100  5947  100  5947    0     0  12062      0 --:--:-- --:--:-- --:--:-- 12038\n"
          ]
        }
      ]
    },
    {
      "cell_type": "code",
      "source": [
        "#Extract tgz\n",
        "!unrar charmm.tgz"
      ],
      "metadata": {
        "id": "HochmwQo95AD",
        "outputId": "54e53819-e763-4d6c-e406-0e2153b084cb",
        "colab": {
          "base_uri": "https://localhost:8080/"
        }
      },
      "execution_count": null,
      "outputs": [
        {
          "output_type": "stream",
          "name": "stdout",
          "text": [
            "\n",
            "UNRAR 5.50 freeware      Copyright (c) 1993-2017 Alexander Roshal\n",
            "\n",
            "Usage:     unrar <command> -<switch 1> -<switch N> <archive> <files...>\n",
            "               <@listfiles...> <path_to_extract\\>\n",
            "\n",
            "<Commands>\n",
            "  e             Extract files without archived paths\n",
            "  l[t[a],b]     List archive contents [technical[all], bare]\n",
            "  p             Print file to stdout\n",
            "  t             Test archive files\n",
            "  v[t[a],b]     Verbosely list archive contents [technical[all],bare]\n",
            "  x             Extract files with full path\n",
            "\n",
            "<Switches>\n",
            "  -             Stop switches scanning\n",
            "  @[+]          Disable [enable] file lists\n",
            "  ad            Append archive name to destination path\n",
            "  ag[format]    Generate archive name using the current date\n",
            "  ai            Ignore file attributes\n",
            "  ap<path>      Set path inside archive\n",
            "  c-            Disable comments show\n",
            "  cfg-          Disable read configuration\n",
            "  cl            Convert names to lower case\n",
            "  cu            Convert names to upper case\n",
            "  dh            Open shared files\n",
            "  ep            Exclude paths from names\n",
            "  ep3           Expand paths to full including the drive letter\n",
            "  f             Freshen files\n",
            "  id[c,d,p,q]   Disable messages\n",
            "  ierr          Send all messages to stderr\n",
            "  inul          Disable all messages\n",
            "  kb            Keep broken extracted files\n",
            "  n<file>       Additionally filter included files\n",
            "  n@            Read additional filter masks from stdin\n",
            "  n@<list>      Read additional filter masks from list file\n",
            "  o[+|-]        Set the overwrite mode\n",
            "  ol[a]         Process symbolic links as the link [absolute paths]\n",
            "  or            Rename files automatically\n",
            "  ow            Save or restore file owner and group\n",
            "  p[password]   Set password\n",
            "  p-            Do not query password\n",
            "  r             Recurse subdirectories\n",
            "  sc<chr>[obj]  Specify the character set\n",
            "  sl<size>      Process files with size less than specified\n",
            "  sm<size>      Process files with size more than specified\n",
            "  ta<date>      Process files modified after <date> in YYYYMMDDHHMMSS format\n",
            "  tb<date>      Process files modified before <date> in YYYYMMDDHHMMSS format\n",
            "  tn<time>      Process files newer than <time>\n",
            "  to<time>      Process files older than <time>\n",
            "  ts[m|c|a]     Save or restore file time (modification, creation, access)\n",
            "  u             Update files\n",
            "  v             List all volumes\n",
            "  ver[n]        File version control\n",
            "  vp            Pause before each volume\n",
            "  x<file>       Exclude specified file\n",
            "  x@            Read file names to exclude from stdin\n",
            "  x@<list>      Exclude files listed in specified list file\n",
            "  y             Assume Yes on all queries\n"
          ]
        }
      ]
    },
    {
      "cell_type": "code",
      "source": [
        "#Run NAMD using the following command.\n",
        "#p2 is the maximum, only 2 CPUs available\n",
        "\n",
        "!/content/drive/MyDrive/md/NAMD_2.14_Linux-x86_64-multicore-CUDA/charmrun /content/drive/MyDrive/md/NAMD_2.14_Linux-x86_64-multicore-CUDA/namd2 +idlepoll +p2 ws_eq.conf > minim.log"
      ],
      "metadata": {
        "id": "kDRtWR2Lx47r"
      },
      "execution_count": null,
      "outputs": []
    },
    {
      "cell_type": "markdown",
      "source": [
        "Rememeber to save the log file on your computer or in the drive\n",
        "\n",
        "**Analysis such as RMSD, RMSF, RoG, HBond, SASA are possible via TCL scripts**\n"
      ],
      "metadata": {
        "id": "wE6obhICchp4"
      }
    }
  ]
}