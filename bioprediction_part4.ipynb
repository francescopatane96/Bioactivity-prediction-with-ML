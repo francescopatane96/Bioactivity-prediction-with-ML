{
  "nbformat": 4,
  "nbformat_minor": 0,
  "metadata": {
    "colab": {
      "name": "bioprediction_part4.ipynb",
      "provenance": [],
      "authorship_tag": "ABX9TyPcbwv3pG+GuyLEBmQabUdz",
      "include_colab_link": true
    },
    "kernelspec": {
      "name": "python3",
      "display_name": "Python 3"
    },
    "language_info": {
      "name": "python"
    }
  },
  "cells": [
    {
      "cell_type": "markdown",
      "metadata": {
        "id": "view-in-github",
        "colab_type": "text"
      },
      "source": [
        "<a href=\"https://colab.research.google.com/github/francescopatane96/Bioactivity-prediction-with-ML/blob/main/bioprediction_part4.ipynb\" target=\"_parent\"><img src=\"https://colab.research.google.com/assets/colab-badge.svg\" alt=\"Open In Colab\"/></a>"
      ]
    },
    {
      "cell_type": "markdown",
      "source": [
        "Download all public molecules in ZINC database (42271452 molecules), including around 1M compounds not in subset #6 that may not be available commercially (last update: 2014-11-24)"
      ],
      "metadata": {
        "id": "_fBqkCF_jz2O"
      }
    },
    {
      "cell_type": "code",
      "execution_count": null,
      "metadata": {
        "id": "ThDpoxPZjD0P"
      },
      "outputs": [],
      "source": [
        "!wget http://zinc12.docking.org/db/bysubset/10/10_p0.smi.gz    #download all public molecules in ZINC, including around 1M compounds not in subset #6 that may not be available commercially"
      ]
    },
    {
      "cell_type": "code",
      "source": [
        "!wget http://zinc12.docking.org/db/bysubset/17/17_p0.smi.gz   #or download a fraction of it"
      ],
      "metadata": {
        "id": "RUZpxt8yG0as"
      },
      "execution_count": null,
      "outputs": []
    },
    {
      "cell_type": "code",
      "source": [
        "!gunzip 10_p0.smi.gz  #obtain .smi file\n"
      ],
      "metadata": {
        "id": "9p7eKHnAjwr1"
      },
      "execution_count": 2,
      "outputs": []
    },
    {
      "cell_type": "code",
      "source": [
        "!gunzip 17_p0.smi.gz #''"
      ],
      "metadata": {
        "id": "LzSFGUgNG6OE"
      },
      "execution_count": 2,
      "outputs": []
    },
    {
      "cell_type": "code",
      "source": [
        "import pickle"
      ],
      "metadata": {
        "id": "Kyrk_DPOnpYW"
      },
      "execution_count": 3,
      "outputs": []
    },
    {
      "cell_type": "code",
      "source": [
        "!pip install rdkit"
      ],
      "metadata": {
        "id": "nb6rggOKFM6u"
      },
      "execution_count": null,
      "outputs": []
    },
    {
      "cell_type": "code",
      "source": [
        "objects = []                         #read pickle object file (pkl). It is our model\n",
        "with (open(\"acetylcholinesterase_model.pkl\", \"rb\")) as openfile:\n",
        "    while True:\n",
        "        try:\n",
        "            objects.append(pickle.load(openfile))\n",
        "        except EOFError:\n",
        "            break"
      ],
      "metadata": {
        "id": "emrTgGwZkuVX"
      },
      "execution_count": null,
      "outputs": []
    },
    {
      "cell_type": "code",
      "source": [
        "%matplotlib inline\n",
        "\n",
        "import os\n",
        "\n",
        "from rdkit import rdBase\n",
        "\n",
        "from rdkit import Chem\n",
        "from rdkit.Chem import AllChem\n",
        "from rdkit.Chem import Draw\n",
        "from IPython.display import display\n",
        "\n",
        "from rdkit.Chem import PandasTools\n",
        "import pandas as pd\n",
        "PandasTools.pd = pd\n",
        "\n",
        "import numpy as np\n",
        "\n",
        "np.random.seed(69)\n",
        "\n",
        "from mpl_toolkits.mplot3d import Axes3D\n",
        "import matplotlib.pyplot as plt\n",
        "\n",
        "#from bokeh import mpl\n",
        "#from bokeh.plotting import output_notebook, show\n",
        "\n",
        "print(\"RDKit Version: %s\" % rdBase.rdkitVersion)"
      ],
      "metadata": {
        "id": "fZLbFNUzFJQd"
      },
      "execution_count": null,
      "outputs": []
    },
    {
      "cell_type": "code",
      "source": [
        "smiles_file = os.path.join(os.path.abspath(os.curdir) ,\"17_p0.smi\")\n",
        "\n",
        "mols_dict = dict()\n",
        "bad_mols = 0\n",
        "bad_smiles = list()\n",
        "dup_mols = 0\n",
        "with open(smiles_file, \"r\") as fd:\n",
        "    header = fd.readline()\n",
        "    for line in fd.readlines():\n",
        "        line = line.split()\n",
        "        #print line\n",
        "        # Add molecule information in a dictionary...\n",
        "        # SMILES: (Mol_Id, Mol_Obj)\n",
        "        smiles = line[0]\n",
        "        mol_id = line[1]\n",
        "        mol_obj = Chem.MolFromSmiles(smiles)\n",
        "        # Skip bad molecules...\n",
        "        if mol_obj is None:\n",
        "            bad_mols += 1\n",
        "            bad_smiles.append(smiles)\n",
        "            continue\n",
        "        if smiles in mols_dict:\n",
        "            dup_mols += 1\n",
        "            continue\n",
        "        mols_dict[smiles] = (mol_id, mol_obj)\n",
        "    # end for\n",
        "# end with\n",
        "\n",
        "print(\"Bad Mols: %s\" % bad_mols)\n",
        "print(\"Bad SMILES: %s\" % bad_smiles)\n",
        "print(\"Duplicate Mols: %s\" % dup_mols)\n",
        "print(len(mols_dict))"
      ],
      "metadata": {
        "id": "soby3joQEOAI"
      },
      "execution_count": null,
      "outputs": []
    },
    {
      "cell_type": "code",
      "source": [
        "import random"
      ],
      "metadata": {
        "id": "jfXBLOBMWpbW"
      },
      "execution_count": 28,
      "outputs": []
    },
    {
      "cell_type": "code",
      "source": [
        "\n",
        "selected_mols = random.choices(list(mols_dict.keys()), k=100)           #select 100 molecules of the dictionary, convert to list to output\n",
        "selected_mols"
      ],
      "metadata": {
        "id": "FtklT1URWnvf"
      },
      "execution_count": null,
      "outputs": []
    },
    {
      "cell_type": "code",
      "source": [
        "def listToDict(lst):\n",
        "    op = dict.fromkeys(lst, 5)\n",
        "    return op"
      ],
      "metadata": {
        "id": "3LkBVorCYlkF"
      },
      "execution_count": 51,
      "outputs": []
    },
    {
      "cell_type": "code",
      "source": [
        "selected_mols = listToDict(selected_mols)             #print the casual dictionary of 100 molecules\n",
        "selected_mols\n"
      ],
      "metadata": {
        "id": "2hmRtvFRZoPk"
      },
      "execution_count": null,
      "outputs": []
    },
    {
      "cell_type": "code",
      "source": [
        "\n",
        "df = pd.Series(selected_mols).rename_axis('smiles').reset_index(name='keys')\n",
        "df"
      ],
      "metadata": {
        "id": "gsRyWjX7g8xW"
      },
      "execution_count": null,
      "outputs": []
    },
    {
      "cell_type": "code",
      "source": [
        "df2 = df.drop(columns=['keys'])\n",
        "df2\n"
      ],
      "metadata": {
        "id": "99C72FkxhQQK"
      },
      "execution_count": null,
      "outputs": []
    },
    {
      "cell_type": "code",
      "source": [
        "X = df2                 #assign x\n",
        "X"
      ],
      "metadata": {
        "id": "rhgPA3g_drxy"
      },
      "execution_count": null,
      "outputs": []
    }
  ]
}