{
  "nbformat": 4,
  "nbformat_minor": 0,
  "metadata": {
    "colab": {
      "name": "bioprediction_part4.ipynb",
      "provenance": [],
      "authorship_tag": "ABX9TyPDXosnmnJq6PhgCJgNJJqP",
      "include_colab_link": true
    },
    "kernelspec": {
      "name": "python3",
      "display_name": "Python 3"
    },
    "language_info": {
      "name": "python"
    }
  },
  "cells": [
    {
      "cell_type": "markdown",
      "metadata": {
        "id": "view-in-github",
        "colab_type": "text"
      },
      "source": [
        "<a href=\"https://colab.research.google.com/github/francescopatane96/Bioactivity-prediction-with-ML/blob/main/bioprediction_part4.ipynb\" target=\"_parent\"><img src=\"https://colab.research.google.com/assets/colab-badge.svg\" alt=\"Open In Colab\"/></a>"
      ]
    },
    {
      "cell_type": "markdown",
      "source": [
        "Download all public molecules in ZINC (42271452 molecules), including around 1M compounds not in subset #6 that may not be available commercially (2014-11-24)"
      ],
      "metadata": {
        "id": "_fBqkCF_jz2O"
      }
    },
    {
      "cell_type": "code",
      "execution_count": null,
      "metadata": {
        "id": "ThDpoxPZjD0P"
      },
      "outputs": [],
      "source": [
        "!wget http://zinc12.docking.org/db/bysubset/10/10_p0.smi.gz    #download all public molecules in ZINC, including around 1M compounds not in subset #6 that may not be available commercially"
      ]
    },
    {
      "cell_type": "code",
      "source": [
        "!gunzip 10_p0.smi.gz  #obtain .smi file"
      ],
      "metadata": {
        "id": "9p7eKHnAjwr1"
      },
      "execution_count": 8,
      "outputs": []
    },
    {
      "cell_type": "code",
      "source": [
        "objects = []                         #read pickle object file (pkl) prova1\n",
        "with (open(\"myfile\", \"rb\")) as openfile:\n",
        "    while True:\n",
        "        try:\n",
        "            objects.append(pickle.load(openfile))\n",
        "        except EOFError:\n",
        "            break"
      ],
      "metadata": {
        "id": "emrTgGwZkuVX"
      },
      "execution_count": null,
      "outputs": []
    },
    {
      "cell_type": "code",
      "source": [
        "import pandas as pd              #prova2\n",
        "\n",
        "obj = pd.read_pickle(r'filepath')"
      ],
      "metadata": {
        "id": "YpM8Rqb2mjw8"
      },
      "execution_count": null,
      "outputs": []
    }
  ]
}