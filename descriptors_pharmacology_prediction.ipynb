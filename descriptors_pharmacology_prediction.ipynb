{
  "nbformat": 4,
  "nbformat_minor": 0,
  "metadata": {
    "colab": {
      "name": "descriptors_pharmacology_prediction.ipynb",
      "provenance": [],
      "collapsed_sections": [],
      "authorship_tag": "ABX9TyPrZhvBxddWIn3wXAzCj5Yq",
      "include_colab_link": true
    },
    "kernelspec": {
      "name": "python3",
      "display_name": "Python 3"
    },
    "language_info": {
      "name": "python"
    }
  },
  "cells": [
    {
      "cell_type": "markdown",
      "metadata": {
        "id": "view-in-github",
        "colab_type": "text"
      },
      "source": [
        "<a href=\"https://colab.research.google.com/github/francescopatane96/Bioactivity-prediction-with-ML/blob/main/descriptors_pharmacology_prediction.ipynb\" target=\"_parent\"><img src=\"https://colab.research.google.com/assets/colab-badge.svg\" alt=\"Open In Colab\"/></a>"
      ]
    },
    {
      "cell_type": "code",
      "source": [
        "import pandas as pd\n",
        "df3 = pd.read_csv('acetylcholinesterase_04_bioactivity_data_3class_pIC50.csv')\n",
        "df3"
      ],
      "metadata": {
        "id": "O5VRRAQq_16g"
      },
      "execution_count": null,
      "outputs": []
    },
    {
      "cell_type": "code",
      "source": [
        "# Drop Unnamed column\n",
        "activity = activity.drop(columns='Unnamed: 0')\n",
        "activity"
      ],
      "metadata": {
        "id": "_SASuXaj7GKm"
      },
      "execution_count": null,
      "outputs": []
    },
    {
      "cell_type": "code",
      "source": [
        "!cat molecule.smi | head -5\n"
      ],
      "metadata": {
        "id": "VT1y57t0AmDo"
      },
      "execution_count": null,
      "outputs": []
    },
    {
      "cell_type": "code",
      "source": [
        "!cat molecule.smi | wc -l"
      ],
      "metadata": {
        "id": "khD4WoXMA2Pw"
      },
      "execution_count": null,
      "outputs": []
    },
    {
      "cell_type": "code",
      "source": [
        "!cat padel.sh\n"
      ],
      "metadata": {
        "id": "ziX1JKcM_p1w"
      },
      "execution_count": null,
      "outputs": []
    },
    {
      "cell_type": "code",
      "source": [
        "!unrar x PaDEL-Descriptor.rar"
      ],
      "metadata": {
        "id": "5TVJ6aItDn9o"
      },
      "execution_count": null,
      "outputs": []
    },
    {
      "cell_type": "code",
      "source": [
        "#!/bin/sh\n",
        "\n"
      ],
      "metadata": {
        "id": "h9ztJDpoBB5w"
      },
      "execution_count": null,
      "outputs": []
    },
    {
      "cell_type": "code",
      "source": [
        "!bash padel.sh"
      ],
      "metadata": {
        "id": "qPKJ5uBHB8U5"
      },
      "execution_count": null,
      "outputs": []
    },
    {
      "cell_type": "code",
      "source": [
        "!ls -l"
      ],
      "metadata": {
        "id": "uEZU-b5__nTa"
      },
      "execution_count": null,
      "outputs": []
    },
    {
      "cell_type": "code",
      "source": [
        "# Collect descriptor output\n",
        "actx = pd.read_csv('descriptors_output.csv')\n",
        "actx"
      ],
      "metadata": {
        "id": "x-AwtULl6JcZ"
      },
      "execution_count": null,
      "outputs": []
    },
    {
      "cell_type": "code",
      "source": [
        "# Drop the Name-column\n",
        "actx = actx.drop(columns='Name')\n",
        "actx"
      ],
      "metadata": {
        "id": "ZY0T0FqV6aZA"
      },
      "execution_count": null,
      "outputs": []
    },
    {
      "cell_type": "code",
      "source": [
        "acty = activity.pIC50\n",
        "acty"
      ],
      "metadata": {
        "id": "fQ2RDtXE6glL"
      },
      "execution_count": null,
      "outputs": []
    },
    {
      "cell_type": "code",
      "source": [
        "# Form combined dataset\n",
        "datasetxy = pd.concat([actx, acty], axis=1)\n",
        "datasetxy"
      ],
      "metadata": {
        "id": "-PRisVBi6krQ"
      },
      "execution_count": null,
      "outputs": []
    },
    {
      "cell_type": "code",
      "source": [
        "# Saving this data to csv file\n",
        "datasetxy.to_csv('dataset_with_padel_pIC50.csv', index=False)"
      ],
      "metadata": {
        "id": "MxcSbGoh6t0r"
      },
      "execution_count": null,
      "outputs": []
    }
  ]
}