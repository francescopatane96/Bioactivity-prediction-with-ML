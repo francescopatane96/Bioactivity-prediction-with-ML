{
  "nbformat": 4,
  "nbformat_minor": 0,
  "metadata": {
    "colab": {
      "name": "bioactivity_app.ipynb",
      "provenance": [],
      "collapsed_sections": [],
      "authorship_tag": "ABX9TyN7Rb4zYb4lFzx167QUoDrX",
      "include_colab_link": true
    },
    "kernelspec": {
      "name": "python3",
      "display_name": "Python 3"
    },
    "language_info": {
      "name": "python"
    }
  },
  "cells": [
    {
      "cell_type": "markdown",
      "metadata": {
        "id": "view-in-github",
        "colab_type": "text"
      },
      "source": [
        "<a href=\"https://colab.research.google.com/github/francescopatane96/Bioactivity-prediction-with-ML/blob/main/bioactivity_app.ipynb\" target=\"_parent\"><img src=\"https://colab.research.google.com/assets/colab-badge.svg\" alt=\"Open In Colab\"/></a>"
      ]
    },
    {
      "cell_type": "code",
      "execution_count": null,
      "metadata": {
        "id": "DWpe_woqGe3f"
      },
      "outputs": [],
      "source": [
        "import pandas as pd"
      ]
    },
    {
      "cell_type": "code",
      "source": [
        "dataset = pd.read_csv('acetylcholinesterase_06_bioactivity_data_3class_pIC50_pubchem_fp.csv')\n",
        "dataset"
      ],
      "metadata": {
        "id": "d0058f_wGhSe"
      },
      "execution_count": null,
      "outputs": []
    },
    {
      "cell_type": "code",
      "source": [
        "X = dataset.drop(['pIC50'], axis=1)\n",
        "X"
      ],
      "metadata": {
        "id": "0p_XpkvsG8cm"
      },
      "execution_count": null,
      "outputs": []
    },
    {
      "cell_type": "code",
      "source": [
        "y = dataset.iloc[:,-1]\n",
        "y"
      ],
      "metadata": {
        "id": "bOeX0RZsHITN"
      },
      "execution_count": null,
      "outputs": []
    },
    {
      "cell_type": "code",
      "source": [
        "from sklearn.feature_selection import VarianceThreshold\n",
        "\n",
        "def remove_low_variance(input_data, threshold=0.1):\n",
        "    selection = VarianceThreshold(threshold)\n",
        "    selection.fit(input_data)\n",
        "    return input_data[input_data.columns[selection.get_support(indices=True)]]\n",
        "\n",
        "X = remove_low_variance(X, threshold=0.1)\n",
        "X"
      ],
      "metadata": {
        "id": "H0n5vq2cHSCt"
      },
      "execution_count": null,
      "outputs": []
    },
    {
      "cell_type": "code",
      "source": [
        "X.to_csv('descriptor_list.csv', index = False)"
      ],
      "metadata": {
        "id": "jUWgX5LSHVKE"
      },
      "execution_count": null,
      "outputs": []
    },
    {
      "cell_type": "code",
      "source": [
        "from sklearn.ensemble import RandomForestRegressor\n",
        "from sklearn.metrics import mean_squared_error, r2_score\n",
        "import numpy as np"
      ],
      "metadata": {
        "id": "q6D68kbeHsOs"
      },
      "execution_count": null,
      "outputs": []
    },
    {
      "cell_type": "code",
      "source": [
        "df = pd.read_csv('acetylcholinesterase_06_bioactivity_data_3class_pIC50_pubchem_fp.csv')\n",
        "df1 = df.replace([np.inf, -np.inf], np.nan)"
      ],
      "metadata": {
        "id": "x1-5zXeKIOb8"
      },
      "execution_count": null,
      "outputs": []
    },
    {
      "cell_type": "code",
      "source": [
        "df2 = df1.drop(5463)"
      ],
      "metadata": {
        "id": "XA3_KQWMInlE"
      },
      "execution_count": null,
      "outputs": []
    },
    {
      "cell_type": "code",
      "source": [
        "X = df2.drop('pIC50', axis=1)\n",
        "X"
      ],
      "metadata": {
        "id": "wS0WPeTxI07u"
      },
      "execution_count": null,
      "outputs": []
    },
    {
      "cell_type": "code",
      "source": [
        "y = df2.pIC50\n",
        "y"
      ],
      "metadata": {
        "id": "gQTF8lgbJBnj"
      },
      "execution_count": null,
      "outputs": []
    },
    {
      "cell_type": "code",
      "source": [
        "model = RandomForestRegressor(n_estimators=500, random_state=42)\n",
        "model.fit(X, y)\n",
        "r2 = model.score(X, y)\n",
        "r2"
      ],
      "metadata": {
        "id": "OH80wlkTHxJm"
      },
      "execution_count": null,
      "outputs": []
    },
    {
      "cell_type": "code",
      "source": [
        "y_pred = model.predict(X)\n",
        "y_pred"
      ],
      "metadata": {
        "id": "zO2gIYFjJluL"
      },
      "execution_count": null,
      "outputs": []
    },
    {
      "cell_type": "markdown",
      "source": [
        "Model performance"
      ],
      "metadata": {
        "id": "igQYxVnvJrW8"
      }
    },
    {
      "cell_type": "code",
      "source": [
        "print('Mean squared error (MSE): %.2f'\n",
        "      % mean_squared_error(y, y_pred))\n",
        "print('Coefficient of determination (R^2): %.2f'\n",
        "      % r2_score(y, y_pred))"
      ],
      "metadata": {
        "id": "LEbVp4DnJtAl"
      },
      "execution_count": null,
      "outputs": []
    },
    {
      "cell_type": "markdown",
      "source": [
        "Data visualization"
      ],
      "metadata": {
        "id": "HqQovC1NJ3aN"
      }
    },
    {
      "cell_type": "code",
      "source": [
        "import matplotlib.pyplot as plt\n",
        "import numpy as np"
      ],
      "metadata": {
        "id": "AEao7f5PJ46E"
      },
      "execution_count": null,
      "outputs": []
    },
    {
      "cell_type": "code",
      "source": [
        "plt.figure(figsize=(5,5))\n",
        "plt.scatter(x=y, y=y_pred, c=\"#7CAE00\", alpha=0.3)\n",
        "\n",
        "# Add trendline\n",
        "# https://stackoverflow.com/questions/26447191/how-to-add-trendline-in-python-matplotlib-dot-scatter-graphs\n",
        "z = np.polyfit(y, y_pred, 1)\n",
        "p = np.poly1d(z)\n",
        "\n",
        "plt.plot(y,p(y),\"#F8766D\")\n",
        "plt.ylabel('Predicted pIC50')\n",
        "plt.xlabel('Experimental pIC50')"
      ],
      "metadata": {
        "id": "nHnR8wLLJ7Nd"
      },
      "execution_count": null,
      "outputs": []
    },
    {
      "cell_type": "markdown",
      "source": [
        "save model as Pickle Object"
      ],
      "metadata": {
        "id": "QbpxiVzEKJO1"
      }
    },
    {
      "cell_type": "code",
      "source": [
        "import pickle"
      ],
      "metadata": {
        "id": "-k_5Aha9KLXM"
      },
      "execution_count": null,
      "outputs": []
    },
    {
      "cell_type": "code",
      "source": [
        "pickle.dump(model, open('acetylcholinesterase_model.pkl', 'wb'))"
      ],
      "metadata": {
        "id": "XqC9MsZBKNZ7"
      },
      "execution_count": null,
      "outputs": []
    }
  ]
}