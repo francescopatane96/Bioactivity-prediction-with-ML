{
  "nbformat": 4,
  "nbformat_minor": 0,
  "metadata": {
    "colab": {
      "name": "bioprediction_part2.ipynb",
      "provenance": [],
      "authorship_tag": "ABX9TyMa7ZQaXD3eQ/QhJqrtDP/d",
      "include_colab_link": true
    },
    "kernelspec": {
      "name": "python3",
      "display_name": "Python 3"
    },
    "language_info": {
      "name": "python"
    }
  },
  "cells": [
    {
      "cell_type": "markdown",
      "metadata": {
        "id": "view-in-github",
        "colab_type": "text"
      },
      "source": [
        "<a href=\"https://colab.research.google.com/github/francescopatane96/Bioactivity-prediction-with-ML/blob/main/bioprediction_part2.ipynb\" target=\"_parent\"><img src=\"https://colab.research.google.com/assets/colab-badge.svg\" alt=\"Open In Colab\"/></a>"
      ]
    },
    {
      "cell_type": "markdown",
      "source": [
        "Compare ML models\n",
        "download from colab file bioprediction_part1 the dataset file 'dataset_with_padel_pIC50.csv' and upload it in this colab."
      ],
      "metadata": {
        "id": "lV1_u9B6oS5V"
      }
    },
    {
      "cell_type": "markdown",
      "source": [
        "install lazypredict, then restart the runtime"
      ],
      "metadata": {
        "id": "rm5eRIA1oDot"
      }
    },
    {
      "cell_type": "code",
      "execution_count": null,
      "metadata": {
        "id": "01OYflnNnV4j"
      },
      "outputs": [],
      "source": [
        "!pip install lazypredict"
      ]
    },
    {
      "cell_type": "code",
      "source": [
        "import pandas as pd\n",
        "import sklearn\n",
        "import seaborn as sns\n",
        "from sklearn.model_selection import train_test_split\n",
        "import lazypredict\n",
        "from lazypredict.Supervised import LazyRegressor\n",
        "from lazypredict.Supervised import LazyClassifier\n",
        "import numpy as np"
      ],
      "metadata": {
        "id": "dmJhNbcTndK3"
      },
      "execution_count": null,
      "outputs": []
    },
    {
      "cell_type": "code",
      "source": [
        "# Importing data\n",
        "data = pd.read_csv('dataset_with_padel_pIC50.csv')\n",
        "data"
      ],
      "metadata": {
        "id": "SjWEaUMJoCCF"
      },
      "execution_count": null,
      "outputs": []
    },
    {
      "cell_type": "code",
      "source": [
        "# Feature for proving and Proving our data\n",
        "def check_missing_values(dataframe):\n",
        "    \n",
        "    if dataframe.isnull().sum().sum() > 0:\n",
        "        m_total = dataframe.isnull().sum().sort_values(ascending=False) \n",
        "        total = m_total[m_total > 0]\n",
        "\n",
        "        m_percent = dataframe.isnull().mean().sort_values(ascending=False) \n",
        "        percent = m_percent[m_percent > 0] \n",
        "\n",
        "        missing_data = pd.concat([total, percent], axis=1, keys=['Total', 'Percent'])\n",
        "    \n",
        "        print(f'Total and Percentage of NaN:\\n {missing_data}')\n",
        "    else: \n",
        "        print('No NaN found.')\n",
        "        \n",
        "        \n",
        "check_missing_values(dataframe=data)"
      ],
      "metadata": {
        "id": "s8oVj0iaoaAj"
      },
      "execution_count": null,
      "outputs": []
    },
    {
      "cell_type": "code",
      "source": [
        "# Remove NaN\n",
        "data = data.dropna()"
      ],
      "metadata": {
        "id": "E6aXMHcNocjN"
      },
      "execution_count": null,
      "outputs": []
    },
    {
      "cell_type": "code",
      "source": [
        "# Making X and Y column\n",
        "X = data.drop(columns='pIC50')\n",
        "Y = data.pIC50"
      ],
      "metadata": {
        "id": "_WjSitwWofAM"
      },
      "execution_count": null,
      "outputs": []
    },
    {
      "cell_type": "code",
      "source": [
        "print(X.shape)\n",
        "print(Y.shape)"
      ],
      "metadata": {
        "id": "QyIZGMHoog8c"
      },
      "execution_count": null,
      "outputs": []
    },
    {
      "cell_type": "code",
      "source": [
        "# Remove low variance indicators\n",
        "from sklearn.feature_selection import VarianceThreshold\n",
        "selection = VarianceThreshold(threshold=(.8 * (1 - .8)))    \n",
        "X = selection.fit_transform(X)\n",
        "X = X.astype('int32')\n",
        "X.shape"
      ],
      "metadata": {
        "id": "75rvDf3qoit9"
      },
      "execution_count": null,
      "outputs": []
    },
    {
      "cell_type": "code",
      "source": [
        "# Spliting data in 80\\20 ratio\n",
        "X_train, X_test, Y_train, Y_test = train_test_split(X, Y, test_size=.2, random_state=42)"
      ],
      "metadata": {
        "id": "2EyIIULVoksc"
      },
      "execution_count": null,
      "outputs": []
    },
    {
      "cell_type": "code",
      "source": [
        "# Seeing the data that was prepared\n",
        "X_train.shape, Y_train.shape, X_test.shape, Y_test.shape"
      ],
      "metadata": {
        "id": "fuEp2QUoomkU"
      },
      "execution_count": null,
      "outputs": []
    },
    {
      "cell_type": "code",
      "source": [
        "# Defines and builds the lazyclassifier\n",
        "reg = LazyRegressor(verbose=0,ignore_warnings=True, custom_metric=None)\n",
        "models_train,predictions_train = reg.fit(X_train, X_train, Y_train, Y_train)"
      ],
      "metadata": {
        "id": "IvaN027tooUN"
      },
      "execution_count": null,
      "outputs": []
    },
    {
      "cell_type": "code",
      "source": [
        "# Performance table of the training set (80% subset)\n",
        "models_train"
      ],
      "metadata": {
        "id": "I3IH1lnfoqJM"
      },
      "execution_count": null,
      "outputs": []
    },
    {
      "cell_type": "code",
      "source": [
        "# Checking the study on a test sample\n",
        "reg = LazyRegressor(verbose=0,ignore_warnings=True, custom_metric=None)\n",
        "models_test,predictions_test = reg.fit(X_train, X_test, Y_train, Y_test)"
      ],
      "metadata": {
        "id": "QX7nB4QnosFs"
      },
      "execution_count": null,
      "outputs": []
    },
    {
      "cell_type": "code",
      "source": [
        "models_test"
      ],
      "metadata": {
        "id": "Ybwy3kvbot21"
      },
      "execution_count": null,
      "outputs": []
    }
  ]
}