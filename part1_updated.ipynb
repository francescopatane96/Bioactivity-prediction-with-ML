{
  "cells": [
    {
      "cell_type": "markdown",
      "metadata": {
        "id": "view-in-github",
        "colab_type": "text"
      },
      "source": [
        "<a href=\"https://colab.research.google.com/github/francescopatane96/Bioactivity-prediction-with-ML/blob/main/part1_updated.ipynb\" target=\"_parent\"><img src=\"https://colab.research.google.com/assets/colab-badge.svg\" alt=\"Open In Colab\"/></a>"
      ]
    },
    {
      "cell_type": "markdown",
      "source": [
        "In this module, you will learn more about the ChEMBL database and how to extract data from it for a target of interest. Data sets can be used for many cheminformatics tasks, eg. similarity search and clustering or machine learning.\n",
        "\n",
        "In this notebook you will find compounds which were tested against a specific target and filtering available bioactivity data."
      ],
      "metadata": {
        "id": "Oe1lkXvnZMPn"
      }
    },
    {
      "cell_type": "code",
      "execution_count": 1,
      "metadata": {
        "id": "e106nlobq1s0",
        "colab": {
          "base_uri": "https://localhost:8080/"
        },
        "outputId": "e22d8491-2d1e-4a17-ecd5-28b83ed41fec"
      },
      "outputs": [
        {
          "output_type": "stream",
          "name": "stdout",
          "text": [
            "Looking in indexes: https://pypi.org/simple, https://us-python.pkg.dev/colab-wheels/public/simple/\n",
            "Collecting chembl_webresource_client\n",
            "  Downloading chembl_webresource_client-0.10.8-py3-none-any.whl (55 kB)\n",
            "\u001b[K     |████████████████████████████████| 55 kB 1.8 MB/s \n",
            "\u001b[?25hCollecting requests-cache~=0.7.0\n",
            "  Downloading requests_cache-0.7.5-py3-none-any.whl (39 kB)\n",
            "Requirement already satisfied: requests>=2.18.4 in /usr/local/lib/python3.7/dist-packages (from chembl_webresource_client) (2.23.0)\n",
            "Requirement already satisfied: easydict in /usr/local/lib/python3.7/dist-packages (from chembl_webresource_client) (1.9)\n",
            "Requirement already satisfied: urllib3 in /usr/local/lib/python3.7/dist-packages (from chembl_webresource_client) (1.24.3)\n",
            "Requirement already satisfied: certifi>=2017.4.17 in /usr/local/lib/python3.7/dist-packages (from requests>=2.18.4->chembl_webresource_client) (2022.6.15)\n",
            "Requirement already satisfied: chardet<4,>=3.0.2 in /usr/local/lib/python3.7/dist-packages (from requests>=2.18.4->chembl_webresource_client) (3.0.4)\n",
            "Requirement already satisfied: idna<3,>=2.5 in /usr/local/lib/python3.7/dist-packages (from requests>=2.18.4->chembl_webresource_client) (2.10)\n",
            "Requirement already satisfied: pyyaml>=5.4 in /usr/local/lib/python3.7/dist-packages (from requests-cache~=0.7.0->chembl_webresource_client) (6.0)\n",
            "Collecting url-normalize<2.0,>=1.4\n",
            "  Downloading url_normalize-1.4.3-py2.py3-none-any.whl (6.8 kB)\n",
            "Collecting attrs<22.0,>=21.2\n",
            "  Downloading attrs-21.4.0-py2.py3-none-any.whl (60 kB)\n",
            "\u001b[K     |████████████████████████████████| 60 kB 4.2 MB/s \n",
            "\u001b[?25hCollecting itsdangerous>=2.0.1\n",
            "  Downloading itsdangerous-2.1.2-py3-none-any.whl (15 kB)\n",
            "Requirement already satisfied: six in /usr/local/lib/python3.7/dist-packages (from url-normalize<2.0,>=1.4->requests-cache~=0.7.0->chembl_webresource_client) (1.15.0)\n",
            "Installing collected packages: url-normalize, itsdangerous, attrs, requests-cache, chembl-webresource-client\n",
            "  Attempting uninstall: itsdangerous\n",
            "    Found existing installation: itsdangerous 1.1.0\n",
            "    Uninstalling itsdangerous-1.1.0:\n",
            "      Successfully uninstalled itsdangerous-1.1.0\n",
            "  Attempting uninstall: attrs\n",
            "    Found existing installation: attrs 22.1.0\n",
            "    Uninstalling attrs-22.1.0:\n",
            "      Successfully uninstalled attrs-22.1.0\n",
            "\u001b[31mERROR: pip's dependency resolver does not currently take into account all the packages that are installed. This behaviour is the source of the following dependency conflicts.\n",
            "flask 1.1.4 requires itsdangerous<2.0,>=0.24, but you have itsdangerous 2.1.2 which is incompatible.\u001b[0m\n",
            "Successfully installed attrs-21.4.0 chembl-webresource-client-0.10.8 itsdangerous-2.1.2 requests-cache-0.7.5 url-normalize-1.4.3\n"
          ]
        }
      ],
      "source": [
        "! pip install chembl_webresource_client    "
      ]
    },
    {
      "cell_type": "code",
      "execution_count": 2,
      "metadata": {
        "id": "U5H59_sy50Eh",
        "colab": {
          "base_uri": "https://localhost:8080/"
        },
        "outputId": "19fe338d-d541-4515-efbc-9fd4660bf3ee"
      },
      "outputs": [
        {
          "output_type": "stream",
          "name": "stdout",
          "text": [
            "Looking in indexes: https://pypi.org/simple, https://us-python.pkg.dev/colab-wheels/public/simple/\n",
            "Collecting rdkit\n",
            "  Downloading rdkit-2022.3.5-cp37-cp37m-manylinux_2_17_x86_64.manylinux2014_x86_64.whl (36.8 MB)\n",
            "\u001b[K     |████████████████████████████████| 36.8 MB 1.4 MB/s \n",
            "\u001b[?25hRequirement already satisfied: numpy in /usr/local/lib/python3.7/dist-packages (from rdkit) (1.21.6)\n",
            "Requirement already satisfied: Pillow in /usr/local/lib/python3.7/dist-packages (from rdkit) (7.1.2)\n",
            "Installing collected packages: rdkit\n",
            "Successfully installed rdkit-2022.3.5\n"
          ]
        }
      ],
      "source": [
        "!pip install rdkit"
      ]
    },
    {
      "cell_type": "code",
      "execution_count": 62,
      "metadata": {
        "id": "GheijY-dsL_O"
      },
      "outputs": [],
      "source": [
        "import pandas as pd\n",
        "import math\n",
        "import rdkit\n",
        "from tqdm.auto import tqdm\n",
        "from chembl_webresource_client.new_client import new_client\n",
        "from pandas import DataFrame\n",
        "import numpy as np\n",
        "from rdkit import Chem\n",
        "from rdkit.Chem import Descriptors, Lipinski, PandasTools\n",
        "import seaborn as sns\n",
        "import matplotlib.pyplot as plt\n",
        "from sklearn.model_selection import train_test_split\n",
        "from sklearn.ensemble import RandomForestRegressor\n",
        "from sklearn.feature_selection import VarianceThreshold\n",
        "from pathlib import Path\n",
        "from zipfile import ZipFile\n",
        "from tempfile import TemporaryDirectory"
      ]
    },
    {
      "cell_type": "code",
      "source": [
        "HERE = Path(_dh[-1])\n",
        "DATA = HERE / \"data\""
      ],
      "metadata": {
        "id": "1qRTJhkZcEu4"
      },
      "execution_count": 4,
      "outputs": []
    },
    {
      "cell_type": "markdown",
      "source": [
        "create resource objects for API access"
      ],
      "metadata": {
        "id": "9kcRsLOUcyDt"
      }
    },
    {
      "cell_type": "code",
      "source": [
        "targets_api = new_client.target\n",
        "compounds_api = new_client.molecule\n",
        "bioactivities_api = new_client.activity"
      ],
      "metadata": {
        "id": "Lit-Q2R8cPWG"
      },
      "execution_count": 5,
      "outputs": []
    },
    {
      "cell_type": "code",
      "source": [
        "type(targets_api)  #show the type of the object"
      ],
      "metadata": {
        "colab": {
          "base_uri": "https://localhost:8080/"
        },
        "id": "XVU-T3BJcUg-",
        "outputId": "b3383e2a-83f4-4c04-97cc-5b08be836c93"
      },
      "execution_count": 6,
      "outputs": [
        {
          "output_type": "execute_result",
          "data": {
            "text/plain": [
              "chembl_webresource_client.query_set.QuerySet"
            ]
          },
          "metadata": {},
          "execution_count": 6
        }
      ]
    },
    {
      "cell_type": "code",
      "source": [
        "uniprot_id = \"P00533\"    #change the uniprot ID for your project"
      ],
      "metadata": {
        "id": "qKpN49tuckve"
      },
      "execution_count": 7,
      "outputs": []
    },
    {
      "cell_type": "markdown",
      "source": [
        "Fetch target data from ChEMBL"
      ],
      "metadata": {
        "id": "LXL1ThN-eG_X"
      }
    },
    {
      "cell_type": "code",
      "source": [
        "# Get target information from ChEMBL but restrict it to specified class only\n",
        "targets = targets_api.get(target_components__accession=uniprot_id).only(              ##variable that contains the results of the query\n",
        "    \"target_chembl_id\", \"organism\", \"pref_name\", \"target_type\"\n",
        ")\n",
        "print(f'The type of the targets is \"{type(targets)}\"')"
      ],
      "metadata": {
        "colab": {
          "base_uri": "https://localhost:8080/"
        },
        "id": "4UKb5NCHeRHN",
        "outputId": "bcdc3217-41cb-46ef-8494-7000acc60bc5"
      },
      "execution_count": 8,
      "outputs": [
        {
          "output_type": "stream",
          "name": "stdout",
          "text": [
            "The type of the targets is \"<class 'chembl_webresource_client.query_set.QuerySet'>\"\n"
          ]
        }
      ]
    },
    {
      "cell_type": "markdown",
      "source": [
        "Download target data from ChEMBL"
      ],
      "metadata": {
        "id": "sSItAfALerr9"
      }
    },
    {
      "cell_type": "code",
      "source": [
        "targets = pd.DataFrame(targets)\n",
        "targets"
      ],
      "metadata": {
        "colab": {
          "base_uri": "https://localhost:8080/",
          "height": 300
        },
        "id": "D5TXIYlSeqF1",
        "outputId": "2b140ee6-c5a7-4cb3-d6a2-f3e91f262b14"
      },
      "execution_count": 9,
      "outputs": [
        {
          "output_type": "execute_result",
          "data": {
            "text/plain": [
              "       organism                                          pref_name  \\\n",
              "0  Homo sapiens             Epidermal growth factor receptor erbB1   \n",
              "1  Homo sapiens  Epidermal growth factor receptor and ErbB2 (HE...   \n",
              "2  Homo sapiens                   Epidermal growth factor receptor   \n",
              "3  Homo sapiens  MER intracellular domain/EGFR extracellular do...   \n",
              "4  Homo sapiens  Protein cereblon/Epidermal growth factor receptor   \n",
              "5  Homo sapiens                                        EGFR/PPP1CA   \n",
              "6  Homo sapiens                                           VHL/EGFR   \n",
              "7  Homo sapiens  Baculoviral IAP repeat-containing protein 2/Ep...   \n",
              "\n",
              "  target_chembl_id                  target_type  \n",
              "0        CHEMBL203               SINGLE PROTEIN  \n",
              "1    CHEMBL2111431               PROTEIN FAMILY  \n",
              "2    CHEMBL2363049               PROTEIN FAMILY  \n",
              "3    CHEMBL3137284             CHIMERIC PROTEIN  \n",
              "4    CHEMBL4523680  PROTEIN-PROTEIN INTERACTION  \n",
              "5    CHEMBL4523747  PROTEIN-PROTEIN INTERACTION  \n",
              "6    CHEMBL4523998  PROTEIN-PROTEIN INTERACTION  \n",
              "7    CHEMBL4802031  PROTEIN-PROTEIN INTERACTION  "
            ],
            "text/html": [
              "\n",
              "  <div id=\"df-6b714fa3-7583-4674-b83f-8e9ad9c24426\">\n",
              "    <div class=\"colab-df-container\">\n",
              "      <div>\n",
              "<style scoped>\n",
              "    .dataframe tbody tr th:only-of-type {\n",
              "        vertical-align: middle;\n",
              "    }\n",
              "\n",
              "    .dataframe tbody tr th {\n",
              "        vertical-align: top;\n",
              "    }\n",
              "\n",
              "    .dataframe thead th {\n",
              "        text-align: right;\n",
              "    }\n",
              "</style>\n",
              "<table border=\"1\" class=\"dataframe\">\n",
              "  <thead>\n",
              "    <tr style=\"text-align: right;\">\n",
              "      <th></th>\n",
              "      <th>organism</th>\n",
              "      <th>pref_name</th>\n",
              "      <th>target_chembl_id</th>\n",
              "      <th>target_type</th>\n",
              "    </tr>\n",
              "  </thead>\n",
              "  <tbody>\n",
              "    <tr>\n",
              "      <th>0</th>\n",
              "      <td>Homo sapiens</td>\n",
              "      <td>Epidermal growth factor receptor erbB1</td>\n",
              "      <td>CHEMBL203</td>\n",
              "      <td>SINGLE PROTEIN</td>\n",
              "    </tr>\n",
              "    <tr>\n",
              "      <th>1</th>\n",
              "      <td>Homo sapiens</td>\n",
              "      <td>Epidermal growth factor receptor and ErbB2 (HE...</td>\n",
              "      <td>CHEMBL2111431</td>\n",
              "      <td>PROTEIN FAMILY</td>\n",
              "    </tr>\n",
              "    <tr>\n",
              "      <th>2</th>\n",
              "      <td>Homo sapiens</td>\n",
              "      <td>Epidermal growth factor receptor</td>\n",
              "      <td>CHEMBL2363049</td>\n",
              "      <td>PROTEIN FAMILY</td>\n",
              "    </tr>\n",
              "    <tr>\n",
              "      <th>3</th>\n",
              "      <td>Homo sapiens</td>\n",
              "      <td>MER intracellular domain/EGFR extracellular do...</td>\n",
              "      <td>CHEMBL3137284</td>\n",
              "      <td>CHIMERIC PROTEIN</td>\n",
              "    </tr>\n",
              "    <tr>\n",
              "      <th>4</th>\n",
              "      <td>Homo sapiens</td>\n",
              "      <td>Protein cereblon/Epidermal growth factor receptor</td>\n",
              "      <td>CHEMBL4523680</td>\n",
              "      <td>PROTEIN-PROTEIN INTERACTION</td>\n",
              "    </tr>\n",
              "    <tr>\n",
              "      <th>5</th>\n",
              "      <td>Homo sapiens</td>\n",
              "      <td>EGFR/PPP1CA</td>\n",
              "      <td>CHEMBL4523747</td>\n",
              "      <td>PROTEIN-PROTEIN INTERACTION</td>\n",
              "    </tr>\n",
              "    <tr>\n",
              "      <th>6</th>\n",
              "      <td>Homo sapiens</td>\n",
              "      <td>VHL/EGFR</td>\n",
              "      <td>CHEMBL4523998</td>\n",
              "      <td>PROTEIN-PROTEIN INTERACTION</td>\n",
              "    </tr>\n",
              "    <tr>\n",
              "      <th>7</th>\n",
              "      <td>Homo sapiens</td>\n",
              "      <td>Baculoviral IAP repeat-containing protein 2/Ep...</td>\n",
              "      <td>CHEMBL4802031</td>\n",
              "      <td>PROTEIN-PROTEIN INTERACTION</td>\n",
              "    </tr>\n",
              "  </tbody>\n",
              "</table>\n",
              "</div>\n",
              "      <button class=\"colab-df-convert\" onclick=\"convertToInteractive('df-6b714fa3-7583-4674-b83f-8e9ad9c24426')\"\n",
              "              title=\"Convert this dataframe to an interactive table.\"\n",
              "              style=\"display:none;\">\n",
              "        \n",
              "  <svg xmlns=\"http://www.w3.org/2000/svg\" height=\"24px\"viewBox=\"0 0 24 24\"\n",
              "       width=\"24px\">\n",
              "    <path d=\"M0 0h24v24H0V0z\" fill=\"none\"/>\n",
              "    <path d=\"M18.56 5.44l.94 2.06.94-2.06 2.06-.94-2.06-.94-.94-2.06-.94 2.06-2.06.94zm-11 1L8.5 8.5l.94-2.06 2.06-.94-2.06-.94L8.5 2.5l-.94 2.06-2.06.94zm10 10l.94 2.06.94-2.06 2.06-.94-2.06-.94-.94-2.06-.94 2.06-2.06.94z\"/><path d=\"M17.41 7.96l-1.37-1.37c-.4-.4-.92-.59-1.43-.59-.52 0-1.04.2-1.43.59L10.3 9.45l-7.72 7.72c-.78.78-.78 2.05 0 2.83L4 21.41c.39.39.9.59 1.41.59.51 0 1.02-.2 1.41-.59l7.78-7.78 2.81-2.81c.8-.78.8-2.07 0-2.86zM5.41 20L4 18.59l7.72-7.72 1.47 1.35L5.41 20z\"/>\n",
              "  </svg>\n",
              "      </button>\n",
              "      \n",
              "  <style>\n",
              "    .colab-df-container {\n",
              "      display:flex;\n",
              "      flex-wrap:wrap;\n",
              "      gap: 12px;\n",
              "    }\n",
              "\n",
              "    .colab-df-convert {\n",
              "      background-color: #E8F0FE;\n",
              "      border: none;\n",
              "      border-radius: 50%;\n",
              "      cursor: pointer;\n",
              "      display: none;\n",
              "      fill: #1967D2;\n",
              "      height: 32px;\n",
              "      padding: 0 0 0 0;\n",
              "      width: 32px;\n",
              "    }\n",
              "\n",
              "    .colab-df-convert:hover {\n",
              "      background-color: #E2EBFA;\n",
              "      box-shadow: 0px 1px 2px rgba(60, 64, 67, 0.3), 0px 1px 3px 1px rgba(60, 64, 67, 0.15);\n",
              "      fill: #174EA6;\n",
              "    }\n",
              "\n",
              "    [theme=dark] .colab-df-convert {\n",
              "      background-color: #3B4455;\n",
              "      fill: #D2E3FC;\n",
              "    }\n",
              "\n",
              "    [theme=dark] .colab-df-convert:hover {\n",
              "      background-color: #434B5C;\n",
              "      box-shadow: 0px 1px 3px 1px rgba(0, 0, 0, 0.15);\n",
              "      filter: drop-shadow(0px 1px 2px rgba(0, 0, 0, 0.3));\n",
              "      fill: #FFFFFF;\n",
              "    }\n",
              "  </style>\n",
              "\n",
              "      <script>\n",
              "        const buttonEl =\n",
              "          document.querySelector('#df-6b714fa3-7583-4674-b83f-8e9ad9c24426 button.colab-df-convert');\n",
              "        buttonEl.style.display =\n",
              "          google.colab.kernel.accessAllowed ? 'block' : 'none';\n",
              "\n",
              "        async function convertToInteractive(key) {\n",
              "          const element = document.querySelector('#df-6b714fa3-7583-4674-b83f-8e9ad9c24426');\n",
              "          const dataTable =\n",
              "            await google.colab.kernel.invokeFunction('convertToInteractive',\n",
              "                                                     [key], {});\n",
              "          if (!dataTable) return;\n",
              "\n",
              "          const docLinkHtml = 'Like what you see? Visit the ' +\n",
              "            '<a target=\"_blank\" href=https://colab.research.google.com/notebooks/data_table.ipynb>data table notebook</a>'\n",
              "            + ' to learn more about interactive tables.';\n",
              "          element.innerHTML = '';\n",
              "          dataTable['output_type'] = 'display_data';\n",
              "          await google.colab.output.renderOutput(dataTable, element);\n",
              "          const docLink = document.createElement('div');\n",
              "          docLink.innerHTML = docLinkHtml;\n",
              "          element.appendChild(docLink);\n",
              "        }\n",
              "      </script>\n",
              "    </div>\n",
              "  </div>\n",
              "  "
            ]
          },
          "metadata": {},
          "execution_count": 9
        }
      ]
    },
    {
      "cell_type": "markdown",
      "source": [
        "Select target (ChEMBL ID)"
      ],
      "metadata": {
        "id": "bx1U-xWjfo23"
      }
    },
    {
      "cell_type": "code",
      "source": [
        "target = targets.iloc[0]\n",
        "target"
      ],
      "metadata": {
        "colab": {
          "base_uri": "https://localhost:8080/"
        },
        "id": "sewq42tUgorQ",
        "outputId": "6725a3b9-d79a-4b35-9d43-6c1c15e55d22"
      },
      "execution_count": 10,
      "outputs": [
        {
          "output_type": "execute_result",
          "data": {
            "text/plain": [
              "organism                                      Homo sapiens\n",
              "pref_name           Epidermal growth factor receptor erbB1\n",
              "target_chembl_id                                 CHEMBL203\n",
              "target_type                                 SINGLE PROTEIN\n",
              "Name: 0, dtype: object"
            ]
          },
          "metadata": {},
          "execution_count": 10
        }
      ]
    },
    {
      "cell_type": "markdown",
      "source": [
        "save chembl id"
      ],
      "metadata": {
        "id": "cbgfetyajN_d"
      }
    },
    {
      "cell_type": "code",
      "source": [
        "target_id = target.target_chembl_id\n",
        "print(f\"The target ChEMBL ID is {target_id}\")"
      ],
      "metadata": {
        "colab": {
          "base_uri": "https://localhost:8080/"
        },
        "id": "hJTy18a9iQs1",
        "outputId": "637ddb43-1d0b-49cc-b3d3-a26956c27739"
      },
      "execution_count": 11,
      "outputs": [
        {
          "output_type": "stream",
          "name": "stdout",
          "text": [
            "The target ChEMBL ID is CHEMBL203\n"
          ]
        }
      ]
    },
    {
      "cell_type": "markdown",
      "source": [
        "Get Bioactivity data"
      ],
      "metadata": {
        "id": "XHHY1Oa6kk8W"
      }
    },
    {
      "cell_type": "code",
      "source": [
        "bioactivities = bioactivities_api.filter(\n",
        "    target_chembl_id=target_id, type=\"IC50\", relation=\"=\", assay_type=\"B\"\n",
        ").only(\n",
        "    \"activity_id\",\n",
        "    \"assay_chembl_id\",\n",
        "    \"assay_description\",\n",
        "    \"assay_type\",\n",
        "    \"molecule_chembl_id\",\n",
        "    \"type\",\n",
        "    \"standard_units\",\n",
        "    \"relation\",\n",
        "    \"standard_value\",\n",
        "    \"target_chembl_id\",\n",
        "    \"target_organism\",\n",
        ")\n",
        "\n",
        "print(f\"Length and type of bioactivities object: {len(bioactivities)}, {type(bioactivities)}\")"
      ],
      "metadata": {
        "colab": {
          "base_uri": "https://localhost:8080/"
        },
        "id": "DDowRa21ft0l",
        "outputId": "fee21695-bde6-4e0c-f926-5a9d1750fab2"
      },
      "execution_count": 12,
      "outputs": [
        {
          "output_type": "stream",
          "name": "stdout",
          "text": [
            "Length and type of bioactivities object: 9429, <class 'chembl_webresource_client.query_set.QuerySet'>\n"
          ]
        }
      ]
    },
    {
      "cell_type": "code",
      "source": [
        "print(f\"Length and type of first element: {len(bioactivities[0])}, {type(bioactivities[0])}\")\n",
        "bioactivities[0]"
      ],
      "metadata": {
        "colab": {
          "base_uri": "https://localhost:8080/"
        },
        "id": "87Lg52G3lM_9",
        "outputId": "f82b3f16-5515-4d75-9204-f38c0921835e"
      },
      "execution_count": 13,
      "outputs": [
        {
          "output_type": "stream",
          "name": "stdout",
          "text": [
            "Length and type of first element: 13, <class 'dict'>\n"
          ]
        },
        {
          "output_type": "execute_result",
          "data": {
            "text/plain": [
              "{'activity_id': 32260,\n",
              " 'assay_chembl_id': 'CHEMBL674637',\n",
              " 'assay_description': 'Inhibitory activity towards tyrosine phosphorylation for the epidermal growth factor-receptor kinase',\n",
              " 'assay_type': 'B',\n",
              " 'molecule_chembl_id': 'CHEMBL68920',\n",
              " 'relation': '=',\n",
              " 'standard_units': 'nM',\n",
              " 'standard_value': '41.0',\n",
              " 'target_chembl_id': 'CHEMBL203',\n",
              " 'target_organism': 'Homo sapiens',\n",
              " 'type': 'IC50',\n",
              " 'units': 'uM',\n",
              " 'value': '0.041'}"
            ]
          },
          "metadata": {},
          "execution_count": 13
        }
      ]
    },
    {
      "cell_type": "markdown",
      "source": [
        "Download Bioactivity data from ChEMBL"
      ],
      "metadata": {
        "id": "h_OiF1rdldYd"
      }
    },
    {
      "cell_type": "code",
      "source": [
        "bioactivities_df = pd.DataFrame.from_records(bioactivities)\n",
        "print(f\"DataFrame shape: {bioactivities_df.shape}\")\n",
        "bioactivities_df.head()"
      ],
      "metadata": {
        "colab": {
          "base_uri": "https://localhost:8080/",
          "height": 479
        },
        "id": "tSBwsyeulhJf",
        "outputId": "bfca9c25-245c-44c6-cc2c-83f4dddf1bd4"
      },
      "execution_count": 14,
      "outputs": [
        {
          "output_type": "stream",
          "name": "stdout",
          "text": [
            "DataFrame shape: (9430, 13)\n"
          ]
        },
        {
          "output_type": "execute_result",
          "data": {
            "text/plain": [
              "   activity_id assay_chembl_id  \\\n",
              "0        32260    CHEMBL674637   \n",
              "1        32260    CHEMBL674637   \n",
              "2        32267    CHEMBL674637   \n",
              "3        32680    CHEMBL677833   \n",
              "4        32770    CHEMBL674643   \n",
              "\n",
              "                                   assay_description assay_type  \\\n",
              "0  Inhibitory activity towards tyrosine phosphory...          B   \n",
              "1  Inhibitory activity towards tyrosine phosphory...          B   \n",
              "2  Inhibitory activity towards tyrosine phosphory...          B   \n",
              "3  In vitro inhibition of Epidermal growth factor...          B   \n",
              "4  Inhibitory concentration of EGF dependent auto...          B   \n",
              "\n",
              "  molecule_chembl_id relation standard_units standard_value target_chembl_id  \\\n",
              "0        CHEMBL68920        =             nM           41.0        CHEMBL203   \n",
              "1        CHEMBL68920        =             nM           41.0        CHEMBL203   \n",
              "2        CHEMBL69960        =             nM          170.0        CHEMBL203   \n",
              "3       CHEMBL137635        =             nM         9300.0        CHEMBL203   \n",
              "4       CHEMBL306988        =             nM       500000.0        CHEMBL203   \n",
              "\n",
              "  target_organism  type units  value  \n",
              "0    Homo sapiens  IC50    uM  0.041  \n",
              "1    Homo sapiens  IC50    uM  0.041  \n",
              "2    Homo sapiens  IC50    uM   0.17  \n",
              "3    Homo sapiens  IC50    uM    9.3  \n",
              "4    Homo sapiens  IC50    uM  500.0  "
            ],
            "text/html": [
              "\n",
              "  <div id=\"df-a32f9ac6-8223-4354-bc71-1d3432e929d5\">\n",
              "    <div class=\"colab-df-container\">\n",
              "      <div>\n",
              "<style scoped>\n",
              "    .dataframe tbody tr th:only-of-type {\n",
              "        vertical-align: middle;\n",
              "    }\n",
              "\n",
              "    .dataframe tbody tr th {\n",
              "        vertical-align: top;\n",
              "    }\n",
              "\n",
              "    .dataframe thead th {\n",
              "        text-align: right;\n",
              "    }\n",
              "</style>\n",
              "<table border=\"1\" class=\"dataframe\">\n",
              "  <thead>\n",
              "    <tr style=\"text-align: right;\">\n",
              "      <th></th>\n",
              "      <th>activity_id</th>\n",
              "      <th>assay_chembl_id</th>\n",
              "      <th>assay_description</th>\n",
              "      <th>assay_type</th>\n",
              "      <th>molecule_chembl_id</th>\n",
              "      <th>relation</th>\n",
              "      <th>standard_units</th>\n",
              "      <th>standard_value</th>\n",
              "      <th>target_chembl_id</th>\n",
              "      <th>target_organism</th>\n",
              "      <th>type</th>\n",
              "      <th>units</th>\n",
              "      <th>value</th>\n",
              "    </tr>\n",
              "  </thead>\n",
              "  <tbody>\n",
              "    <tr>\n",
              "      <th>0</th>\n",
              "      <td>32260</td>\n",
              "      <td>CHEMBL674637</td>\n",
              "      <td>Inhibitory activity towards tyrosine phosphory...</td>\n",
              "      <td>B</td>\n",
              "      <td>CHEMBL68920</td>\n",
              "      <td>=</td>\n",
              "      <td>nM</td>\n",
              "      <td>41.0</td>\n",
              "      <td>CHEMBL203</td>\n",
              "      <td>Homo sapiens</td>\n",
              "      <td>IC50</td>\n",
              "      <td>uM</td>\n",
              "      <td>0.041</td>\n",
              "    </tr>\n",
              "    <tr>\n",
              "      <th>1</th>\n",
              "      <td>32260</td>\n",
              "      <td>CHEMBL674637</td>\n",
              "      <td>Inhibitory activity towards tyrosine phosphory...</td>\n",
              "      <td>B</td>\n",
              "      <td>CHEMBL68920</td>\n",
              "      <td>=</td>\n",
              "      <td>nM</td>\n",
              "      <td>41.0</td>\n",
              "      <td>CHEMBL203</td>\n",
              "      <td>Homo sapiens</td>\n",
              "      <td>IC50</td>\n",
              "      <td>uM</td>\n",
              "      <td>0.041</td>\n",
              "    </tr>\n",
              "    <tr>\n",
              "      <th>2</th>\n",
              "      <td>32267</td>\n",
              "      <td>CHEMBL674637</td>\n",
              "      <td>Inhibitory activity towards tyrosine phosphory...</td>\n",
              "      <td>B</td>\n",
              "      <td>CHEMBL69960</td>\n",
              "      <td>=</td>\n",
              "      <td>nM</td>\n",
              "      <td>170.0</td>\n",
              "      <td>CHEMBL203</td>\n",
              "      <td>Homo sapiens</td>\n",
              "      <td>IC50</td>\n",
              "      <td>uM</td>\n",
              "      <td>0.17</td>\n",
              "    </tr>\n",
              "    <tr>\n",
              "      <th>3</th>\n",
              "      <td>32680</td>\n",
              "      <td>CHEMBL677833</td>\n",
              "      <td>In vitro inhibition of Epidermal growth factor...</td>\n",
              "      <td>B</td>\n",
              "      <td>CHEMBL137635</td>\n",
              "      <td>=</td>\n",
              "      <td>nM</td>\n",
              "      <td>9300.0</td>\n",
              "      <td>CHEMBL203</td>\n",
              "      <td>Homo sapiens</td>\n",
              "      <td>IC50</td>\n",
              "      <td>uM</td>\n",
              "      <td>9.3</td>\n",
              "    </tr>\n",
              "    <tr>\n",
              "      <th>4</th>\n",
              "      <td>32770</td>\n",
              "      <td>CHEMBL674643</td>\n",
              "      <td>Inhibitory concentration of EGF dependent auto...</td>\n",
              "      <td>B</td>\n",
              "      <td>CHEMBL306988</td>\n",
              "      <td>=</td>\n",
              "      <td>nM</td>\n",
              "      <td>500000.0</td>\n",
              "      <td>CHEMBL203</td>\n",
              "      <td>Homo sapiens</td>\n",
              "      <td>IC50</td>\n",
              "      <td>uM</td>\n",
              "      <td>500.0</td>\n",
              "    </tr>\n",
              "  </tbody>\n",
              "</table>\n",
              "</div>\n",
              "      <button class=\"colab-df-convert\" onclick=\"convertToInteractive('df-a32f9ac6-8223-4354-bc71-1d3432e929d5')\"\n",
              "              title=\"Convert this dataframe to an interactive table.\"\n",
              "              style=\"display:none;\">\n",
              "        \n",
              "  <svg xmlns=\"http://www.w3.org/2000/svg\" height=\"24px\"viewBox=\"0 0 24 24\"\n",
              "       width=\"24px\">\n",
              "    <path d=\"M0 0h24v24H0V0z\" fill=\"none\"/>\n",
              "    <path d=\"M18.56 5.44l.94 2.06.94-2.06 2.06-.94-2.06-.94-.94-2.06-.94 2.06-2.06.94zm-11 1L8.5 8.5l.94-2.06 2.06-.94-2.06-.94L8.5 2.5l-.94 2.06-2.06.94zm10 10l.94 2.06.94-2.06 2.06-.94-2.06-.94-.94-2.06-.94 2.06-2.06.94z\"/><path d=\"M17.41 7.96l-1.37-1.37c-.4-.4-.92-.59-1.43-.59-.52 0-1.04.2-1.43.59L10.3 9.45l-7.72 7.72c-.78.78-.78 2.05 0 2.83L4 21.41c.39.39.9.59 1.41.59.51 0 1.02-.2 1.41-.59l7.78-7.78 2.81-2.81c.8-.78.8-2.07 0-2.86zM5.41 20L4 18.59l7.72-7.72 1.47 1.35L5.41 20z\"/>\n",
              "  </svg>\n",
              "      </button>\n",
              "      \n",
              "  <style>\n",
              "    .colab-df-container {\n",
              "      display:flex;\n",
              "      flex-wrap:wrap;\n",
              "      gap: 12px;\n",
              "    }\n",
              "\n",
              "    .colab-df-convert {\n",
              "      background-color: #E8F0FE;\n",
              "      border: none;\n",
              "      border-radius: 50%;\n",
              "      cursor: pointer;\n",
              "      display: none;\n",
              "      fill: #1967D2;\n",
              "      height: 32px;\n",
              "      padding: 0 0 0 0;\n",
              "      width: 32px;\n",
              "    }\n",
              "\n",
              "    .colab-df-convert:hover {\n",
              "      background-color: #E2EBFA;\n",
              "      box-shadow: 0px 1px 2px rgba(60, 64, 67, 0.3), 0px 1px 3px 1px rgba(60, 64, 67, 0.15);\n",
              "      fill: #174EA6;\n",
              "    }\n",
              "\n",
              "    [theme=dark] .colab-df-convert {\n",
              "      background-color: #3B4455;\n",
              "      fill: #D2E3FC;\n",
              "    }\n",
              "\n",
              "    [theme=dark] .colab-df-convert:hover {\n",
              "      background-color: #434B5C;\n",
              "      box-shadow: 0px 1px 3px 1px rgba(0, 0, 0, 0.15);\n",
              "      filter: drop-shadow(0px 1px 2px rgba(0, 0, 0, 0.3));\n",
              "      fill: #FFFFFF;\n",
              "    }\n",
              "  </style>\n",
              "\n",
              "      <script>\n",
              "        const buttonEl =\n",
              "          document.querySelector('#df-a32f9ac6-8223-4354-bc71-1d3432e929d5 button.colab-df-convert');\n",
              "        buttonEl.style.display =\n",
              "          google.colab.kernel.accessAllowed ? 'block' : 'none';\n",
              "\n",
              "        async function convertToInteractive(key) {\n",
              "          const element = document.querySelector('#df-a32f9ac6-8223-4354-bc71-1d3432e929d5');\n",
              "          const dataTable =\n",
              "            await google.colab.kernel.invokeFunction('convertToInteractive',\n",
              "                                                     [key], {});\n",
              "          if (!dataTable) return;\n",
              "\n",
              "          const docLinkHtml = 'Like what you see? Visit the ' +\n",
              "            '<a target=\"_blank\" href=https://colab.research.google.com/notebooks/data_table.ipynb>data table notebook</a>'\n",
              "            + ' to learn more about interactive tables.';\n",
              "          element.innerHTML = '';\n",
              "          dataTable['output_type'] = 'display_data';\n",
              "          await google.colab.output.renderOutput(dataTable, element);\n",
              "          const docLink = document.createElement('div');\n",
              "          docLink.innerHTML = docLinkHtml;\n",
              "          element.appendChild(docLink);\n",
              "        }\n",
              "      </script>\n",
              "    </div>\n",
              "  </div>\n",
              "  "
            ]
          },
          "metadata": {},
          "execution_count": 14
        }
      ]
    },
    {
      "cell_type": "markdown",
      "source": [
        "convert values to nM"
      ],
      "metadata": {
        "id": "kEeVkM9cp03M"
      }
    },
    {
      "cell_type": "code",
      "source": [
        "bioactivities_df['units'].unique()"
      ],
      "metadata": {
        "colab": {
          "base_uri": "https://localhost:8080/"
        },
        "id": "WxNCpyg8pqDt",
        "outputId": "f219b86d-ea8e-40d6-fadf-87a91b03cb5d"
      },
      "execution_count": 15,
      "outputs": [
        {
          "output_type": "execute_result",
          "data": {
            "text/plain": [
              "array(['uM', 'nM', 'pM', 'M', \"10'3 uM\", \"10'1 ug/ml\", 'ug ml-1',\n",
              "       \"10'-1microM\", \"10'1 uM\", \"10'-1 ug/ml\", \"10'-2 ug/ml\", \"10'2 uM\",\n",
              "       \"10'-3 ug/ml\", \"10'-2microM\", '/uM', \"10'-6g/ml\", 'mM', 'umol/L',\n",
              "       'nmol/L', \"10'-10M\", \"10'-7M\", 'nmol', '10^-8M'], dtype=object)"
            ]
          },
          "metadata": {},
          "execution_count": 15
        }
      ]
    },
    {
      "cell_type": "code",
      "source": [
        "bioactivities_df.drop([\"units\", \"value\"], axis=1, inplace=True)\n",
        "\n"
      ],
      "metadata": {
        "id": "-2Xi9Z0sqLOc"
      },
      "execution_count": 16,
      "outputs": []
    },
    {
      "cell_type": "code",
      "source": [
        "bioactivities_df.head()"
      ],
      "metadata": {
        "colab": {
          "base_uri": "https://localhost:8080/",
          "height": 461
        },
        "id": "5Muz8ErjyvU-",
        "outputId": "7fd8664e-560e-4752-c27a-bedeaf0bc84a"
      },
      "execution_count": 17,
      "outputs": [
        {
          "output_type": "execute_result",
          "data": {
            "text/plain": [
              "   activity_id assay_chembl_id  \\\n",
              "0        32260    CHEMBL674637   \n",
              "1        32260    CHEMBL674637   \n",
              "2        32267    CHEMBL674637   \n",
              "3        32680    CHEMBL677833   \n",
              "4        32770    CHEMBL674643   \n",
              "\n",
              "                                   assay_description assay_type  \\\n",
              "0  Inhibitory activity towards tyrosine phosphory...          B   \n",
              "1  Inhibitory activity towards tyrosine phosphory...          B   \n",
              "2  Inhibitory activity towards tyrosine phosphory...          B   \n",
              "3  In vitro inhibition of Epidermal growth factor...          B   \n",
              "4  Inhibitory concentration of EGF dependent auto...          B   \n",
              "\n",
              "  molecule_chembl_id relation standard_units standard_value target_chembl_id  \\\n",
              "0        CHEMBL68920        =             nM           41.0        CHEMBL203   \n",
              "1        CHEMBL68920        =             nM           41.0        CHEMBL203   \n",
              "2        CHEMBL69960        =             nM          170.0        CHEMBL203   \n",
              "3       CHEMBL137635        =             nM         9300.0        CHEMBL203   \n",
              "4       CHEMBL306988        =             nM       500000.0        CHEMBL203   \n",
              "\n",
              "  target_organism  type  \n",
              "0    Homo sapiens  IC50  \n",
              "1    Homo sapiens  IC50  \n",
              "2    Homo sapiens  IC50  \n",
              "3    Homo sapiens  IC50  \n",
              "4    Homo sapiens  IC50  "
            ],
            "text/html": [
              "\n",
              "  <div id=\"df-2814a8b3-eb36-42e3-a041-47b514677eac\">\n",
              "    <div class=\"colab-df-container\">\n",
              "      <div>\n",
              "<style scoped>\n",
              "    .dataframe tbody tr th:only-of-type {\n",
              "        vertical-align: middle;\n",
              "    }\n",
              "\n",
              "    .dataframe tbody tr th {\n",
              "        vertical-align: top;\n",
              "    }\n",
              "\n",
              "    .dataframe thead th {\n",
              "        text-align: right;\n",
              "    }\n",
              "</style>\n",
              "<table border=\"1\" class=\"dataframe\">\n",
              "  <thead>\n",
              "    <tr style=\"text-align: right;\">\n",
              "      <th></th>\n",
              "      <th>activity_id</th>\n",
              "      <th>assay_chembl_id</th>\n",
              "      <th>assay_description</th>\n",
              "      <th>assay_type</th>\n",
              "      <th>molecule_chembl_id</th>\n",
              "      <th>relation</th>\n",
              "      <th>standard_units</th>\n",
              "      <th>standard_value</th>\n",
              "      <th>target_chembl_id</th>\n",
              "      <th>target_organism</th>\n",
              "      <th>type</th>\n",
              "    </tr>\n",
              "  </thead>\n",
              "  <tbody>\n",
              "    <tr>\n",
              "      <th>0</th>\n",
              "      <td>32260</td>\n",
              "      <td>CHEMBL674637</td>\n",
              "      <td>Inhibitory activity towards tyrosine phosphory...</td>\n",
              "      <td>B</td>\n",
              "      <td>CHEMBL68920</td>\n",
              "      <td>=</td>\n",
              "      <td>nM</td>\n",
              "      <td>41.0</td>\n",
              "      <td>CHEMBL203</td>\n",
              "      <td>Homo sapiens</td>\n",
              "      <td>IC50</td>\n",
              "    </tr>\n",
              "    <tr>\n",
              "      <th>1</th>\n",
              "      <td>32260</td>\n",
              "      <td>CHEMBL674637</td>\n",
              "      <td>Inhibitory activity towards tyrosine phosphory...</td>\n",
              "      <td>B</td>\n",
              "      <td>CHEMBL68920</td>\n",
              "      <td>=</td>\n",
              "      <td>nM</td>\n",
              "      <td>41.0</td>\n",
              "      <td>CHEMBL203</td>\n",
              "      <td>Homo sapiens</td>\n",
              "      <td>IC50</td>\n",
              "    </tr>\n",
              "    <tr>\n",
              "      <th>2</th>\n",
              "      <td>32267</td>\n",
              "      <td>CHEMBL674637</td>\n",
              "      <td>Inhibitory activity towards tyrosine phosphory...</td>\n",
              "      <td>B</td>\n",
              "      <td>CHEMBL69960</td>\n",
              "      <td>=</td>\n",
              "      <td>nM</td>\n",
              "      <td>170.0</td>\n",
              "      <td>CHEMBL203</td>\n",
              "      <td>Homo sapiens</td>\n",
              "      <td>IC50</td>\n",
              "    </tr>\n",
              "    <tr>\n",
              "      <th>3</th>\n",
              "      <td>32680</td>\n",
              "      <td>CHEMBL677833</td>\n",
              "      <td>In vitro inhibition of Epidermal growth factor...</td>\n",
              "      <td>B</td>\n",
              "      <td>CHEMBL137635</td>\n",
              "      <td>=</td>\n",
              "      <td>nM</td>\n",
              "      <td>9300.0</td>\n",
              "      <td>CHEMBL203</td>\n",
              "      <td>Homo sapiens</td>\n",
              "      <td>IC50</td>\n",
              "    </tr>\n",
              "    <tr>\n",
              "      <th>4</th>\n",
              "      <td>32770</td>\n",
              "      <td>CHEMBL674643</td>\n",
              "      <td>Inhibitory concentration of EGF dependent auto...</td>\n",
              "      <td>B</td>\n",
              "      <td>CHEMBL306988</td>\n",
              "      <td>=</td>\n",
              "      <td>nM</td>\n",
              "      <td>500000.0</td>\n",
              "      <td>CHEMBL203</td>\n",
              "      <td>Homo sapiens</td>\n",
              "      <td>IC50</td>\n",
              "    </tr>\n",
              "  </tbody>\n",
              "</table>\n",
              "</div>\n",
              "      <button class=\"colab-df-convert\" onclick=\"convertToInteractive('df-2814a8b3-eb36-42e3-a041-47b514677eac')\"\n",
              "              title=\"Convert this dataframe to an interactive table.\"\n",
              "              style=\"display:none;\">\n",
              "        \n",
              "  <svg xmlns=\"http://www.w3.org/2000/svg\" height=\"24px\"viewBox=\"0 0 24 24\"\n",
              "       width=\"24px\">\n",
              "    <path d=\"M0 0h24v24H0V0z\" fill=\"none\"/>\n",
              "    <path d=\"M18.56 5.44l.94 2.06.94-2.06 2.06-.94-2.06-.94-.94-2.06-.94 2.06-2.06.94zm-11 1L8.5 8.5l.94-2.06 2.06-.94-2.06-.94L8.5 2.5l-.94 2.06-2.06.94zm10 10l.94 2.06.94-2.06 2.06-.94-2.06-.94-.94-2.06-.94 2.06-2.06.94z\"/><path d=\"M17.41 7.96l-1.37-1.37c-.4-.4-.92-.59-1.43-.59-.52 0-1.04.2-1.43.59L10.3 9.45l-7.72 7.72c-.78.78-.78 2.05 0 2.83L4 21.41c.39.39.9.59 1.41.59.51 0 1.02-.2 1.41-.59l7.78-7.78 2.81-2.81c.8-.78.8-2.07 0-2.86zM5.41 20L4 18.59l7.72-7.72 1.47 1.35L5.41 20z\"/>\n",
              "  </svg>\n",
              "      </button>\n",
              "      \n",
              "  <style>\n",
              "    .colab-df-container {\n",
              "      display:flex;\n",
              "      flex-wrap:wrap;\n",
              "      gap: 12px;\n",
              "    }\n",
              "\n",
              "    .colab-df-convert {\n",
              "      background-color: #E8F0FE;\n",
              "      border: none;\n",
              "      border-radius: 50%;\n",
              "      cursor: pointer;\n",
              "      display: none;\n",
              "      fill: #1967D2;\n",
              "      height: 32px;\n",
              "      padding: 0 0 0 0;\n",
              "      width: 32px;\n",
              "    }\n",
              "\n",
              "    .colab-df-convert:hover {\n",
              "      background-color: #E2EBFA;\n",
              "      box-shadow: 0px 1px 2px rgba(60, 64, 67, 0.3), 0px 1px 3px 1px rgba(60, 64, 67, 0.15);\n",
              "      fill: #174EA6;\n",
              "    }\n",
              "\n",
              "    [theme=dark] .colab-df-convert {\n",
              "      background-color: #3B4455;\n",
              "      fill: #D2E3FC;\n",
              "    }\n",
              "\n",
              "    [theme=dark] .colab-df-convert:hover {\n",
              "      background-color: #434B5C;\n",
              "      box-shadow: 0px 1px 3px 1px rgba(0, 0, 0, 0.15);\n",
              "      filter: drop-shadow(0px 1px 2px rgba(0, 0, 0, 0.3));\n",
              "      fill: #FFFFFF;\n",
              "    }\n",
              "  </style>\n",
              "\n",
              "      <script>\n",
              "        const buttonEl =\n",
              "          document.querySelector('#df-2814a8b3-eb36-42e3-a041-47b514677eac button.colab-df-convert');\n",
              "        buttonEl.style.display =\n",
              "          google.colab.kernel.accessAllowed ? 'block' : 'none';\n",
              "\n",
              "        async function convertToInteractive(key) {\n",
              "          const element = document.querySelector('#df-2814a8b3-eb36-42e3-a041-47b514677eac');\n",
              "          const dataTable =\n",
              "            await google.colab.kernel.invokeFunction('convertToInteractive',\n",
              "                                                     [key], {});\n",
              "          if (!dataTable) return;\n",
              "\n",
              "          const docLinkHtml = 'Like what you see? Visit the ' +\n",
              "            '<a target=\"_blank\" href=https://colab.research.google.com/notebooks/data_table.ipynb>data table notebook</a>'\n",
              "            + ' to learn more about interactive tables.';\n",
              "          element.innerHTML = '';\n",
              "          dataTable['output_type'] = 'display_data';\n",
              "          await google.colab.output.renderOutput(dataTable, element);\n",
              "          const docLink = document.createElement('div');\n",
              "          docLink.innerHTML = docLinkHtml;\n",
              "          element.appendChild(docLink);\n",
              "        }\n",
              "      </script>\n",
              "    </div>\n",
              "  </div>\n",
              "  "
            ]
          },
          "metadata": {},
          "execution_count": 17
        }
      ]
    },
    {
      "cell_type": "markdown",
      "source": [
        "Preprocess and filter bioactivity data\n",
        "\n",
        "1. Convert datatype of “standard_value” from “object” to “float”\n"
      ],
      "metadata": {
        "id": "mL0SzwR1zJSN"
      }
    },
    {
      "cell_type": "code",
      "source": [
        "bioactivities_df.dtypes"
      ],
      "metadata": {
        "colab": {
          "base_uri": "https://localhost:8080/"
        },
        "id": "VhRtswiNzdE7",
        "outputId": "afff3a74-4f18-409d-ee34-c3f3036ca577"
      },
      "execution_count": 19,
      "outputs": [
        {
          "output_type": "execute_result",
          "data": {
            "text/plain": [
              "activity_id            int64\n",
              "assay_chembl_id       object\n",
              "assay_description     object\n",
              "assay_type            object\n",
              "molecule_chembl_id    object\n",
              "relation              object\n",
              "standard_units        object\n",
              "standard_value        object\n",
              "target_chembl_id      object\n",
              "target_organism       object\n",
              "type                  object\n",
              "dtype: object"
            ]
          },
          "metadata": {},
          "execution_count": 19
        }
      ]
    },
    {
      "cell_type": "code",
      "source": [
        "bioactivities_df = bioactivities_df.astype({\"standard_value\" : \"float64\"})"
      ],
      "metadata": {
        "id": "jPct7o-OzlVT"
      },
      "execution_count": 20,
      "outputs": []
    },
    {
      "cell_type": "code",
      "source": [
        "bioactivities_df.dtypes"
      ],
      "metadata": {
        "colab": {
          "base_uri": "https://localhost:8080/"
        },
        "id": "G24NPnfm0Yf0",
        "outputId": "6d558168-53a8-4d04-fbdc-84da56d03881"
      },
      "execution_count": 21,
      "outputs": [
        {
          "output_type": "execute_result",
          "data": {
            "text/plain": [
              "activity_id             int64\n",
              "assay_chembl_id        object\n",
              "assay_description      object\n",
              "assay_type             object\n",
              "molecule_chembl_id     object\n",
              "relation               object\n",
              "standard_units         object\n",
              "standard_value        float64\n",
              "target_chembl_id       object\n",
              "target_organism        object\n",
              "type                   object\n",
              "dtype: object"
            ]
          },
          "metadata": {},
          "execution_count": 21
        }
      ]
    },
    {
      "cell_type": "markdown",
      "source": [
        "2. Delete entries with missing values"
      ],
      "metadata": {
        "id": "VwtlFAr60p_W"
      }
    },
    {
      "cell_type": "code",
      "source": [
        "bioactivities_df.dropna(axis=0, how=\"any\", inplace=True)   #drop rows which contain missing values\n",
        "print(f\"DataFrame shape: {bioactivities_df.shape}\")"
      ],
      "metadata": {
        "colab": {
          "base_uri": "https://localhost:8080/"
        },
        "id": "4Fh1HrHO0qY7",
        "outputId": "e2cc3ef0-9f4f-49cc-cee5-51500c1cf143"
      },
      "execution_count": 22,
      "outputs": [
        {
          "output_type": "stream",
          "name": "stdout",
          "text": [
            "DataFrame shape: (9429, 11)\n"
          ]
        }
      ]
    },
    {
      "cell_type": "markdown",
      "source": [
        "3. Keep only entries with “standard_unit == nM”"
      ],
      "metadata": {
        "id": "X7zrbbG02Dk9"
      }
    },
    {
      "cell_type": "code",
      "source": [
        "print(f\"Units in downloaded data: {bioactivities_df['standard_units'].unique()}\")\n",
        "print(\n",
        "    f\"Number of non-nM entries:\\\n",
        "    {bioactivities_df[bioactivities_df['standard_units'] != 'nM'].shape[0]}\"\n",
        ")"
      ],
      "metadata": {
        "colab": {
          "base_uri": "https://localhost:8080/"
        },
        "id": "07ywlhOp2Ful",
        "outputId": "bf52ff27-9775-4b19-f40c-4bf2a937db22"
      },
      "execution_count": 26,
      "outputs": [
        {
          "output_type": "stream",
          "name": "stdout",
          "text": [
            "Units in downloaded data: ['nM' 'ug.mL-1' '/uM']\n",
            "Number of non-nM entries:    69\n"
          ]
        }
      ]
    },
    {
      "cell_type": "code",
      "source": [
        "bioactivities_df = bioactivities_df[bioactivities_df[\"standard_units\"] == \"nM\"]\n",
        "print(f\"Units after filtering: {bioactivities_df['standard_units'].unique()}\")"
      ],
      "metadata": {
        "colab": {
          "base_uri": "https://localhost:8080/"
        },
        "id": "FTwQNUNm3b6T",
        "outputId": "fd169746-dda4-4daf-b323-95f025f86bcf"
      },
      "execution_count": 27,
      "outputs": [
        {
          "output_type": "stream",
          "name": "stdout",
          "text": [
            "Units after filtering: ['nM']\n"
          ]
        }
      ]
    },
    {
      "cell_type": "code",
      "source": [
        "print(f\"DataFrame shape: {bioactivities_df.shape}\")"
      ],
      "metadata": {
        "colab": {
          "base_uri": "https://localhost:8080/"
        },
        "id": "gZXOar0b4JCb",
        "outputId": "fd2b2ca3-94b5-43cc-f86a-946da59775d3"
      },
      "execution_count": 28,
      "outputs": [
        {
          "output_type": "stream",
          "name": "stdout",
          "text": [
            "DataFrame shape: (9360, 11)\n"
          ]
        }
      ]
    },
    {
      "cell_type": "markdown",
      "source": [
        "4. Delete duplicate molecules"
      ],
      "metadata": {
        "id": "wRL-r3Mk4Qpa"
      }
    },
    {
      "cell_type": "code",
      "source": [
        "bioactivities_df.drop_duplicates(\"molecule_chembl_id\", keep=\"first\", inplace=True)\n",
        "print(f\"DataFrame shape: {bioactivities_df.shape}\")"
      ],
      "metadata": {
        "colab": {
          "base_uri": "https://localhost:8080/"
        },
        "id": "HxpzxMOn4RTA",
        "outputId": "818b67ba-6f42-4db1-a2b3-3d608c90b5b4"
      },
      "execution_count": 35,
      "outputs": [
        {
          "output_type": "stream",
          "name": "stdout",
          "text": [
            "DataFrame shape: (6387, 11)\n"
          ]
        }
      ]
    },
    {
      "cell_type": "markdown",
      "source": [
        "5. Reset “DataFrame” index"
      ],
      "metadata": {
        "id": "0TCyGhxc7lG0"
      }
    },
    {
      "cell_type": "code",
      "source": [
        "bioactivities_df.reset_index(drop=True, inplace=True)\n",
        "bioactivities_df.head()\n"
      ],
      "metadata": {
        "colab": {
          "base_uri": "https://localhost:8080/",
          "height": 478
        },
        "id": "6E8aR1_h5ODX",
        "outputId": "ac404858-ab11-410a-d10c-d7d04f48be53"
      },
      "execution_count": 36,
      "outputs": [
        {
          "output_type": "execute_result",
          "data": {
            "text/plain": [
              "   activity_id assay_chembl_id  \\\n",
              "0        32260    CHEMBL674637   \n",
              "1        32267    CHEMBL674637   \n",
              "2        32680    CHEMBL677833   \n",
              "3        32770    CHEMBL674643   \n",
              "4        32772    CHEMBL674643   \n",
              "\n",
              "                                   assay_description assay_type  \\\n",
              "0  Inhibitory activity towards tyrosine phosphory...          B   \n",
              "1  Inhibitory activity towards tyrosine phosphory...          B   \n",
              "2  In vitro inhibition of Epidermal growth factor...          B   \n",
              "3  Inhibitory concentration of EGF dependent auto...          B   \n",
              "4  Inhibitory concentration of EGF dependent auto...          B   \n",
              "\n",
              "  molecule_chembl_id relation standard_units  standard_value target_chembl_id  \\\n",
              "0        CHEMBL68920        =             nM            41.0        CHEMBL203   \n",
              "1        CHEMBL69960        =             nM           170.0        CHEMBL203   \n",
              "2       CHEMBL137635        =             nM          9300.0        CHEMBL203   \n",
              "3       CHEMBL306988        =             nM        500000.0        CHEMBL203   \n",
              "4        CHEMBL66879        =             nM       3000000.0        CHEMBL203   \n",
              "\n",
              "  target_organism  type  \n",
              "0    Homo sapiens  IC50  \n",
              "1    Homo sapiens  IC50  \n",
              "2    Homo sapiens  IC50  \n",
              "3    Homo sapiens  IC50  \n",
              "4    Homo sapiens  IC50  "
            ],
            "text/html": [
              "\n",
              "  <div id=\"df-3a8856a7-1342-481c-8bdf-0c3565d6563b\">\n",
              "    <div class=\"colab-df-container\">\n",
              "      <div>\n",
              "<style scoped>\n",
              "    .dataframe tbody tr th:only-of-type {\n",
              "        vertical-align: middle;\n",
              "    }\n",
              "\n",
              "    .dataframe tbody tr th {\n",
              "        vertical-align: top;\n",
              "    }\n",
              "\n",
              "    .dataframe thead th {\n",
              "        text-align: right;\n",
              "    }\n",
              "</style>\n",
              "<table border=\"1\" class=\"dataframe\">\n",
              "  <thead>\n",
              "    <tr style=\"text-align: right;\">\n",
              "      <th></th>\n",
              "      <th>activity_id</th>\n",
              "      <th>assay_chembl_id</th>\n",
              "      <th>assay_description</th>\n",
              "      <th>assay_type</th>\n",
              "      <th>molecule_chembl_id</th>\n",
              "      <th>relation</th>\n",
              "      <th>standard_units</th>\n",
              "      <th>standard_value</th>\n",
              "      <th>target_chembl_id</th>\n",
              "      <th>target_organism</th>\n",
              "      <th>type</th>\n",
              "    </tr>\n",
              "  </thead>\n",
              "  <tbody>\n",
              "    <tr>\n",
              "      <th>0</th>\n",
              "      <td>32260</td>\n",
              "      <td>CHEMBL674637</td>\n",
              "      <td>Inhibitory activity towards tyrosine phosphory...</td>\n",
              "      <td>B</td>\n",
              "      <td>CHEMBL68920</td>\n",
              "      <td>=</td>\n",
              "      <td>nM</td>\n",
              "      <td>41.0</td>\n",
              "      <td>CHEMBL203</td>\n",
              "      <td>Homo sapiens</td>\n",
              "      <td>IC50</td>\n",
              "    </tr>\n",
              "    <tr>\n",
              "      <th>1</th>\n",
              "      <td>32267</td>\n",
              "      <td>CHEMBL674637</td>\n",
              "      <td>Inhibitory activity towards tyrosine phosphory...</td>\n",
              "      <td>B</td>\n",
              "      <td>CHEMBL69960</td>\n",
              "      <td>=</td>\n",
              "      <td>nM</td>\n",
              "      <td>170.0</td>\n",
              "      <td>CHEMBL203</td>\n",
              "      <td>Homo sapiens</td>\n",
              "      <td>IC50</td>\n",
              "    </tr>\n",
              "    <tr>\n",
              "      <th>2</th>\n",
              "      <td>32680</td>\n",
              "      <td>CHEMBL677833</td>\n",
              "      <td>In vitro inhibition of Epidermal growth factor...</td>\n",
              "      <td>B</td>\n",
              "      <td>CHEMBL137635</td>\n",
              "      <td>=</td>\n",
              "      <td>nM</td>\n",
              "      <td>9300.0</td>\n",
              "      <td>CHEMBL203</td>\n",
              "      <td>Homo sapiens</td>\n",
              "      <td>IC50</td>\n",
              "    </tr>\n",
              "    <tr>\n",
              "      <th>3</th>\n",
              "      <td>32770</td>\n",
              "      <td>CHEMBL674643</td>\n",
              "      <td>Inhibitory concentration of EGF dependent auto...</td>\n",
              "      <td>B</td>\n",
              "      <td>CHEMBL306988</td>\n",
              "      <td>=</td>\n",
              "      <td>nM</td>\n",
              "      <td>500000.0</td>\n",
              "      <td>CHEMBL203</td>\n",
              "      <td>Homo sapiens</td>\n",
              "      <td>IC50</td>\n",
              "    </tr>\n",
              "    <tr>\n",
              "      <th>4</th>\n",
              "      <td>32772</td>\n",
              "      <td>CHEMBL674643</td>\n",
              "      <td>Inhibitory concentration of EGF dependent auto...</td>\n",
              "      <td>B</td>\n",
              "      <td>CHEMBL66879</td>\n",
              "      <td>=</td>\n",
              "      <td>nM</td>\n",
              "      <td>3000000.0</td>\n",
              "      <td>CHEMBL203</td>\n",
              "      <td>Homo sapiens</td>\n",
              "      <td>IC50</td>\n",
              "    </tr>\n",
              "  </tbody>\n",
              "</table>\n",
              "</div>\n",
              "      <button class=\"colab-df-convert\" onclick=\"convertToInteractive('df-3a8856a7-1342-481c-8bdf-0c3565d6563b')\"\n",
              "              title=\"Convert this dataframe to an interactive table.\"\n",
              "              style=\"display:none;\">\n",
              "        \n",
              "  <svg xmlns=\"http://www.w3.org/2000/svg\" height=\"24px\"viewBox=\"0 0 24 24\"\n",
              "       width=\"24px\">\n",
              "    <path d=\"M0 0h24v24H0V0z\" fill=\"none\"/>\n",
              "    <path d=\"M18.56 5.44l.94 2.06.94-2.06 2.06-.94-2.06-.94-.94-2.06-.94 2.06-2.06.94zm-11 1L8.5 8.5l.94-2.06 2.06-.94-2.06-.94L8.5 2.5l-.94 2.06-2.06.94zm10 10l.94 2.06.94-2.06 2.06-.94-2.06-.94-.94-2.06-.94 2.06-2.06.94z\"/><path d=\"M17.41 7.96l-1.37-1.37c-.4-.4-.92-.59-1.43-.59-.52 0-1.04.2-1.43.59L10.3 9.45l-7.72 7.72c-.78.78-.78 2.05 0 2.83L4 21.41c.39.39.9.59 1.41.59.51 0 1.02-.2 1.41-.59l7.78-7.78 2.81-2.81c.8-.78.8-2.07 0-2.86zM5.41 20L4 18.59l7.72-7.72 1.47 1.35L5.41 20z\"/>\n",
              "  </svg>\n",
              "      </button>\n",
              "      \n",
              "  <style>\n",
              "    .colab-df-container {\n",
              "      display:flex;\n",
              "      flex-wrap:wrap;\n",
              "      gap: 12px;\n",
              "    }\n",
              "\n",
              "    .colab-df-convert {\n",
              "      background-color: #E8F0FE;\n",
              "      border: none;\n",
              "      border-radius: 50%;\n",
              "      cursor: pointer;\n",
              "      display: none;\n",
              "      fill: #1967D2;\n",
              "      height: 32px;\n",
              "      padding: 0 0 0 0;\n",
              "      width: 32px;\n",
              "    }\n",
              "\n",
              "    .colab-df-convert:hover {\n",
              "      background-color: #E2EBFA;\n",
              "      box-shadow: 0px 1px 2px rgba(60, 64, 67, 0.3), 0px 1px 3px 1px rgba(60, 64, 67, 0.15);\n",
              "      fill: #174EA6;\n",
              "    }\n",
              "\n",
              "    [theme=dark] .colab-df-convert {\n",
              "      background-color: #3B4455;\n",
              "      fill: #D2E3FC;\n",
              "    }\n",
              "\n",
              "    [theme=dark] .colab-df-convert:hover {\n",
              "      background-color: #434B5C;\n",
              "      box-shadow: 0px 1px 3px 1px rgba(0, 0, 0, 0.15);\n",
              "      filter: drop-shadow(0px 1px 2px rgba(0, 0, 0, 0.3));\n",
              "      fill: #FFFFFF;\n",
              "    }\n",
              "  </style>\n",
              "\n",
              "      <script>\n",
              "        const buttonEl =\n",
              "          document.querySelector('#df-3a8856a7-1342-481c-8bdf-0c3565d6563b button.colab-df-convert');\n",
              "        buttonEl.style.display =\n",
              "          google.colab.kernel.accessAllowed ? 'block' : 'none';\n",
              "\n",
              "        async function convertToInteractive(key) {\n",
              "          const element = document.querySelector('#df-3a8856a7-1342-481c-8bdf-0c3565d6563b');\n",
              "          const dataTable =\n",
              "            await google.colab.kernel.invokeFunction('convertToInteractive',\n",
              "                                                     [key], {});\n",
              "          if (!dataTable) return;\n",
              "\n",
              "          const docLinkHtml = 'Like what you see? Visit the ' +\n",
              "            '<a target=\"_blank\" href=https://colab.research.google.com/notebooks/data_table.ipynb>data table notebook</a>'\n",
              "            + ' to learn more about interactive tables.';\n",
              "          element.innerHTML = '';\n",
              "          dataTable['output_type'] = 'display_data';\n",
              "          await google.colab.output.renderOutput(dataTable, element);\n",
              "          const docLink = document.createElement('div');\n",
              "          docLink.innerHTML = docLinkHtml;\n",
              "          element.appendChild(docLink);\n",
              "        }\n",
              "      </script>\n",
              "    </div>\n",
              "  </div>\n",
              "  "
            ]
          },
          "metadata": {},
          "execution_count": 36
        }
      ]
    },
    {
      "cell_type": "markdown",
      "source": [
        "6. Rename columns"
      ],
      "metadata": {
        "id": "tW6-uahs7wrL"
      }
    },
    {
      "cell_type": "code",
      "source": [
        "bioactivities_df.rename(\n",
        "    columns={\"standard_value\": \"IC50\", \"standard_units\": \"units\"}, inplace=True\n",
        ")\n",
        "bioactivities_df.head()"
      ],
      "metadata": {
        "colab": {
          "base_uri": "https://localhost:8080/",
          "height": 329
        },
        "id": "KaAy_0Mc7xOs",
        "outputId": "9530ce2b-fad3-469d-fa11-948096fc9a05"
      },
      "execution_count": 37,
      "outputs": [
        {
          "output_type": "execute_result",
          "data": {
            "text/plain": [
              "   activity_id assay_chembl_id  \\\n",
              "0        32260    CHEMBL674637   \n",
              "1        32267    CHEMBL674637   \n",
              "2        32680    CHEMBL677833   \n",
              "3        32770    CHEMBL674643   \n",
              "4        32772    CHEMBL674643   \n",
              "\n",
              "                                   assay_description assay_type  \\\n",
              "0  Inhibitory activity towards tyrosine phosphory...          B   \n",
              "1  Inhibitory activity towards tyrosine phosphory...          B   \n",
              "2  In vitro inhibition of Epidermal growth factor...          B   \n",
              "3  Inhibitory concentration of EGF dependent auto...          B   \n",
              "4  Inhibitory concentration of EGF dependent auto...          B   \n",
              "\n",
              "  molecule_chembl_id relation units       IC50 target_chembl_id  \\\n",
              "0        CHEMBL68920        =    nM       41.0        CHEMBL203   \n",
              "1        CHEMBL69960        =    nM      170.0        CHEMBL203   \n",
              "2       CHEMBL137635        =    nM     9300.0        CHEMBL203   \n",
              "3       CHEMBL306988        =    nM   500000.0        CHEMBL203   \n",
              "4        CHEMBL66879        =    nM  3000000.0        CHEMBL203   \n",
              "\n",
              "  target_organism  type  \n",
              "0    Homo sapiens  IC50  \n",
              "1    Homo sapiens  IC50  \n",
              "2    Homo sapiens  IC50  \n",
              "3    Homo sapiens  IC50  \n",
              "4    Homo sapiens  IC50  "
            ],
            "text/html": [
              "\n",
              "  <div id=\"df-49566dea-4d80-4beb-8411-7d77cd5c5363\">\n",
              "    <div class=\"colab-df-container\">\n",
              "      <div>\n",
              "<style scoped>\n",
              "    .dataframe tbody tr th:only-of-type {\n",
              "        vertical-align: middle;\n",
              "    }\n",
              "\n",
              "    .dataframe tbody tr th {\n",
              "        vertical-align: top;\n",
              "    }\n",
              "\n",
              "    .dataframe thead th {\n",
              "        text-align: right;\n",
              "    }\n",
              "</style>\n",
              "<table border=\"1\" class=\"dataframe\">\n",
              "  <thead>\n",
              "    <tr style=\"text-align: right;\">\n",
              "      <th></th>\n",
              "      <th>activity_id</th>\n",
              "      <th>assay_chembl_id</th>\n",
              "      <th>assay_description</th>\n",
              "      <th>assay_type</th>\n",
              "      <th>molecule_chembl_id</th>\n",
              "      <th>relation</th>\n",
              "      <th>units</th>\n",
              "      <th>IC50</th>\n",
              "      <th>target_chembl_id</th>\n",
              "      <th>target_organism</th>\n",
              "      <th>type</th>\n",
              "    </tr>\n",
              "  </thead>\n",
              "  <tbody>\n",
              "    <tr>\n",
              "      <th>0</th>\n",
              "      <td>32260</td>\n",
              "      <td>CHEMBL674637</td>\n",
              "      <td>Inhibitory activity towards tyrosine phosphory...</td>\n",
              "      <td>B</td>\n",
              "      <td>CHEMBL68920</td>\n",
              "      <td>=</td>\n",
              "      <td>nM</td>\n",
              "      <td>41.0</td>\n",
              "      <td>CHEMBL203</td>\n",
              "      <td>Homo sapiens</td>\n",
              "      <td>IC50</td>\n",
              "    </tr>\n",
              "    <tr>\n",
              "      <th>1</th>\n",
              "      <td>32267</td>\n",
              "      <td>CHEMBL674637</td>\n",
              "      <td>Inhibitory activity towards tyrosine phosphory...</td>\n",
              "      <td>B</td>\n",
              "      <td>CHEMBL69960</td>\n",
              "      <td>=</td>\n",
              "      <td>nM</td>\n",
              "      <td>170.0</td>\n",
              "      <td>CHEMBL203</td>\n",
              "      <td>Homo sapiens</td>\n",
              "      <td>IC50</td>\n",
              "    </tr>\n",
              "    <tr>\n",
              "      <th>2</th>\n",
              "      <td>32680</td>\n",
              "      <td>CHEMBL677833</td>\n",
              "      <td>In vitro inhibition of Epidermal growth factor...</td>\n",
              "      <td>B</td>\n",
              "      <td>CHEMBL137635</td>\n",
              "      <td>=</td>\n",
              "      <td>nM</td>\n",
              "      <td>9300.0</td>\n",
              "      <td>CHEMBL203</td>\n",
              "      <td>Homo sapiens</td>\n",
              "      <td>IC50</td>\n",
              "    </tr>\n",
              "    <tr>\n",
              "      <th>3</th>\n",
              "      <td>32770</td>\n",
              "      <td>CHEMBL674643</td>\n",
              "      <td>Inhibitory concentration of EGF dependent auto...</td>\n",
              "      <td>B</td>\n",
              "      <td>CHEMBL306988</td>\n",
              "      <td>=</td>\n",
              "      <td>nM</td>\n",
              "      <td>500000.0</td>\n",
              "      <td>CHEMBL203</td>\n",
              "      <td>Homo sapiens</td>\n",
              "      <td>IC50</td>\n",
              "    </tr>\n",
              "    <tr>\n",
              "      <th>4</th>\n",
              "      <td>32772</td>\n",
              "      <td>CHEMBL674643</td>\n",
              "      <td>Inhibitory concentration of EGF dependent auto...</td>\n",
              "      <td>B</td>\n",
              "      <td>CHEMBL66879</td>\n",
              "      <td>=</td>\n",
              "      <td>nM</td>\n",
              "      <td>3000000.0</td>\n",
              "      <td>CHEMBL203</td>\n",
              "      <td>Homo sapiens</td>\n",
              "      <td>IC50</td>\n",
              "    </tr>\n",
              "  </tbody>\n",
              "</table>\n",
              "</div>\n",
              "      <button class=\"colab-df-convert\" onclick=\"convertToInteractive('df-49566dea-4d80-4beb-8411-7d77cd5c5363')\"\n",
              "              title=\"Convert this dataframe to an interactive table.\"\n",
              "              style=\"display:none;\">\n",
              "        \n",
              "  <svg xmlns=\"http://www.w3.org/2000/svg\" height=\"24px\"viewBox=\"0 0 24 24\"\n",
              "       width=\"24px\">\n",
              "    <path d=\"M0 0h24v24H0V0z\" fill=\"none\"/>\n",
              "    <path d=\"M18.56 5.44l.94 2.06.94-2.06 2.06-.94-2.06-.94-.94-2.06-.94 2.06-2.06.94zm-11 1L8.5 8.5l.94-2.06 2.06-.94-2.06-.94L8.5 2.5l-.94 2.06-2.06.94zm10 10l.94 2.06.94-2.06 2.06-.94-2.06-.94-.94-2.06-.94 2.06-2.06.94z\"/><path d=\"M17.41 7.96l-1.37-1.37c-.4-.4-.92-.59-1.43-.59-.52 0-1.04.2-1.43.59L10.3 9.45l-7.72 7.72c-.78.78-.78 2.05 0 2.83L4 21.41c.39.39.9.59 1.41.59.51 0 1.02-.2 1.41-.59l7.78-7.78 2.81-2.81c.8-.78.8-2.07 0-2.86zM5.41 20L4 18.59l7.72-7.72 1.47 1.35L5.41 20z\"/>\n",
              "  </svg>\n",
              "      </button>\n",
              "      \n",
              "  <style>\n",
              "    .colab-df-container {\n",
              "      display:flex;\n",
              "      flex-wrap:wrap;\n",
              "      gap: 12px;\n",
              "    }\n",
              "\n",
              "    .colab-df-convert {\n",
              "      background-color: #E8F0FE;\n",
              "      border: none;\n",
              "      border-radius: 50%;\n",
              "      cursor: pointer;\n",
              "      display: none;\n",
              "      fill: #1967D2;\n",
              "      height: 32px;\n",
              "      padding: 0 0 0 0;\n",
              "      width: 32px;\n",
              "    }\n",
              "\n",
              "    .colab-df-convert:hover {\n",
              "      background-color: #E2EBFA;\n",
              "      box-shadow: 0px 1px 2px rgba(60, 64, 67, 0.3), 0px 1px 3px 1px rgba(60, 64, 67, 0.15);\n",
              "      fill: #174EA6;\n",
              "    }\n",
              "\n",
              "    [theme=dark] .colab-df-convert {\n",
              "      background-color: #3B4455;\n",
              "      fill: #D2E3FC;\n",
              "    }\n",
              "\n",
              "    [theme=dark] .colab-df-convert:hover {\n",
              "      background-color: #434B5C;\n",
              "      box-shadow: 0px 1px 3px 1px rgba(0, 0, 0, 0.15);\n",
              "      filter: drop-shadow(0px 1px 2px rgba(0, 0, 0, 0.3));\n",
              "      fill: #FFFFFF;\n",
              "    }\n",
              "  </style>\n",
              "\n",
              "      <script>\n",
              "        const buttonEl =\n",
              "          document.querySelector('#df-49566dea-4d80-4beb-8411-7d77cd5c5363 button.colab-df-convert');\n",
              "        buttonEl.style.display =\n",
              "          google.colab.kernel.accessAllowed ? 'block' : 'none';\n",
              "\n",
              "        async function convertToInteractive(key) {\n",
              "          const element = document.querySelector('#df-49566dea-4d80-4beb-8411-7d77cd5c5363');\n",
              "          const dataTable =\n",
              "            await google.colab.kernel.invokeFunction('convertToInteractive',\n",
              "                                                     [key], {});\n",
              "          if (!dataTable) return;\n",
              "\n",
              "          const docLinkHtml = 'Like what you see? Visit the ' +\n",
              "            '<a target=\"_blank\" href=https://colab.research.google.com/notebooks/data_table.ipynb>data table notebook</a>'\n",
              "            + ' to learn more about interactive tables.';\n",
              "          element.innerHTML = '';\n",
              "          dataTable['output_type'] = 'display_data';\n",
              "          await google.colab.output.renderOutput(dataTable, element);\n",
              "          const docLink = document.createElement('div');\n",
              "          docLink.innerHTML = docLinkHtml;\n",
              "          element.appendChild(docLink);\n",
              "        }\n",
              "      </script>\n",
              "    </div>\n",
              "  </div>\n",
              "  "
            ]
          },
          "metadata": {},
          "execution_count": 37
        }
      ]
    },
    {
      "cell_type": "code",
      "source": [
        "print(f\"DataFrame shape: {bioactivities_df.shape}\")"
      ],
      "metadata": {
        "colab": {
          "base_uri": "https://localhost:8080/"
        },
        "id": "Hof3VZxZ77gj",
        "outputId": "bc5513d0-d6ec-490f-b449-af0ab6afcf0f"
      },
      "execution_count": 38,
      "outputs": [
        {
          "output_type": "stream",
          "name": "stdout",
          "text": [
            "DataFrame shape: (6387, 11)\n"
          ]
        }
      ]
    },
    {
      "cell_type": "markdown",
      "source": [
        "Fetch compound data from ChEMBL"
      ],
      "metadata": {
        "id": "aIS9YaVV8TQK"
      }
    },
    {
      "cell_type": "code",
      "source": [
        "compounds_provider = compounds_api.filter(\n",
        "    molecule_chembl_id__in=list(bioactivities_df[\"molecule_chembl_id\"])\n",
        ").only(\"molecule_chembl_id\", \"molecule_structures\")"
      ],
      "metadata": {
        "id": "hXA6DPwi8Vxb"
      },
      "execution_count": 39,
      "outputs": []
    },
    {
      "cell_type": "markdown",
      "source": [
        "Download compound data from ChEMBL"
      ],
      "metadata": {
        "id": "0S6rNxRi8flL"
      }
    },
    {
      "cell_type": "code",
      "source": [
        "compounds = list(tqdm(compounds_provider))"
      ],
      "metadata": {
        "colab": {
          "base_uri": "https://localhost:8080/",
          "height": 49,
          "referenced_widgets": [
            "6666ae9a4d7845948f8d4af009147204",
            "1bc71613a83347c287a43a68196d43ff",
            "3ccd28e910464a928fa79621d0ea59c0",
            "bab6b4ecb7b3484fb74d202fb4e1b8a8",
            "74b32e2515644cf3ac85f9ef48897b2a",
            "ecfb1e1aa99a45428c0bdf1a66ad167b",
            "d21afca9aa734bc6b014cb6b00300f94",
            "31dbd007c6d348ef8887248a6aed7342",
            "1c3521cd10c04d31a01a68b475b2e1ad",
            "238f074ffe5c43d28cb666986923121e",
            "5eaa2c79219944edb9c7112b0b0f495e"
          ]
        },
        "id": "yAknPJXu8gOD",
        "outputId": "95097aa8-8a32-4971-94fa-1c4fb632b864"
      },
      "execution_count": 40,
      "outputs": [
        {
          "output_type": "display_data",
          "data": {
            "text/plain": [
              "  0%|          | 0/6387 [00:00<?, ?it/s]"
            ],
            "application/vnd.jupyter.widget-view+json": {
              "version_major": 2,
              "version_minor": 0,
              "model_id": "6666ae9a4d7845948f8d4af009147204"
            }
          },
          "metadata": {}
        }
      ]
    },
    {
      "cell_type": "code",
      "source": [
        "compounds_df = pd.DataFrame.from_records(\n",
        "    compounds,\n",
        ")\n",
        "print(f\"DataFrame shape: {compounds_df.shape}\")"
      ],
      "metadata": {
        "colab": {
          "base_uri": "https://localhost:8080/"
        },
        "id": "D5GZ956xStWC",
        "outputId": "cff2495e-6a4d-4ba4-d4e6-72acccd32d2b"
      },
      "execution_count": 41,
      "outputs": [
        {
          "output_type": "stream",
          "name": "stdout",
          "text": [
            "DataFrame shape: (6387, 2)\n"
          ]
        }
      ]
    },
    {
      "cell_type": "code",
      "source": [
        "compounds_df.head()"
      ],
      "metadata": {
        "colab": {
          "base_uri": "https://localhost:8080/",
          "height": 206
        },
        "id": "rp7AZJuoTAkJ",
        "outputId": "34568b99-3b94-4e1a-9d03-ebe3595e371b"
      },
      "execution_count": 43,
      "outputs": [
        {
          "output_type": "execute_result",
          "data": {
            "text/plain": [
              "  molecule_chembl_id                                molecule_structures\n",
              "0         CHEMBL6246  {'canonical_smiles': 'O=c1oc2c(O)c(O)cc3c(=O)o...\n",
              "1           CHEMBL10  {'canonical_smiles': 'C[S+]([O-])c1ccc(-c2nc(-...\n",
              "2         CHEMBL6976  {'canonical_smiles': 'COc1cc2c(cc1OC)Nc1ncn(C)...\n",
              "3         CHEMBL7002  {'canonical_smiles': 'CC1(COc2ccc(CC3SC(=O)NC3...\n",
              "4       CHEMBL414013  {'canonical_smiles': 'COc1cc2c(cc1OC)Nc1ncnc(O..."
            ],
            "text/html": [
              "\n",
              "  <div id=\"df-0785dbe3-93e8-47a6-a115-459962ea439d\">\n",
              "    <div class=\"colab-df-container\">\n",
              "      <div>\n",
              "<style scoped>\n",
              "    .dataframe tbody tr th:only-of-type {\n",
              "        vertical-align: middle;\n",
              "    }\n",
              "\n",
              "    .dataframe tbody tr th {\n",
              "        vertical-align: top;\n",
              "    }\n",
              "\n",
              "    .dataframe thead th {\n",
              "        text-align: right;\n",
              "    }\n",
              "</style>\n",
              "<table border=\"1\" class=\"dataframe\">\n",
              "  <thead>\n",
              "    <tr style=\"text-align: right;\">\n",
              "      <th></th>\n",
              "      <th>molecule_chembl_id</th>\n",
              "      <th>molecule_structures</th>\n",
              "    </tr>\n",
              "  </thead>\n",
              "  <tbody>\n",
              "    <tr>\n",
              "      <th>0</th>\n",
              "      <td>CHEMBL6246</td>\n",
              "      <td>{'canonical_smiles': 'O=c1oc2c(O)c(O)cc3c(=O)o...</td>\n",
              "    </tr>\n",
              "    <tr>\n",
              "      <th>1</th>\n",
              "      <td>CHEMBL10</td>\n",
              "      <td>{'canonical_smiles': 'C[S+]([O-])c1ccc(-c2nc(-...</td>\n",
              "    </tr>\n",
              "    <tr>\n",
              "      <th>2</th>\n",
              "      <td>CHEMBL6976</td>\n",
              "      <td>{'canonical_smiles': 'COc1cc2c(cc1OC)Nc1ncn(C)...</td>\n",
              "    </tr>\n",
              "    <tr>\n",
              "      <th>3</th>\n",
              "      <td>CHEMBL7002</td>\n",
              "      <td>{'canonical_smiles': 'CC1(COc2ccc(CC3SC(=O)NC3...</td>\n",
              "    </tr>\n",
              "    <tr>\n",
              "      <th>4</th>\n",
              "      <td>CHEMBL414013</td>\n",
              "      <td>{'canonical_smiles': 'COc1cc2c(cc1OC)Nc1ncnc(O...</td>\n",
              "    </tr>\n",
              "  </tbody>\n",
              "</table>\n",
              "</div>\n",
              "      <button class=\"colab-df-convert\" onclick=\"convertToInteractive('df-0785dbe3-93e8-47a6-a115-459962ea439d')\"\n",
              "              title=\"Convert this dataframe to an interactive table.\"\n",
              "              style=\"display:none;\">\n",
              "        \n",
              "  <svg xmlns=\"http://www.w3.org/2000/svg\" height=\"24px\"viewBox=\"0 0 24 24\"\n",
              "       width=\"24px\">\n",
              "    <path d=\"M0 0h24v24H0V0z\" fill=\"none\"/>\n",
              "    <path d=\"M18.56 5.44l.94 2.06.94-2.06 2.06-.94-2.06-.94-.94-2.06-.94 2.06-2.06.94zm-11 1L8.5 8.5l.94-2.06 2.06-.94-2.06-.94L8.5 2.5l-.94 2.06-2.06.94zm10 10l.94 2.06.94-2.06 2.06-.94-2.06-.94-.94-2.06-.94 2.06-2.06.94z\"/><path d=\"M17.41 7.96l-1.37-1.37c-.4-.4-.92-.59-1.43-.59-.52 0-1.04.2-1.43.59L10.3 9.45l-7.72 7.72c-.78.78-.78 2.05 0 2.83L4 21.41c.39.39.9.59 1.41.59.51 0 1.02-.2 1.41-.59l7.78-7.78 2.81-2.81c.8-.78.8-2.07 0-2.86zM5.41 20L4 18.59l7.72-7.72 1.47 1.35L5.41 20z\"/>\n",
              "  </svg>\n",
              "      </button>\n",
              "      \n",
              "  <style>\n",
              "    .colab-df-container {\n",
              "      display:flex;\n",
              "      flex-wrap:wrap;\n",
              "      gap: 12px;\n",
              "    }\n",
              "\n",
              "    .colab-df-convert {\n",
              "      background-color: #E8F0FE;\n",
              "      border: none;\n",
              "      border-radius: 50%;\n",
              "      cursor: pointer;\n",
              "      display: none;\n",
              "      fill: #1967D2;\n",
              "      height: 32px;\n",
              "      padding: 0 0 0 0;\n",
              "      width: 32px;\n",
              "    }\n",
              "\n",
              "    .colab-df-convert:hover {\n",
              "      background-color: #E2EBFA;\n",
              "      box-shadow: 0px 1px 2px rgba(60, 64, 67, 0.3), 0px 1px 3px 1px rgba(60, 64, 67, 0.15);\n",
              "      fill: #174EA6;\n",
              "    }\n",
              "\n",
              "    [theme=dark] .colab-df-convert {\n",
              "      background-color: #3B4455;\n",
              "      fill: #D2E3FC;\n",
              "    }\n",
              "\n",
              "    [theme=dark] .colab-df-convert:hover {\n",
              "      background-color: #434B5C;\n",
              "      box-shadow: 0px 1px 3px 1px rgba(0, 0, 0, 0.15);\n",
              "      filter: drop-shadow(0px 1px 2px rgba(0, 0, 0, 0.3));\n",
              "      fill: #FFFFFF;\n",
              "    }\n",
              "  </style>\n",
              "\n",
              "      <script>\n",
              "        const buttonEl =\n",
              "          document.querySelector('#df-0785dbe3-93e8-47a6-a115-459962ea439d button.colab-df-convert');\n",
              "        buttonEl.style.display =\n",
              "          google.colab.kernel.accessAllowed ? 'block' : 'none';\n",
              "\n",
              "        async function convertToInteractive(key) {\n",
              "          const element = document.querySelector('#df-0785dbe3-93e8-47a6-a115-459962ea439d');\n",
              "          const dataTable =\n",
              "            await google.colab.kernel.invokeFunction('convertToInteractive',\n",
              "                                                     [key], {});\n",
              "          if (!dataTable) return;\n",
              "\n",
              "          const docLinkHtml = 'Like what you see? Visit the ' +\n",
              "            '<a target=\"_blank\" href=https://colab.research.google.com/notebooks/data_table.ipynb>data table notebook</a>'\n",
              "            + ' to learn more about interactive tables.';\n",
              "          element.innerHTML = '';\n",
              "          dataTable['output_type'] = 'display_data';\n",
              "          await google.colab.output.renderOutput(dataTable, element);\n",
              "          const docLink = document.createElement('div');\n",
              "          docLink.innerHTML = docLinkHtml;\n",
              "          element.appendChild(docLink);\n",
              "        }\n",
              "      </script>\n",
              "    </div>\n",
              "  </div>\n",
              "  "
            ]
          },
          "metadata": {},
          "execution_count": 43
        }
      ]
    },
    {
      "cell_type": "markdown",
      "source": [
        "Preprocess and filter compound data"
      ],
      "metadata": {
        "id": "aYNuT613TY3A"
      }
    },
    {
      "cell_type": "markdown",
      "source": [
        "1. Remove entries with missing molecule structure entry"
      ],
      "metadata": {
        "id": "mKvosdsvTetA"
      }
    },
    {
      "cell_type": "code",
      "source": [
        "compounds_df.dropna(axis=0, how=\"any\", inplace=True)\n",
        "print(f\"DataFrame shape: {compounds_df.shape}\")"
      ],
      "metadata": {
        "colab": {
          "base_uri": "https://localhost:8080/"
        },
        "id": "ih416BHBTcLw",
        "outputId": "4cc9eabb-b28d-4add-9301-6918bf34755b"
      },
      "execution_count": 44,
      "outputs": [
        {
          "output_type": "stream",
          "name": "stdout",
          "text": [
            "DataFrame shape: (6380, 2)\n"
          ]
        }
      ]
    },
    {
      "cell_type": "markdown",
      "source": [
        "2. Delete duplicate molecules"
      ],
      "metadata": {
        "id": "4mn6curmUYgY"
      }
    },
    {
      "cell_type": "code",
      "source": [
        "compounds_df.drop_duplicates(\"molecule_chembl_id\", keep=\"first\", inplace=True)\n",
        "print(f\"DataFrame shape: {compounds_df.shape}\")"
      ],
      "metadata": {
        "colab": {
          "base_uri": "https://localhost:8080/"
        },
        "id": "eeDEjxiMUZEU",
        "outputId": "b859e658-bdcd-4b15-9938-3ba99838c124"
      },
      "execution_count": 48,
      "outputs": [
        {
          "output_type": "stream",
          "name": "stdout",
          "text": [
            "DataFrame shape: (6380, 2)\n"
          ]
        }
      ]
    },
    {
      "cell_type": "markdown",
      "source": [
        "3. Get molecules with canonical SMILES"
      ],
      "metadata": {
        "id": "DNAz4-D2VraP"
      }
    },
    {
      "cell_type": "code",
      "source": [
        "compounds_df.iloc[0].molecule_structures.keys()"
      ],
      "metadata": {
        "colab": {
          "base_uri": "https://localhost:8080/"
        },
        "id": "34Jox4MjVxlH",
        "outputId": "255e68e7-72e4-4763-8039-77fff6c05510"
      },
      "execution_count": 49,
      "outputs": [
        {
          "output_type": "execute_result",
          "data": {
            "text/plain": [
              "dict_keys(['canonical_smiles', 'molfile', 'standard_inchi', 'standard_inchi_key'])"
            ]
          },
          "metadata": {},
          "execution_count": 49
        }
      ]
    },
    {
      "cell_type": "code",
      "source": [
        "canonical_smiles = []\n",
        "\n",
        "for i, compounds in compounds_df.iterrows():\n",
        "    try:\n",
        "        canonical_smiles.append(compounds[\"molecule_structures\"][\"canonical_smiles\"])\n",
        "    except KeyError:\n",
        "        canonical_smiles.append(None)\n",
        "\n",
        "compounds_df[\"smiles\"] = canonical_smiles\n",
        "compounds_df.drop(\"molecule_structures\", axis=1, inplace=True)\n",
        "print(f\"DataFrame shape: {compounds_df.shape}\")"
      ],
      "metadata": {
        "colab": {
          "base_uri": "https://localhost:8080/"
        },
        "id": "X5n6vGUBWBxw",
        "outputId": "3ae0994f-3af4-4103-b72e-a4052c289fd0"
      },
      "execution_count": 50,
      "outputs": [
        {
          "output_type": "stream",
          "name": "stdout",
          "text": [
            "DataFrame shape: (6380, 2)\n"
          ]
        }
      ]
    },
    {
      "cell_type": "code",
      "source": [
        "compounds_df.dropna(axis=0, how=\"any\", inplace=True)\n",
        "print(f\"DataFrame shape: {compounds_df.shape}\")"
      ],
      "metadata": {
        "colab": {
          "base_uri": "https://localhost:8080/"
        },
        "id": "Dl68xc3NWKag",
        "outputId": "eee7a2ef-4c8b-487b-a114-8a65ab6c00d7"
      },
      "execution_count": 51,
      "outputs": [
        {
          "output_type": "stream",
          "name": "stdout",
          "text": [
            "DataFrame shape: (6380, 2)\n"
          ]
        }
      ]
    },
    {
      "cell_type": "markdown",
      "source": [
        "Summary of compound and bioactivity data"
      ],
      "metadata": {
        "id": "afNMfjvpWTFd"
      }
    },
    {
      "cell_type": "code",
      "source": [
        "print(f\"Bioactivities filtered: {bioactivities_df.shape[0]}\")\n",
        "bioactivities_df.columns"
      ],
      "metadata": {
        "colab": {
          "base_uri": "https://localhost:8080/"
        },
        "id": "sGYwdkcCWTq6",
        "outputId": "8ec9579f-c6f7-4c99-9a73-ec931280bf4f"
      },
      "execution_count": 52,
      "outputs": [
        {
          "output_type": "stream",
          "name": "stdout",
          "text": [
            "Bioactivities filtered: 6387\n"
          ]
        },
        {
          "output_type": "execute_result",
          "data": {
            "text/plain": [
              "Index(['activity_id', 'assay_chembl_id', 'assay_description', 'assay_type',\n",
              "       'molecule_chembl_id', 'relation', 'units', 'IC50', 'target_chembl_id',\n",
              "       'target_organism', 'type'],\n",
              "      dtype='object')"
            ]
          },
          "metadata": {},
          "execution_count": 52
        }
      ]
    },
    {
      "cell_type": "code",
      "source": [
        "print(f\"Compounds filtered: {compounds_df.shape[0]}\")\n",
        "compounds_df.columns"
      ],
      "metadata": {
        "colab": {
          "base_uri": "https://localhost:8080/"
        },
        "id": "7MGMVVJvZt0n",
        "outputId": "de4fd881-23b4-4d40-dfa7-fa915e3e25fe"
      },
      "execution_count": 53,
      "outputs": [
        {
          "output_type": "stream",
          "name": "stdout",
          "text": [
            "Compounds filtered: 6380\n"
          ]
        },
        {
          "output_type": "execute_result",
          "data": {
            "text/plain": [
              "Index(['molecule_chembl_id', 'smiles'], dtype='object')"
            ]
          },
          "metadata": {},
          "execution_count": 53
        }
      ]
    },
    {
      "cell_type": "markdown",
      "source": [
        "Merge both datasets"
      ],
      "metadata": {
        "id": "FGcP0j4uZ2nA"
      }
    },
    {
      "cell_type": "code",
      "source": [
        "# Merge DataFrames\n",
        "output_df = pd.merge(\n",
        "    bioactivities_df[[\"molecule_chembl_id\", \"IC50\", \"units\"]],\n",
        "    compounds_df,\n",
        "    on=\"molecule_chembl_id\",\n",
        ")\n",
        "\n",
        "# Reset row indices\n",
        "output_df.reset_index(drop=True, inplace=True)\n",
        "\n",
        "print(f\"Dataset with {output_df.shape[0]} entries.\")"
      ],
      "metadata": {
        "colab": {
          "base_uri": "https://localhost:8080/"
        },
        "id": "0zDTBibAZ_Rf",
        "outputId": "4dc47b10-9598-4496-eec2-b14f899ab2c7"
      },
      "execution_count": 57,
      "outputs": [
        {
          "output_type": "stream",
          "name": "stdout",
          "text": [
            "Dataset with 6380 entries.\n"
          ]
        }
      ]
    },
    {
      "cell_type": "code",
      "source": [
        "output_df.dtypes"
      ],
      "metadata": {
        "colab": {
          "base_uri": "https://localhost:8080/"
        },
        "id": "pDdiJPS5a94A",
        "outputId": "831e303b-f072-4028-add5-41715b0380af"
      },
      "execution_count": 58,
      "outputs": [
        {
          "output_type": "execute_result",
          "data": {
            "text/plain": [
              "molecule_chembl_id     object\n",
              "IC50                  float64\n",
              "units                  object\n",
              "smiles                 object\n",
              "dtype: object"
            ]
          },
          "metadata": {},
          "execution_count": 58
        }
      ]
    },
    {
      "cell_type": "code",
      "source": [
        "output_df.head(10)"
      ],
      "metadata": {
        "colab": {
          "base_uri": "https://localhost:8080/",
          "height": 363
        },
        "id": "aBuWZ-YIbDZY",
        "outputId": "702cd23b-5e10-4629-cd02-a554a5e61698"
      },
      "execution_count": 59,
      "outputs": [
        {
          "output_type": "execute_result",
          "data": {
            "text/plain": [
              "  molecule_chembl_id       IC50 units  \\\n",
              "0        CHEMBL68920       41.0    nM   \n",
              "1        CHEMBL69960      170.0    nM   \n",
              "2       CHEMBL137635     9300.0    nM   \n",
              "3       CHEMBL306988   500000.0    nM   \n",
              "4        CHEMBL66879  3000000.0    nM   \n",
              "5        CHEMBL77085    96000.0    nM   \n",
              "6       CHEMBL443268     5310.0    nM   \n",
              "7        CHEMBL76979   264000.0    nM   \n",
              "8        CHEMBL76589      125.0    nM   \n",
              "9        CHEMBL76904    35000.0    nM   \n",
              "\n",
              "                                              smiles  \n",
              "0  Cc1cc(C)c(/C=C2\\C(=O)Nc3ncnc(Nc4ccc(F)c(Cl)c4)...  \n",
              "1  Cc1cc(C(=O)N2CCOCC2)[nH]c1/C=C1\\C(=O)Nc2ncnc(N...  \n",
              "2        CN(c1ccccc1)c1ncnc2ccc(N/N=N/Cc3ccccn3)cc12  \n",
              "3             CC(=C(C#N)C#N)c1ccc(NC(=O)CCC(=O)O)cc1  \n",
              "4                             O=C(O)/C=C/c1ccc(O)cc1  \n",
              "5                 N#CC(C#N)=Cc1cc(O)ccc1[N+](=O)[O-]  \n",
              "6  Cc1cc(C(=O)NCCN2CCOCC2)[nH]c1/C=C1\\C(=O)N(C)c2...  \n",
              "7                  COc1cc(/C=C(\\C#N)C(=O)O)cc(OC)c1O  \n",
              "8                N#CC(C#N)=C(N)/C(C#N)=C/c1ccc(O)cc1  \n",
              "9                          N#CC(C#N)=Cc1ccc(O)c(O)c1  "
            ],
            "text/html": [
              "\n",
              "  <div id=\"df-a3630cbf-becc-43f4-8a02-a28b1cbf731e\">\n",
              "    <div class=\"colab-df-container\">\n",
              "      <div>\n",
              "<style scoped>\n",
              "    .dataframe tbody tr th:only-of-type {\n",
              "        vertical-align: middle;\n",
              "    }\n",
              "\n",
              "    .dataframe tbody tr th {\n",
              "        vertical-align: top;\n",
              "    }\n",
              "\n",
              "    .dataframe thead th {\n",
              "        text-align: right;\n",
              "    }\n",
              "</style>\n",
              "<table border=\"1\" class=\"dataframe\">\n",
              "  <thead>\n",
              "    <tr style=\"text-align: right;\">\n",
              "      <th></th>\n",
              "      <th>molecule_chembl_id</th>\n",
              "      <th>IC50</th>\n",
              "      <th>units</th>\n",
              "      <th>smiles</th>\n",
              "    </tr>\n",
              "  </thead>\n",
              "  <tbody>\n",
              "    <tr>\n",
              "      <th>0</th>\n",
              "      <td>CHEMBL68920</td>\n",
              "      <td>41.0</td>\n",
              "      <td>nM</td>\n",
              "      <td>Cc1cc(C)c(/C=C2\\C(=O)Nc3ncnc(Nc4ccc(F)c(Cl)c4)...</td>\n",
              "    </tr>\n",
              "    <tr>\n",
              "      <th>1</th>\n",
              "      <td>CHEMBL69960</td>\n",
              "      <td>170.0</td>\n",
              "      <td>nM</td>\n",
              "      <td>Cc1cc(C(=O)N2CCOCC2)[nH]c1/C=C1\\C(=O)Nc2ncnc(N...</td>\n",
              "    </tr>\n",
              "    <tr>\n",
              "      <th>2</th>\n",
              "      <td>CHEMBL137635</td>\n",
              "      <td>9300.0</td>\n",
              "      <td>nM</td>\n",
              "      <td>CN(c1ccccc1)c1ncnc2ccc(N/N=N/Cc3ccccn3)cc12</td>\n",
              "    </tr>\n",
              "    <tr>\n",
              "      <th>3</th>\n",
              "      <td>CHEMBL306988</td>\n",
              "      <td>500000.0</td>\n",
              "      <td>nM</td>\n",
              "      <td>CC(=C(C#N)C#N)c1ccc(NC(=O)CCC(=O)O)cc1</td>\n",
              "    </tr>\n",
              "    <tr>\n",
              "      <th>4</th>\n",
              "      <td>CHEMBL66879</td>\n",
              "      <td>3000000.0</td>\n",
              "      <td>nM</td>\n",
              "      <td>O=C(O)/C=C/c1ccc(O)cc1</td>\n",
              "    </tr>\n",
              "    <tr>\n",
              "      <th>5</th>\n",
              "      <td>CHEMBL77085</td>\n",
              "      <td>96000.0</td>\n",
              "      <td>nM</td>\n",
              "      <td>N#CC(C#N)=Cc1cc(O)ccc1[N+](=O)[O-]</td>\n",
              "    </tr>\n",
              "    <tr>\n",
              "      <th>6</th>\n",
              "      <td>CHEMBL443268</td>\n",
              "      <td>5310.0</td>\n",
              "      <td>nM</td>\n",
              "      <td>Cc1cc(C(=O)NCCN2CCOCC2)[nH]c1/C=C1\\C(=O)N(C)c2...</td>\n",
              "    </tr>\n",
              "    <tr>\n",
              "      <th>7</th>\n",
              "      <td>CHEMBL76979</td>\n",
              "      <td>264000.0</td>\n",
              "      <td>nM</td>\n",
              "      <td>COc1cc(/C=C(\\C#N)C(=O)O)cc(OC)c1O</td>\n",
              "    </tr>\n",
              "    <tr>\n",
              "      <th>8</th>\n",
              "      <td>CHEMBL76589</td>\n",
              "      <td>125.0</td>\n",
              "      <td>nM</td>\n",
              "      <td>N#CC(C#N)=C(N)/C(C#N)=C/c1ccc(O)cc1</td>\n",
              "    </tr>\n",
              "    <tr>\n",
              "      <th>9</th>\n",
              "      <td>CHEMBL76904</td>\n",
              "      <td>35000.0</td>\n",
              "      <td>nM</td>\n",
              "      <td>N#CC(C#N)=Cc1ccc(O)c(O)c1</td>\n",
              "    </tr>\n",
              "  </tbody>\n",
              "</table>\n",
              "</div>\n",
              "      <button class=\"colab-df-convert\" onclick=\"convertToInteractive('df-a3630cbf-becc-43f4-8a02-a28b1cbf731e')\"\n",
              "              title=\"Convert this dataframe to an interactive table.\"\n",
              "              style=\"display:none;\">\n",
              "        \n",
              "  <svg xmlns=\"http://www.w3.org/2000/svg\" height=\"24px\"viewBox=\"0 0 24 24\"\n",
              "       width=\"24px\">\n",
              "    <path d=\"M0 0h24v24H0V0z\" fill=\"none\"/>\n",
              "    <path d=\"M18.56 5.44l.94 2.06.94-2.06 2.06-.94-2.06-.94-.94-2.06-.94 2.06-2.06.94zm-11 1L8.5 8.5l.94-2.06 2.06-.94-2.06-.94L8.5 2.5l-.94 2.06-2.06.94zm10 10l.94 2.06.94-2.06 2.06-.94-2.06-.94-.94-2.06-.94 2.06-2.06.94z\"/><path d=\"M17.41 7.96l-1.37-1.37c-.4-.4-.92-.59-1.43-.59-.52 0-1.04.2-1.43.59L10.3 9.45l-7.72 7.72c-.78.78-.78 2.05 0 2.83L4 21.41c.39.39.9.59 1.41.59.51 0 1.02-.2 1.41-.59l7.78-7.78 2.81-2.81c.8-.78.8-2.07 0-2.86zM5.41 20L4 18.59l7.72-7.72 1.47 1.35L5.41 20z\"/>\n",
              "  </svg>\n",
              "      </button>\n",
              "      \n",
              "  <style>\n",
              "    .colab-df-container {\n",
              "      display:flex;\n",
              "      flex-wrap:wrap;\n",
              "      gap: 12px;\n",
              "    }\n",
              "\n",
              "    .colab-df-convert {\n",
              "      background-color: #E8F0FE;\n",
              "      border: none;\n",
              "      border-radius: 50%;\n",
              "      cursor: pointer;\n",
              "      display: none;\n",
              "      fill: #1967D2;\n",
              "      height: 32px;\n",
              "      padding: 0 0 0 0;\n",
              "      width: 32px;\n",
              "    }\n",
              "\n",
              "    .colab-df-convert:hover {\n",
              "      background-color: #E2EBFA;\n",
              "      box-shadow: 0px 1px 2px rgba(60, 64, 67, 0.3), 0px 1px 3px 1px rgba(60, 64, 67, 0.15);\n",
              "      fill: #174EA6;\n",
              "    }\n",
              "\n",
              "    [theme=dark] .colab-df-convert {\n",
              "      background-color: #3B4455;\n",
              "      fill: #D2E3FC;\n",
              "    }\n",
              "\n",
              "    [theme=dark] .colab-df-convert:hover {\n",
              "      background-color: #434B5C;\n",
              "      box-shadow: 0px 1px 3px 1px rgba(0, 0, 0, 0.15);\n",
              "      filter: drop-shadow(0px 1px 2px rgba(0, 0, 0, 0.3));\n",
              "      fill: #FFFFFF;\n",
              "    }\n",
              "  </style>\n",
              "\n",
              "      <script>\n",
              "        const buttonEl =\n",
              "          document.querySelector('#df-a3630cbf-becc-43f4-8a02-a28b1cbf731e button.colab-df-convert');\n",
              "        buttonEl.style.display =\n",
              "          google.colab.kernel.accessAllowed ? 'block' : 'none';\n",
              "\n",
              "        async function convertToInteractive(key) {\n",
              "          const element = document.querySelector('#df-a3630cbf-becc-43f4-8a02-a28b1cbf731e');\n",
              "          const dataTable =\n",
              "            await google.colab.kernel.invokeFunction('convertToInteractive',\n",
              "                                                     [key], {});\n",
              "          if (!dataTable) return;\n",
              "\n",
              "          const docLinkHtml = 'Like what you see? Visit the ' +\n",
              "            '<a target=\"_blank\" href=https://colab.research.google.com/notebooks/data_table.ipynb>data table notebook</a>'\n",
              "            + ' to learn more about interactive tables.';\n",
              "          element.innerHTML = '';\n",
              "          dataTable['output_type'] = 'display_data';\n",
              "          await google.colab.output.renderOutput(dataTable, element);\n",
              "          const docLink = document.createElement('div');\n",
              "          docLink.innerHTML = docLinkHtml;\n",
              "          element.appendChild(docLink);\n",
              "        }\n",
              "      </script>\n",
              "    </div>\n",
              "  </div>\n",
              "  "
            ]
          },
          "metadata": {},
          "execution_count": 59
        }
      ]
    },
    {
      "cell_type": "markdown",
      "source": [
        "Add pIC50 values"
      ],
      "metadata": {
        "id": "PNqDKdFlbH2_"
      }
    },
    {
      "cell_type": "code",
      "source": [
        "def convert_ic50_to_pic50(IC50_value):\n",
        "    pIC50_value = 9 - math.log10(IC50_value)\n",
        "    return pIC50_value"
      ],
      "metadata": {
        "id": "MSdbsgQgbQvg"
      },
      "execution_count": 60,
      "outputs": []
    },
    {
      "cell_type": "code",
      "source": [
        "# Apply conversion to each row of the compounds DataFrame\n",
        "output_df[\"pIC50\"] = output_df.apply(lambda x: convert_ic50_to_pic50(x.IC50), axis=1)"
      ],
      "metadata": {
        "id": "gCjIDvlYbVUv"
      },
      "execution_count": 63,
      "outputs": []
    },
    {
      "cell_type": "code",
      "source": [
        "output_df.head()"
      ],
      "metadata": {
        "colab": {
          "base_uri": "https://localhost:8080/",
          "height": 206
        },
        "id": "tH7o_kLibyLy",
        "outputId": "fb0b749b-3cdf-4ea2-c494-ee14fcf8886b"
      },
      "execution_count": 64,
      "outputs": [
        {
          "output_type": "execute_result",
          "data": {
            "text/plain": [
              "  molecule_chembl_id       IC50 units  \\\n",
              "0        CHEMBL68920       41.0    nM   \n",
              "1        CHEMBL69960      170.0    nM   \n",
              "2       CHEMBL137635     9300.0    nM   \n",
              "3       CHEMBL306988   500000.0    nM   \n",
              "4        CHEMBL66879  3000000.0    nM   \n",
              "\n",
              "                                              smiles     pIC50  \n",
              "0  Cc1cc(C)c(/C=C2\\C(=O)Nc3ncnc(Nc4ccc(F)c(Cl)c4)...  7.387216  \n",
              "1  Cc1cc(C(=O)N2CCOCC2)[nH]c1/C=C1\\C(=O)Nc2ncnc(N...  6.769551  \n",
              "2        CN(c1ccccc1)c1ncnc2ccc(N/N=N/Cc3ccccn3)cc12  5.031517  \n",
              "3             CC(=C(C#N)C#N)c1ccc(NC(=O)CCC(=O)O)cc1  3.301030  \n",
              "4                             O=C(O)/C=C/c1ccc(O)cc1  2.522879  "
            ],
            "text/html": [
              "\n",
              "  <div id=\"df-d10968b6-1975-4b0c-b5f8-57d01aaa9e5c\">\n",
              "    <div class=\"colab-df-container\">\n",
              "      <div>\n",
              "<style scoped>\n",
              "    .dataframe tbody tr th:only-of-type {\n",
              "        vertical-align: middle;\n",
              "    }\n",
              "\n",
              "    .dataframe tbody tr th {\n",
              "        vertical-align: top;\n",
              "    }\n",
              "\n",
              "    .dataframe thead th {\n",
              "        text-align: right;\n",
              "    }\n",
              "</style>\n",
              "<table border=\"1\" class=\"dataframe\">\n",
              "  <thead>\n",
              "    <tr style=\"text-align: right;\">\n",
              "      <th></th>\n",
              "      <th>molecule_chembl_id</th>\n",
              "      <th>IC50</th>\n",
              "      <th>units</th>\n",
              "      <th>smiles</th>\n",
              "      <th>pIC50</th>\n",
              "    </tr>\n",
              "  </thead>\n",
              "  <tbody>\n",
              "    <tr>\n",
              "      <th>0</th>\n",
              "      <td>CHEMBL68920</td>\n",
              "      <td>41.0</td>\n",
              "      <td>nM</td>\n",
              "      <td>Cc1cc(C)c(/C=C2\\C(=O)Nc3ncnc(Nc4ccc(F)c(Cl)c4)...</td>\n",
              "      <td>7.387216</td>\n",
              "    </tr>\n",
              "    <tr>\n",
              "      <th>1</th>\n",
              "      <td>CHEMBL69960</td>\n",
              "      <td>170.0</td>\n",
              "      <td>nM</td>\n",
              "      <td>Cc1cc(C(=O)N2CCOCC2)[nH]c1/C=C1\\C(=O)Nc2ncnc(N...</td>\n",
              "      <td>6.769551</td>\n",
              "    </tr>\n",
              "    <tr>\n",
              "      <th>2</th>\n",
              "      <td>CHEMBL137635</td>\n",
              "      <td>9300.0</td>\n",
              "      <td>nM</td>\n",
              "      <td>CN(c1ccccc1)c1ncnc2ccc(N/N=N/Cc3ccccn3)cc12</td>\n",
              "      <td>5.031517</td>\n",
              "    </tr>\n",
              "    <tr>\n",
              "      <th>3</th>\n",
              "      <td>CHEMBL306988</td>\n",
              "      <td>500000.0</td>\n",
              "      <td>nM</td>\n",
              "      <td>CC(=C(C#N)C#N)c1ccc(NC(=O)CCC(=O)O)cc1</td>\n",
              "      <td>3.301030</td>\n",
              "    </tr>\n",
              "    <tr>\n",
              "      <th>4</th>\n",
              "      <td>CHEMBL66879</td>\n",
              "      <td>3000000.0</td>\n",
              "      <td>nM</td>\n",
              "      <td>O=C(O)/C=C/c1ccc(O)cc1</td>\n",
              "      <td>2.522879</td>\n",
              "    </tr>\n",
              "  </tbody>\n",
              "</table>\n",
              "</div>\n",
              "      <button class=\"colab-df-convert\" onclick=\"convertToInteractive('df-d10968b6-1975-4b0c-b5f8-57d01aaa9e5c')\"\n",
              "              title=\"Convert this dataframe to an interactive table.\"\n",
              "              style=\"display:none;\">\n",
              "        \n",
              "  <svg xmlns=\"http://www.w3.org/2000/svg\" height=\"24px\"viewBox=\"0 0 24 24\"\n",
              "       width=\"24px\">\n",
              "    <path d=\"M0 0h24v24H0V0z\" fill=\"none\"/>\n",
              "    <path d=\"M18.56 5.44l.94 2.06.94-2.06 2.06-.94-2.06-.94-.94-2.06-.94 2.06-2.06.94zm-11 1L8.5 8.5l.94-2.06 2.06-.94-2.06-.94L8.5 2.5l-.94 2.06-2.06.94zm10 10l.94 2.06.94-2.06 2.06-.94-2.06-.94-.94-2.06-.94 2.06-2.06.94z\"/><path d=\"M17.41 7.96l-1.37-1.37c-.4-.4-.92-.59-1.43-.59-.52 0-1.04.2-1.43.59L10.3 9.45l-7.72 7.72c-.78.78-.78 2.05 0 2.83L4 21.41c.39.39.9.59 1.41.59.51 0 1.02-.2 1.41-.59l7.78-7.78 2.81-2.81c.8-.78.8-2.07 0-2.86zM5.41 20L4 18.59l7.72-7.72 1.47 1.35L5.41 20z\"/>\n",
              "  </svg>\n",
              "      </button>\n",
              "      \n",
              "  <style>\n",
              "    .colab-df-container {\n",
              "      display:flex;\n",
              "      flex-wrap:wrap;\n",
              "      gap: 12px;\n",
              "    }\n",
              "\n",
              "    .colab-df-convert {\n",
              "      background-color: #E8F0FE;\n",
              "      border: none;\n",
              "      border-radius: 50%;\n",
              "      cursor: pointer;\n",
              "      display: none;\n",
              "      fill: #1967D2;\n",
              "      height: 32px;\n",
              "      padding: 0 0 0 0;\n",
              "      width: 32px;\n",
              "    }\n",
              "\n",
              "    .colab-df-convert:hover {\n",
              "      background-color: #E2EBFA;\n",
              "      box-shadow: 0px 1px 2px rgba(60, 64, 67, 0.3), 0px 1px 3px 1px rgba(60, 64, 67, 0.15);\n",
              "      fill: #174EA6;\n",
              "    }\n",
              "\n",
              "    [theme=dark] .colab-df-convert {\n",
              "      background-color: #3B4455;\n",
              "      fill: #D2E3FC;\n",
              "    }\n",
              "\n",
              "    [theme=dark] .colab-df-convert:hover {\n",
              "      background-color: #434B5C;\n",
              "      box-shadow: 0px 1px 3px 1px rgba(0, 0, 0, 0.15);\n",
              "      filter: drop-shadow(0px 1px 2px rgba(0, 0, 0, 0.3));\n",
              "      fill: #FFFFFF;\n",
              "    }\n",
              "  </style>\n",
              "\n",
              "      <script>\n",
              "        const buttonEl =\n",
              "          document.querySelector('#df-d10968b6-1975-4b0c-b5f8-57d01aaa9e5c button.colab-df-convert');\n",
              "        buttonEl.style.display =\n",
              "          google.colab.kernel.accessAllowed ? 'block' : 'none';\n",
              "\n",
              "        async function convertToInteractive(key) {\n",
              "          const element = document.querySelector('#df-d10968b6-1975-4b0c-b5f8-57d01aaa9e5c');\n",
              "          const dataTable =\n",
              "            await google.colab.kernel.invokeFunction('convertToInteractive',\n",
              "                                                     [key], {});\n",
              "          if (!dataTable) return;\n",
              "\n",
              "          const docLinkHtml = 'Like what you see? Visit the ' +\n",
              "            '<a target=\"_blank\" href=https://colab.research.google.com/notebooks/data_table.ipynb>data table notebook</a>'\n",
              "            + ' to learn more about interactive tables.';\n",
              "          element.innerHTML = '';\n",
              "          dataTable['output_type'] = 'display_data';\n",
              "          await google.colab.output.renderOutput(dataTable, element);\n",
              "          const docLink = document.createElement('div');\n",
              "          docLink.innerHTML = docLinkHtml;\n",
              "          element.appendChild(docLink);\n",
              "        }\n",
              "      </script>\n",
              "    </div>\n",
              "  </div>\n",
              "  "
            ]
          },
          "metadata": {},
          "execution_count": 64
        }
      ]
    },
    {
      "cell_type": "markdown",
      "source": [
        "Draw compound data"
      ],
      "metadata": {
        "id": "Fa3HGN67cNgK"
      }
    },
    {
      "cell_type": "code",
      "source": [
        "output_df.hist(column=\"pIC50\")"
      ],
      "metadata": {
        "colab": {
          "base_uri": "https://localhost:8080/",
          "height": 317
        },
        "id": "AerCnuTFcMaI",
        "outputId": "2214ad79-3979-4002-f480-f00eb6bb33c4"
      },
      "execution_count": 67,
      "outputs": [
        {
          "output_type": "execute_result",
          "data": {
            "text/plain": [
              "array([[<matplotlib.axes._subplots.AxesSubplot object at 0x7f4582071cd0>]],\n",
              "      dtype=object)"
            ]
          },
          "metadata": {},
          "execution_count": 67
        },
        {
          "output_type": "display_data",
          "data": {
            "text/plain": [
              "<Figure size 432x288 with 1 Axes>"
            ],
            "image/png": "[encoded data removed]"
          },
          "metadata": {
            "needs_background": "light"
          }
        }
      ]
    },
    {
      "cell_type": "code",
      "source": [
        "# Add molecule column\n",
        "PandasTools.AddMoleculeColumnToFrame(output_df, smilesCol=\"smiles\")"
      ],
      "metadata": {
        "id": "YAYGFRulcybY"
      },
      "execution_count": 69,
      "outputs": []
    },
    {
      "cell_type": "code",
      "source": [
        "# Sort molecules by pIC50\n",
        "output_df.sort_values(by=\"pIC50\", ascending=False, inplace=True)"
      ],
      "metadata": {
        "id": "hZFyN8i5c7WK"
      },
      "execution_count": 70,
      "outputs": []
    },
    {
      "cell_type": "code",
      "source": [
        "# Reset index\n",
        "output_df.reset_index(drop=True, inplace=True)"
      ],
      "metadata": {
        "id": "cahO1MlXc9xo"
      },
      "execution_count": 71,
      "outputs": []
    },
    {
      "cell_type": "code",
      "source": [
        "output_df.drop(\"smiles\", axis=1).head(10)"
      ],
      "metadata": {
        "colab": {
          "base_uri": "https://localhost:8080/",
          "height": 1000
        },
        "id": "PjF0ghp5dAS3",
        "outputId": "13db5ab4-1c4c-4d77-ab1e-4d4656565915"
      },
      "execution_count": 73,
      "outputs": [
        {
          "output_type": "execute_result",
          "data": {
            "text/plain": [
              "  molecule_chembl_id   IC50 units      pIC50  \\\n",
              "0        CHEMBL63786  0.003    nM  11.522879   \n",
              "1        CHEMBL35820  0.006    nM  11.221849   \n",
              "2        CHEMBL53711  0.006    nM  11.221849   \n",
              "3        CHEMBL53753  0.008    nM  11.096910   \n",
              "4        CHEMBL66031  0.008    nM  11.096910   \n",
              "5       CHEMBL176582  0.010    nM  11.000000   \n",
              "6       CHEMBL174426  0.025    nM  10.602060   \n",
              "7        CHEMBL29197  0.025    nM  10.602060   \n",
              "8      CHEMBL1243316  0.030    nM  10.522879   \n",
              "9      CHEMBL3613702  0.037    nM  10.431798   \n",
              "\n",
              "                                               ROMol  \n",
              "0  <img data-content=\"rdkit/molecule\" src=\"data:i...  \n",
              "1  <img data-content=\"rdkit/molecule\" src=\"data:i...  \n",
              "2  <img data-content=\"rdkit/molecule\" src=\"data:i...  \n",
              "3  <img data-content=\"rdkit/molecule\" src=\"data:i...  \n",
              "4  <img data-content=\"rdkit/molecule\" src=\"data:i...  \n",
              "5  <img data-content=\"rdkit/molecule\" src=\"data:i...  \n",
              "6  <img data-content=\"rdkit/molecule\" src=\"data:i...  \n",
              "7  <img data-content=\"rdkit/molecule\" src=\"data:i...  \n",
              "8  <img data-content=\"rdkit/molecule\" src=\"data:i...  \n",
              "9  <img data-content=\"rdkit/molecule\" src=\"data:i...  "
            ],
            "text/html": [
              "\n",
              "  <div id=\"df-25553029-946b-4b01-a599-53fd508d17c2\">\n",
              "    <div class=\"colab-df-container\">\n",
              "      <div>\n",
              "<style scoped>\n",
              "    .dataframe tbody tr th:only-of-type {\n",
              "        vertical-align: middle;\n",
              "    }\n",
              "\n",
              "    .dataframe tbody tr th {\n",
              "        vertical-align: top;\n",
              "    }\n",
              "\n",
              "    .dataframe thead th {\n",
              "        text-align: right;\n",
              "    }\n",
              "</style>\n",
              "<table border=\"1\" class=\"dataframe\">\n",
              "  <thead>\n",
              "    <tr style=\"text-align: right;\">\n",
              "      <th></th>\n",
              "      <th>molecule_chembl_id</th>\n",
              "      <th>IC50</th>\n",
              "      <th>units</th>\n",
              "      <th>pIC50</th>\n",
              "      <th>ROMol</th>\n",
              "    </tr>\n",
              "  </thead>\n",
              "  <tbody>\n",
              "    <tr>\n",
              "      <th>0</th>\n",
              "      <td>CHEMBL63786</td>\n",
              "      <td>0.003</td>\n",
              "      <td>nM</td>\n",
              "      <td>11.522879</td>\n",
              "      <td style=\"text-align: center;\"><img data-content=\"rdkit/molecule\" src=\"data:image/png;base64,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\" alt=\"Mol\"/></td>\n",
              "    </tr>\n",
              "    <tr>\n",
              "      <th>1</th>\n",
              "      <td>CHEMBL35820</td>\n",
              "      <td>0.006</td>\n",
              "      <td>nM</td>\n",
              "      <td>11.221849</td>\n",
              "      <td style=\"text-align: center;\"><img data-content=\"rdkit/molecule\" src=\"data:image/png;base64,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\" alt=\"Mol\"/></td>\n",
              "    </tr>\n",
              "    <tr>\n",
              "      <th>2</th>\n",
              "      <td>CHEMBL53711</td>\n",
              "      <td>0.006</td>\n",
              "      <td>nM</td>\n",
              "      <td>11.221849</td>\n",
              "      <td style=\"text-align: center;\"><img data-content=\"rdkit/molecule\" src=\"data:image/png;base64,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\" alt=\"Mol\"/></td>\n",
              "    </tr>\n",
              "    <tr>\n",
              "      <th>3</th>\n",
              "      <td>CHEMBL53753</td>\n",
              "      <td>0.008</td>\n",
              "      <td>nM</td>\n",
              "      <td>11.096910</td>\n",
              "      <td style=\"text-align: center;\"><img data-content=\"rdkit/molecule\" src=\"data:image/png;base64,iVBORw0KGgoAAAANSUhEUgAAAMgAAADICAIAAAAiOjnJAAAABmJLR0QA/wD/AP+gvaeTAAAcnUlEQVR4nO2deVyU1f7HP7OAKAybyCK4ooCDooGKKaFpZF5AE8MtwS2tfhbmcrPFm1tWlnRdSjPsupYKQgmiiUvXi4ligMIMigihsm8CwiDLzPn98eCIgIAzzxlczvvli9c8x2e+3zPwmfOc71m+R0AIAYPBN8KOrgDj2YQJi0EFJiwGFZiwGFRgwmJQgQmLQQUmLAYVmLAYVGDCYlCBCYtBBSYsBhWYsBhUYMJiUIEJi0EFJiwGFZiwGFRgwmJQgQmLQQUmLAYVmLAYVGDCYlCBCYtBBSYsBhWYsBhUYMJiUIEJi0EFJiwGFZiwGFRgwmJQgQmLQQUmLAYVmLAYVGDCYlCBCYtBBSYsBhWYsBhUYMJiUIEJi0EFJiwGFcQdXYHnApVKtWXLljNnzsjlcqlU6uzsLJVK3dzcnJycRCJRR9eOCgJ2gIAOWLFixddff92lSxeFQtG43MDAQCqVDryPs/NrPXsKWrFz/jyMjODiAgAlJZDL4elJteKaw4RFnb17986ePVtPTy8qKsrOzi41NVUul3M/r127plKpuNssLV0KC68YG6N/f0ilcHaGVIphw2Bt/cDUlCm4cAGpqTAxQVwcVq/GiRMd86HahAmLLufPnx87dmxNTc22bdvefffdJv9bUVEhl8tlMplMJisrsz9+PKioqKkFa2sMHIiBA+Htje3bQQhsbbF165MuLNbHosjNmzf9/PxqamqCgoKaqwqAsbHxiy+++OKLL6pL7tyBXI7U1Iafly8jPx/5+Th1CsbGAPB//4clS3Dpks4+hIYwYdGisrJy4sSJBQUFXl5ewcHBXKFCoejSpUsr7zIzg4cHPDwelGRlQS6HTIbRoyGTQU8PW7bg3XexeTPV6msNYVBAqVROmjQJgKOj4507d7jCpKQkS0vLiIgIjc36+ZH//pcQQmbOJG+9RV59lZfKUoGNY1Fh5crPjhw5Ym5ufvToUVNTUwD5+fkTJ04sLCw8evSo9vY3bkR4uPZmKMKExT979yI8fFqvXv1CQ0P79esH4N69e5MnT759+/aoUaO2bdumseW+fSGRAICNDTZsQP/+fFWZAh3dZD5r/Pkn6dSJAOTHH2u5EpVK9eabbwLo1atXQUEBL15qakhEBAkO5sUYFZiw+CQri1hZEYAEBT0oXLduHQCJRHLlyhW+HGVnE5GIGBiQ+/23Jw72KOSNykpMnIiCAnh54X4UiIgInD6tJxaLf/nlFxduyJwPbG0xZgzu3cPhw3yZ5JuOVvYzglJJJk0iAHF0fNCKJCYSQ0MCkG3bMnj3uHs3AYinJ++G+YEJix9WrCAAMTcn1683lOTlkR49CEACA/l0VF/f8KKykhgZEYGAZPAvWh5gwuKBvXsJQMRicupUQ0l1NRkxggBk5Ehy7x5vjj76iHTrRm7caLgMDCQAWbOGN/s8wvpY2lJfj6+/BoCtWzFuHAAQggULcOECevXCr7+iUyfefOXloagI+/Y1XAYEAMC+fXgS53s7WtlPH1evEpms4bVCQeLiSEkJ+f77BzfcuEFMTYlEQpKTeXZ96hQBSO/eRKUihBClsuFpe+4cz460hwnrsXn3XWJuTrgBqcxMMnhwC/dcu0ZOnODftVpJsbENJR99RADy9tv8+9IS9ijUhBdfxPLlrd3g6IhXX+Xfr1CIWbMAPHgaBgYCQFgYqalR8e9PC5iwNCEgAGlp+OOPDnA9Zw4AHDqE6moAGDAAAQE/denSNzLyyZo7ZMLSBIEA332H995Dba2uXTs4YPhwCAR3TpzI4EqGDVNkZ2ft3btX11VpFSYsDRk2DJ6e+P77DnD9zjvHq6ttQkKCuMuZM2fq6+v//vvv+fn5HVCbR8CEpTlffNExa1cmTXIHEBMTwympa9euEyZMqK+vP3jwYAfU5hEwYT02FhYwMgIAMzNs2AA7O11XwNzcnFPSgQMHuJLAwEAA+9Rd+ieBjg5Ln2JUKnLuHPn3vzvAdUREBIAhQ4ZwlzU1NRYWFgB4XEChJazF0pyKCnh5YdkyZGfr2rW3t7eFhcXly5eTk5MB6OvrT506FcD+/ft1XZVHwISlOSYm8PGBSoVfftG1a319/WnTpqHR4y8gIADAzz//rFQqdV2blmDC0gpufHLPng5xHWhvb9+jRw/ucsSIEU5OTrm5uceOHeuA2jSDbVjVivp69OiB/HwkJMDVVdfeCSECwYMt+YGBgREREVVVVTY2Nm5ublyGCGdn54EDB3bicSa8fTBhacuSJdi0CYsXY9OmjqxGSkrKyJEjq6qqRCJRfX194//S19dXK4yjd+/etOvTAcKKjo5OTk4+fvy4s7PzoEGDuJ/m5uY6rgZfJCbCzQ3duiEnB3p6HVOHkpISd3f3jIwMf3///fv3Z2dny+XyhISE5hkiOCQSiYODgzrvjbOzc9++ffmtkq6FFRMT4+3tbWRkVFZW1rjczMyscX6fIUOGGHGDRU8DgwcjORmRkfD17QDvdXV1Xl5eZ8+edXNz+9///td8p3VtbW16erpaZ6mpqZmZmU3uafz7d3Z2Hjx4cLdu3bSplU6FlZaWNmLEiLKysqVLl06YMEEmk8nl8uTk5NTU1MrKysZ3CoXCPn36qNszZ2dnR0dHvY5qENrim2/w4Yd44w2EhXWA94ULF4aEhHTv3j0+Pt7W1rY9bykpKUlJSZHL5SkpKdxfocn3HMCSJUv+9a9/mZmZaVYr3QmrtLR0xIgR6enpfn5+YWFhQuFDAWlubi73feK+WKmpqdXc9P19xGJxz549ufaM+2INGDCgiZGOIjcXPXtCLEZuLjE3by3BFe988803H374YefOnc+ePTts2DCN7dy5c6fx0zMxMdHQ0HDYsGGax5i6GYetra0dN24cgBdeeKGysrI998vl8kOHDq1cuXLy5Mn9+vVrriHuk8fFxemg/m3yzjspzs5zt2/frkunx44dE4lEAoHg4MGD/FouLCzs1KmTWCzOy8vTzIKOhMUl8bG2tr5165ZmFmpqamQyWWho6KpVq3x8fPr27ctF2q6uruHh4fzWVgO4Ie+RI0fqzKNcLjcxMQHw+eef07Dv5+cHIFjT3da6ENaWLVsAGBgYqFuXioqKq1evamm2tLQ0KCgIwMSJE7Wuo7YoFAruz3zt2jUduCsuLra3twfg7++v4hbA882vv/4KYODAgZq9nbqwYmJixGKxQCDYv38/V6JUKn19fY2NjU+fPq2l8cLCQj09PbFYnJ+fr3VNtWXevHkAPvvsM9qOamtrx4wZA8DNza2qqopHyzdv3ty2bZvaCzexffnyZQ1M0RXWtWvXuLBi5cqV6sJ//vOfAMzNza+rN3dqga+vL4DNmzdrb0pL/vjjDwC9evVSKpWNy1NSUs6dO1dWVsaXowULFgDo3r17dnY2XzYJIfX19VZWVgCSkpK4kvfeew/AsmXLNLBGUVglJSX9+/cH4Ofnp/5d79mzB4Cenp72zRVHaGgogKFDh/JiTRtUKlWfPn0A/JdLjnYfTgcAbGxsXnnllaCgoB07dsTGxrYniGnO119/DaBz587x8fE8VfwB77//PoClS5dyl/Hx8QCsrKzq6uoe1xQtYdXV1XFh4JAhQ9S/wT///JObtNImelIqlSdPnlQ3gTU1NV27dgWQkpLCQ721Y+XKlQDmz5/fuHD9+vVDhw5tPm4pEokcHBymTJmyatWqsLCwq1evtvn3O378OKUwkOPSpUsALC0t1TUZOHAggGPHjj2uKVrCah4GZmVlWVpaAli8eLE2ltVKSr6/H/Sdd94BsGLFCm0rrTXXr18XCATGxsbNuz5KpTI9PT0iImLdunVTp06VSqXNx3s7der0wgsvzJo167vvvmtunHYYyMEpKTo6mrv84osvAEyfPv1x7VARVvMw8O7du1wSn1dffVWDdrUJTZT0559/cn2OenXGjI5jxIgRAPbt29fmnbW1tRkZGZGRkatWrfL395dKpeqxOs9mSWR0EAZyfPnllwCmTZvGXd66datrV4dx4yIet4vIv7BaDAObZ3rVhvPnzzdRkqOjI4CYmBjtjWvJxx9/rKenJxKJpFKpv7//qlWrQkNDZTJZkx59i9y9e/fChQshISGHDx9uXE4vDGxOdna2SCQyMDBQ/6W8vFQACQl5PDs8C0sHYSAHp6QT9/exr1mzBkBAQABf9jUjNzfX1tZWIBA0XibFwaV0X7BgwebNm0+fPl1YWNh+s5TCwEcREPCVp+eVn36q5i737NEkERefwiotLXVwcAAwefJkemEgx9q1awHMmjWLu8zKyhIKhYaGhhUVFTx6eSyqq6vd3d0BeHh4VFRUyGSyPXv2rFixgpsnQDPMzMxGjRq1cOHCTZs2nTx5sqioqEWzVMPAFuGyMnl4NFyqE3Gp0ye1B96ERS8MbBFOSV26dFErafTo0QB2797Nr6N2olKpZs6cCaB3794tZrC9c+dObGzsjh07goKCXnnllRYXpTQZj6iqqqIdBrZIZSWRSB5SEpeIa/XqxzDCm7BaDAO5Abegxqle+YPrduzatYu73LlzJ4CxY8fS8NUmXAsqkUiS25276ObNm8eOHduwYUNAQICrq6uBgUETnYnFYkNDQwDr1q2jWvnmzJ5NALJqVcPlyZMEIPb2pP1hAz/C2rp1K9UwsEV++uknAC+//DJ3WV5e3qVLF4FA8Pfff9Nw1wrh4eFCoVAoFEZGRmpjJycnJzIy8quvvgoICHBzc9PX17eysurevTvVMLBFtE/ExYOwLl68yIWBP//8M1fCexjYImolZWZmciUzZswAsH79ekoeW4RbugRg48aN/FouKyvjBq60n7B/XJRK0rPnQ4m4Pv6YAGThwvZa4EFYsbGxjo6Ovr6+6pJ79+7NmDHD3Nw8PT1de/utwHVr1AOGx48fB+Dg4KCzr3heXnWPHr0AzJs3j4b9t956q0mIrTM++YQAZNGihsu0NAIQExOiULTr7TwIi0ug89JLLzUuVKlU6oaEHr///juA/v37c0pSKpXc2twLFy7Qdk3uZ7B1dc3z8ppSU1NDw8XZs2fR0sS2DsjMJIcPP5SZd9gwApBDh9r1dh6EVVlZKZFIBALBjceKR/lAqVTa2dkBUPftli9fDmCR+otGDZWKvPlmQ0eEp3NMWvSi4oYqzpw5Q8tHu/n1VxISQto5BM/DmnFDQ0M/Pz9CiO6znQiFQq5fpXY9Z84cAAcOHKipqaHq+vPP8fPPkEgQGQlLS1peBALBrFmz8GRkkikqwtGjDZl27t1rKxcmL1o+deoUgN69e+s+fpHJZADMzc3v3W+1hwwZAkCbYwHbJDycCIVEKCTaRYHtIj09XSAQGBkZ3b17l7qzVlm9mlhaNmTXqaoiVlat3cyPsJRKJZdEIFYdRegQV1dXAOqV799++y2A119/nZK7pKSGg0z4jgIfyahRowCo5147itWrydq1xN6e3L7dtrD42T4lFAo7sMXm0o5xa7QBvPnmm3p6etHR0cXFxbz7ys/HxImoqsLs2Vi2jHfzLcNlknkSsoyamOCTT7B4cTtu5UvOaWlpAExMTBTtjEf5o6ioKCoqqvEwrLe3N4CtW7fy60h9kMmoUXweZNImZWVlnTt3FgqFt2/f1p3XZqxeTTZvJioVGTmShIfrpMUC4ODgMHz48PLy8sjISL5sthMLCwsfHx+x+MHB6d7e3gKBYPny5UOHDg0MDNywYUNUVFReXp6WjnJykJeHPn14PsikTUxMTHx8fFQq1S+6z8TVDIEA27Zh5cq27uNR0dzEjre3N482NaCysnLw4MEtflgrK6tx48YtXrw4JCTk4kVZmyshQkNJSUnD6ytXSEYG+e03ol5kcPcu0dkgQFRUFACpVKojfy3BtVgcixfrpPPOUVJSouX2We1RqVRcqru+ffump6e3sqDA03MRQGxsyCuvkKAgsmMHiY19aFhZpSIAmT274XL5cvLDD2TUKHLpUkPJtWstn3dCg7q6OmtrawAJCQk6ctmIc+dIUhKRyx8cmldR0UZEzPNCv8mTJwP49ttv+TXbfj799FMAxsbGMvVBSo3IysqKjo7mZnlnzDjMHd7c+J9YTAYMIP7+ZO1akpVFLCzISy8RbtNNxwqLEPLBBx9A6x0DGpCZSSwsiKEhub8rrF3wLKwm2Xx1TGhoqEAgEIlE6r0ArVNfTzIySGQk+eorEhBA3NxIY6klJRELC5KQQJydSU3NA2Ft3kyio0l0NPnxR50KKyEhAUC3bt1qa2t15rSiggwaRAAyfjx5rB0FPGebqa2ttbW1LS4uvnLlCo9HILeHhIQET09PhUKxdetWbqelBtTUIDUVMhlkMqxZgx49UFSERYtga4s7d9CvH/btg6MjrK0BoLQUcXG4fJnPT9E6Li4uKSkpkZGRvjrJxKVS4fXXERUFJyfExcHU9HHezLvGFy1aBGD58uW8W26FnJwcbvq5yZ4+bVCpiIUFIYSUlpK+fcnMmR38KCT3lyn7+/vrxt3SpQQgXbsSDRap8C+sixcvQtPts5qhUCi41FCenp48rjJQC4sQsmcPEYk6Xlg5OTkikUhfX7+4uJi2L+4wcz09DSNfKvsKnZycABw/fpyG8SY0DgMftR9BU8tk3LgHr6dPJ+HhZO5cIpc3FGZlkfvb73TH+PHj0WwPgUql2r59+9mzZ0tLS3nxcu5cQ3fzhx80tEBFWOvXrwcwY8YMGsab0HoY+OzRYiKuv//+W9234Tb/qHdkaDB1nZmp7NaNAGTJEs3rSUVYzTc9chQVFaWlpfG4X/lxw8BngBYTcWVmZs6fP3/48OHNMwILhUJ7e/vXX3/9008/PXjwoEwmaz2orKiocHMb6uGxe/x4ok1fhlbuhrFjxwLYuXNn48IdO3YA0NPTa7JLWLPFNn/99ReXaYP3OcEnnFYScalUqoyMjCNHjnzxxRczZsxwcXHR19dvIjU9Pb1BgwZNnz49MTGxydvr6+t9fHwASKXS8nKtequ0hLV7924Ao0ePbly4ffv2FlPXm5iYjBo16u233966deuZM2fa0zOlEQY+LXCJuHr06HGvHTPhdXV1XIYIblhYKpWKRCLu136u2Z6bZcuWAeBlswKtrMlVVVXW1tZVVVU3btxosg+4oqJCLpfL7pOSklJUVNTk7dbW1twZCs7OzrNnz26SmKW6unr06NGXLl3y9PQ8efJk8y/lsw0hpF+/fgqFori4WINM0gqFIjU1VSaTTZkyRSKRqMv37NkzZ84cPT29EydOvPzyyzzUkhLcKqI1a9a0eWdpaWnjST0uQyGHoaFhk30E6jCwT58+/IaBTxEKhcLb2/tRmaTnzZsXHBwcExOTm5vbToPnzp3j9qz/oHEc+DAU87xHRkZOmjRJIpG4u7tzbY+Li4tUKm3PkRNZWVlcq6ZQKLiEH2pWrly5fv16Y2Pj8+fPOzs7U6r8UwF35ETj/PjcZt3G95iamtrb26tbNRcXF8tmS/SzsrLc3d0LCwuXLFnCrb/VHlrCUiqVEydObDH9vI2NjfpoE+5F586d22k2LCxs2rRp3J7jf/zjH7xW+VmgvLz8xo0bap2lpKQUFBQ0uYc73UT9y+/fv7+Xl1dKSsr48eOPHj3aeFmbNtAS1vLly4ODg83NzaOiohQKBXeEi1wuT0pKUigUje9UHzmhVpuTk5O6g9kYXmYDnzdyc3O5jiz3BEhNTa2qqmp8g1AoVKlUAwYMiIuL4wYyeIGKsFrpBtbX19+6dUuts4SEhLS0tCaHgurr6/fr169xq9anT5+8vLzhw4fn5OTMmzePy9rA0Iwmp8skJyerVKrvvvuOy5PIG7z01BrzuN3A6urqhISEvXv3fvjhhxMmTOjZs2fzSpqZmXHL9MaOHavLRSPPA9zENrczlEd4brF46QZWVFSkp6c3btW45sra2nrXrl1P78mGTyYFBQV2dnZCoTAnJ6dxPK4tPIq0oqJi0KBBAMaPH8/v0ob8/Py0tDQeDTIaM2HCBADff/89jzZ5ExZ3kAkAJycneqmLGDQ4cOAAAHd3dx5t8ias1Z99CqBr1666Tw3C0JLq6mpTU1PwmoiLn32FV06HdsmMGu/hGhYWxqUjZzxFGBgYvPHGGwC4NTm8wEPn/Zb84t6VU5X1db7vb3R9dSYv1WLomNjYWE9PTzs7u5s3b/Jybq22JsoKb4d+uUBZXzdi0kKmqqcXDw8Pe3v77OxsLtWb9mglrNrqygPr5lSVF9u7jvGa2+ama8aTi0AgmDUrYPDg0SdOtDDnoYlBjR+FhKgOrZ+XdjHGwq7f/I1HDQyNeakQo6PIyCD9+wuMjJCXB0NDba1p3mKd3PV52sWYzhLTGZ/tZap6BrC3F4wcibt3cT8flFZoKKwrp0Pjfv1BKNab+lGIuU1vHirCeAIIDAQAXnKctfYoLMi6qqqvE+t3MrPuJdZ/cG7C7auX9nzqr6yr9Vm0we21AB5qwXgyKC+HjQ1qanDzJuzstDLVWou171/T46N3nTv8/bb3xuZcT1KXF2dnEJVqxKQFTFXPGCYm8PWFSgXt83C11mJtDBgcFHJe38DwYuTO4pwMd595hqYWOdcvW/d1rijOtbEfJBDyE0EwnhyOHoWvL6RSyOVa2WljuWB+hkwoFt9I/GPw2KlxR34sunXdztHV1NKue/8hWrllPKm89hqsrZGaioQEuLlpbqcNYcUd+VEoFFXeKewsMQUwdEKAy8tvaO6N8cQjFmP6dGzahH37tBJWG1Hh5KVb/D/6cfKSLdHbPgIgFDU9H5vx7BEQAAC//IK6Os2NtGu4oTQvq4tJV82dMJ4qXF2xfj1+/x16WjQjrT0KDQwlu1ZMFggEnSWmvu99k3TygEjMWqzngt9+g5kZXF0BYOdOVFfj+nX4+YHbwHD3LsaPx/nzrVmguK+Q8fRiZQVzc5w6BVtbbNwIhQLJyZgzBz4+AFBWBicn5Oe3ZoG3PO+MZ4wVK/DBB5q/nbVYjBawskJODsaMwSefIDW1ocW6fBnGxgCgVKKggLVYDI0QCPDDD1i6FOrz+TZtQmIiEhPRniVbTFiMRzJwICZMgGa7g5mwGK2xdi1qazV5Iz8ZIBjPBoRg82YsWICwMHAL3yUSnD4NfX1UVMDWtuE2IyMcOtSGKdZ5Zzxg1SqsXYsxY/DHH9qaYo9CRgPh4Vi3DiIRPwd8MmExACAxEYGBIATBwQ2joFrCHoUM5OVh+HBkZ2PuXPznP/zYZMJ63qmuxpgxiI/HSy/h1CnwlSiYPQqfawjB/PmIj0efPggP501VYMJ6zlm3TnngAExMcPQoHj6AVluYsJ5fwsPDd+/2trev3b8fUinPxlkf6znlr7/+8vT0rK6u3rx5W1DQu7zbZ8J6HuFSb2ZnZ8+dO/c/fMWBD8OE9dxRXV09ZsyY+Ph4Dw+P06dPUzowhvWxni8IIfPnz4+Pj+/du3dERAS9Y4iYsJ4v1qxZc+DAAYlEEhUV1Y3fOPBh2KPwOSI8PNzf318gEBw5csSHl4mbR8OWzTwvqFSqL7/8khASHBxMW1VgLdZzRXl5+b59+3RzDBETFoMKrPPOoAITFoMKTFgMKjBhMajAhMWgAhMWgwpMWAwqMGExqMCExaACExaDCkxYDCowYTGowITFoAITFoMKTFgMKjBhMajAhMWgAhMWgwpMWAwqMGExqMCExaACExaDCkxYDCowYTGowITFoAITFoMKTFgMKjBhMajAhMWgAhMWgwpMWAwqMGExqMCExaACExaDCkxYDCowYTGowITFoAITFoMKTFgMKvw/4LUUSzmNswIAAAGQelRYdHJka2l0UEtMIHJka2l0IDIwMjIuMDMuNQAAeJx7v2/tPQYg4GWAAEYgFgFiMSBuYGRjSACJMbMzZABpZiZGNgcNEIOFzQEswIwkAKHxqcRkQJQoMyiAbIGLs0PEmbEIoJkJk+AGupuRSYGJOYOJmSWBhTWDiZVNgY1dgZ0jg4mDM4GTK4OJizuBm4eBmxcoxZfAx5/BxC+QICCYwSQolCAknMEkzJQgyJLAy54gwszGJCwkyMLMxsHJxc3LzsbHLyDIwir+Cxo4YCBy656vw46ysgMgTvCKVgepLTpg9i6NLIfjFkv3g4Oyn9thSl8LmK157op9ZvM+OxB7w1UbO5lpCvYg9smJbvsjS9jAanTsBA48te/aB2JLpBkeKJ0/Eazm5f/2Ays8N4HZ53csO5CnXAY256bKtAMM2VPBeg/c3XJAtkIE7Iaf630PmIhuA4t3XVm1z86WyQHE/hCjYH/7vzeY/XUDm8PBVdZg9qMb6g6iaofB5vtZNjs8ql4EZrucneyQOIcX7B4xAOlTZu4Hw8nGAAACBHpUWHRNT0wgcmRraXQgMjAyMi4wMy41AAB4nH1UW6obMQz9n1V4A2P0smR93iSXUsqdQJt2D/0t3T+VZkjGF0zHsbDNsSzpHGUp+X2/ffv9t7w+ui1LKfCfn7uXXwwAy0fJRbm8f/m6levj7fI8ud5/bo8fhaAQxZ0Yn7Fvj/vH8wTLtXAlVCMrK9fe4gUtUGH/zqtUtiIVTc17Wamqd3GeAHn3qK0ba1mxkoN5mwAlgFSxgwInELgp4ATYAohVlZpEPpWNYBqiBg7CoQh4LJQs3p7gLFJZoZq18JmrRo1wlksPj5ErNc4UAkkGgD5B+oE0w940okXOSk2ACImUSuLePZDsFKWaIZObtQU5ECUKAAmwzRJCOnyqoyc78bwaU59BuVz+pFdtBOoZM6N3ntUdk6E11cFdW7oVikrRDNqOmjKzNg5agcX7NICDJSUV7CEU7CY+fT1pCn2AtIaxcCZymwH7LiQl0igEBpuiMC1TkhQaBjBpASR1ganWYRe7Yu9gmVYUgHyW9/t2+9ROR4Nd7tvtbLAcdLZRbAqfzSI5z5bI0U7hx6boqW+MaaeMMWY/tSox/RSkxMRRd5IGcdCXpEEadIS74UEusp/IIArJSNpAvaRBHSiWNGgDl5IG+0CapEEf2JE0NNIgaV7REB6XXm+HFiUj6iMfY/Vz//xrjPXyD4ISA1ze7LLBAAABBHpUWHRTTUlMRVMgcmRraXQgMjAyMi4wMy41AAB4nB2QO44EIQxEr7Jhj0Rb/hurs9l8LkHewcZz+C2aCJ4KeOXfz5K1dB2fZQvreP+9lr3udQPe8vM9jFSybJxGM2RcTlI5x6mUPb3HZZQxy8cppM1zXEoyOfeZLXJcQpkaPpislBuEkXDnBkotxSMnU1UgN7ALDRUDVNKw6s20mKUfViUzh5DYFrlOJ/XuBrHWWSABZ4YCrjlbPZls3Uq7iz2RDOXaPUx6brSbGu4j5QqFx8rMMmwouuCTrZ6aLnMYOtTuj7rsEYi0qe1zqqZAJ9TzGRgz5oPxZPszwZQ5ZbfCfwqv1/cf22tROrn+GGEAAAAASUVORK5CYII=\" alt=\"Mol\"/></td>\n",
              "    </tr>\n",
              "    <tr>\n",
              "      <th>4</th>\n",
              "      <td>CHEMBL66031</td>\n",
              "      <td>0.008</td>\n",
              "      <td>nM</td>\n",
              "      <td>11.096910</td>\n",
              "      <td style=\"text-align: center;\"><img data-content=\"rdkit/molecule\" src=\"data:image/png;base64,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\" alt=\"Mol\"/></td>\n",
              "    </tr>\n",
              "    <tr>\n",
              "      <th>5</th>\n",
              "      <td>CHEMBL176582</td>\n",
              "      <td>0.010</td>\n",
              "      <td>nM</td>\n",
              "      <td>11.000000</td>\n",
              "      <td style=\"text-align: center;\"><img data-content=\"rdkit/molecule\" src=\"data:image/png;base64,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\" alt=\"Mol\"/></td>\n",
              "    </tr>\n",
              "    <tr>\n",
              "      <th>6</th>\n",
              "      <td>CHEMBL174426</td>\n",
              "      <td>0.025</td>\n",
              "      <td>nM</td>\n",
              "      <td>10.602060</td>\n",
              "      <td style=\"text-align: center;\"><img data-content=\"rdkit/molecule\" src=\"data:image/png;base64,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\" alt=\"Mol\"/></td>\n",
              "    </tr>\n",
              "    <tr>\n",
              "      <th>7</th>\n",
              "      <td>CHEMBL29197</td>\n",
              "      <td>0.025</td>\n",
              "      <td>nM</td>\n",
              "      <td>10.602060</td>\n",
              "      <td style=\"text-align: center;\"><img data-content=\"rdkit/molecule\" src=\"data:image/png;base64,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\" alt=\"Mol\"/></td>\n",
              "    </tr>\n",
              "    <tr>\n",
              "      <th>8</th>\n",
              "      <td>CHEMBL1243316</td>\n",
              "      <td>0.030</td>\n",
              "      <td>nM</td>\n",
              "      <td>10.522879</td>\n",
              "      <td style=\"text-align: center;\"><img data-content=\"rdkit/molecule\" src=\"data:image/png;base64,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\" alt=\"Mol\"/></td>\n",
              "    </tr>\n",
              "    <tr>\n",
              "      <th>9</th>\n",
              "      <td>CHEMBL3613702</td>\n",
              "      <td>0.037</td>\n",
              "      <td>nM</td>\n",
              "      <td>10.431798</td>\n",
              "      <td style=\"text-align: center;\"><img data-content=\"rdkit/molecule\" src=\"data:image/png;base64,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\" alt=\"Mol\"/></td>\n",
              "    </tr>\n",
              "  </tbody>\n",
              "</table>\n",
              "</div>\n",
              "      <button class=\"colab-df-convert\" onclick=\"convertToInteractive('df-25553029-946b-4b01-a599-53fd508d17c2')\"\n",
              "              title=\"Convert this dataframe to an interactive table.\"\n",
              "              style=\"display:none;\">\n",
              "        \n",
              "  <svg xmlns=\"http://www.w3.org/2000/svg\" height=\"24px\"viewBox=\"0 0 24 24\"\n",
              "       width=\"24px\">\n",
              "    <path d=\"M0 0h24v24H0V0z\" fill=\"none\"/>\n",
              "    <path d=\"M18.56 5.44l.94 2.06.94-2.06 2.06-.94-2.06-.94-.94-2.06-.94 2.06-2.06.94zm-11 1L8.5 8.5l.94-2.06 2.06-.94-2.06-.94L8.5 2.5l-.94 2.06-2.06.94zm10 10l.94 2.06.94-2.06 2.06-.94-2.06-.94-.94-2.06-.94 2.06-2.06.94z\"/><path d=\"M17.41 7.96l-1.37-1.37c-.4-.4-.92-.59-1.43-.59-.52 0-1.04.2-1.43.59L10.3 9.45l-7.72 7.72c-.78.78-.78 2.05 0 2.83L4 21.41c.39.39.9.59 1.41.59.51 0 1.02-.2 1.41-.59l7.78-7.78 2.81-2.81c.8-.78.8-2.07 0-2.86zM5.41 20L4 18.59l7.72-7.72 1.47 1.35L5.41 20z\"/>\n",
              "  </svg>\n",
              "      </button>\n",
              "      \n",
              "  <style>\n",
              "    .colab-df-container {\n",
              "      display:flex;\n",
              "      flex-wrap:wrap;\n",
              "      gap: 12px;\n",
              "    }\n",
              "\n",
              "    .colab-df-convert {\n",
              "      background-color: #E8F0FE;\n",
              "      border: none;\n",
              "      border-radius: 50%;\n",
              "      cursor: pointer;\n",
              "      display: none;\n",
              "      fill: #1967D2;\n",
              "      height: 32px;\n",
              "      padding: 0 0 0 0;\n",
              "      width: 32px;\n",
              "    }\n",
              "\n",
              "    .colab-df-convert:hover {\n",
              "      background-color: #E2EBFA;\n",
              "      box-shadow: 0px 1px 2px rgba(60, 64, 67, 0.3), 0px 1px 3px 1px rgba(60, 64, 67, 0.15);\n",
              "      fill: #174EA6;\n",
              "    }\n",
              "\n",
              "    [theme=dark] .colab-df-convert {\n",
              "      background-color: #3B4455;\n",
              "      fill: #D2E3FC;\n",
              "    }\n",
              "\n",
              "    [theme=dark] .colab-df-convert:hover {\n",
              "      background-color: #434B5C;\n",
              "      box-shadow: 0px 1px 3px 1px rgba(0, 0, 0, 0.15);\n",
              "      filter: drop-shadow(0px 1px 2px rgba(0, 0, 0, 0.3));\n",
              "      fill: #FFFFFF;\n",
              "    }\n",
              "  </style>\n",
              "\n",
              "      <script>\n",
              "        const buttonEl =\n",
              "          document.querySelector('#df-25553029-946b-4b01-a599-53fd508d17c2 button.colab-df-convert');\n",
              "        buttonEl.style.display =\n",
              "          google.colab.kernel.accessAllowed ? 'block' : 'none';\n",
              "\n",
              "        async function convertToInteractive(key) {\n",
              "          const element = document.querySelector('#df-25553029-946b-4b01-a599-53fd508d17c2');\n",
              "          const dataTable =\n",
              "            await google.colab.kernel.invokeFunction('convertToInteractive',\n",
              "                                                     [key], {});\n",
              "          if (!dataTable) return;\n",
              "\n",
              "          const docLinkHtml = 'Like what you see? Visit the ' +\n",
              "            '<a target=\"_blank\" href=https://colab.research.google.com/notebooks/data_table.ipynb>data table notebook</a>'\n",
              "            + ' to learn more about interactive tables.';\n",
              "          element.innerHTML = '';\n",
              "          dataTable['output_type'] = 'display_data';\n",
              "          await google.colab.output.renderOutput(dataTable, element);\n",
              "          const docLink = document.createElement('div');\n",
              "          docLink.innerHTML = docLinkHtml;\n",
              "          element.appendChild(docLink);\n",
              "        }\n",
              "      </script>\n",
              "    </div>\n",
              "  </div>\n",
              "  "
            ]
          },
          "metadata": {},
          "execution_count": 73
        }
      ]
    },
    {
      "cell_type": "code",
      "source": [
        "print(f\"DataFrame shape: {output_df.shape}\")"
      ],
      "metadata": {
        "colab": {
          "base_uri": "https://localhost:8080/"
        },
        "id": "vDcnL71Vd3_H",
        "outputId": "dcf74a82-c885-4f70-c590-d3c44a10681f"
      },
      "execution_count": 75,
      "outputs": [
        {
          "output_type": "stream",
          "name": "stdout",
          "text": [
            "DataFrame shape: (6380, 5)\n"
          ]
        }
      ]
    },
    {
      "cell_type": "code",
      "source": [
        "output_df.to_csv(\"EGFR_compounds.csv\")\n",
        "output_df.head()"
      ],
      "metadata": {
        "colab": {
          "base_uri": "https://localhost:8080/",
          "height": 206
        },
        "id": "GuvoBlHmd_zh",
        "outputId": "ce8bfe4e-beaa-47a5-aac1-658702b9d71b"
      },
      "execution_count": 77,
      "outputs": [
        {
          "output_type": "execute_result",
          "data": {
            "text/plain": [
              "  molecule_chembl_id   IC50 units                               smiles  \\\n",
              "0        CHEMBL63786  0.003    nM    Brc1cccc(Nc2ncnc3cc4ccccc4cc23)c1   \n",
              "1        CHEMBL35820  0.006    nM  CCOc1cc2ncnc(Nc3cccc(Br)c3)c2cc1OCC   \n",
              "2        CHEMBL53711  0.006    nM   CN(C)c1cc2c(Nc3cccc(Br)c3)ncnc2cn1   \n",
              "3        CHEMBL53753  0.008    nM      CNc1cc2c(Nc3cccc(Br)c3)ncnc2cn1   \n",
              "4        CHEMBL66031  0.008    nM  Brc1cccc(Nc2ncnc3cc4[nH]cnc4cc23)c1   \n",
              "\n",
              "       pIC50  \n",
              "0  11.522879  \n",
              "1  11.221849  \n",
              "2  11.221849  \n",
              "3  11.096910  \n",
              "4  11.096910  "
            ],
            "text/html": [
              "\n",
              "  <div id=\"df-0351407c-63c6-4a2d-b2f7-d72022cadfa8\">\n",
              "    <div class=\"colab-df-container\">\n",
              "      <div>\n",
              "<style scoped>\n",
              "    .dataframe tbody tr th:only-of-type {\n",
              "        vertical-align: middle;\n",
              "    }\n",
              "\n",
              "    .dataframe tbody tr th {\n",
              "        vertical-align: top;\n",
              "    }\n",
              "\n",
              "    .dataframe thead th {\n",
              "        text-align: right;\n",
              "    }\n",
              "</style>\n",
              "<table border=\"1\" class=\"dataframe\">\n",
              "  <thead>\n",
              "    <tr style=\"text-align: right;\">\n",
              "      <th></th>\n",
              "      <th>molecule_chembl_id</th>\n",
              "      <th>IC50</th>\n",
              "      <th>units</th>\n",
              "      <th>smiles</th>\n",
              "      <th>pIC50</th>\n",
              "    </tr>\n",
              "  </thead>\n",
              "  <tbody>\n",
              "    <tr>\n",
              "      <th>0</th>\n",
              "      <td>CHEMBL63786</td>\n",
              "      <td>0.003</td>\n",
              "      <td>nM</td>\n",
              "      <td>Brc1cccc(Nc2ncnc3cc4ccccc4cc23)c1</td>\n",
              "      <td>11.522879</td>\n",
              "    </tr>\n",
              "    <tr>\n",
              "      <th>1</th>\n",
              "      <td>CHEMBL35820</td>\n",
              "      <td>0.006</td>\n",
              "      <td>nM</td>\n",
              "      <td>CCOc1cc2ncnc(Nc3cccc(Br)c3)c2cc1OCC</td>\n",
              "      <td>11.221849</td>\n",
              "    </tr>\n",
              "    <tr>\n",
              "      <th>2</th>\n",
              "      <td>CHEMBL53711</td>\n",
              "      <td>0.006</td>\n",
              "      <td>nM</td>\n",
              "      <td>CN(C)c1cc2c(Nc3cccc(Br)c3)ncnc2cn1</td>\n",
              "      <td>11.221849</td>\n",
              "    </tr>\n",
              "    <tr>\n",
              "      <th>3</th>\n",
              "      <td>CHEMBL53753</td>\n",
              "      <td>0.008</td>\n",
              "      <td>nM</td>\n",
              "      <td>CNc1cc2c(Nc3cccc(Br)c3)ncnc2cn1</td>\n",
              "      <td>11.096910</td>\n",
              "    </tr>\n",
              "    <tr>\n",
              "      <th>4</th>\n",
              "      <td>CHEMBL66031</td>\n",
              "      <td>0.008</td>\n",
              "      <td>nM</td>\n",
              "      <td>Brc1cccc(Nc2ncnc3cc4[nH]cnc4cc23)c1</td>\n",
              "      <td>11.096910</td>\n",
              "    </tr>\n",
              "  </tbody>\n",
              "</table>\n",
              "</div>\n",
              "      <button class=\"colab-df-convert\" onclick=\"convertToInteractive('df-0351407c-63c6-4a2d-b2f7-d72022cadfa8')\"\n",
              "              title=\"Convert this dataframe to an interactive table.\"\n",
              "              style=\"display:none;\">\n",
              "        \n",
              "  <svg xmlns=\"http://www.w3.org/2000/svg\" height=\"24px\"viewBox=\"0 0 24 24\"\n",
              "       width=\"24px\">\n",
              "    <path d=\"M0 0h24v24H0V0z\" fill=\"none\"/>\n",
              "    <path d=\"M18.56 5.44l.94 2.06.94-2.06 2.06-.94-2.06-.94-.94-2.06-.94 2.06-2.06.94zm-11 1L8.5 8.5l.94-2.06 2.06-.94-2.06-.94L8.5 2.5l-.94 2.06-2.06.94zm10 10l.94 2.06.94-2.06 2.06-.94-2.06-.94-.94-2.06-.94 2.06-2.06.94z\"/><path d=\"M17.41 7.96l-1.37-1.37c-.4-.4-.92-.59-1.43-.59-.52 0-1.04.2-1.43.59L10.3 9.45l-7.72 7.72c-.78.78-.78 2.05 0 2.83L4 21.41c.39.39.9.59 1.41.59.51 0 1.02-.2 1.41-.59l7.78-7.78 2.81-2.81c.8-.78.8-2.07 0-2.86zM5.41 20L4 18.59l7.72-7.72 1.47 1.35L5.41 20z\"/>\n",
              "  </svg>\n",
              "      </button>\n",
              "      \n",
              "  <style>\n",
              "    .colab-df-container {\n",
              "      display:flex;\n",
              "      flex-wrap:wrap;\n",
              "      gap: 12px;\n",
              "    }\n",
              "\n",
              "    .colab-df-convert {\n",
              "      background-color: #E8F0FE;\n",
              "      border: none;\n",
              "      border-radius: 50%;\n",
              "      cursor: pointer;\n",
              "      display: none;\n",
              "      fill: #1967D2;\n",
              "      height: 32px;\n",
              "      padding: 0 0 0 0;\n",
              "      width: 32px;\n",
              "    }\n",
              "\n",
              "    .colab-df-convert:hover {\n",
              "      background-color: #E2EBFA;\n",
              "      box-shadow: 0px 1px 2px rgba(60, 64, 67, 0.3), 0px 1px 3px 1px rgba(60, 64, 67, 0.15);\n",
              "      fill: #174EA6;\n",
              "    }\n",
              "\n",
              "    [theme=dark] .colab-df-convert {\n",
              "      background-color: #3B4455;\n",
              "      fill: #D2E3FC;\n",
              "    }\n",
              "\n",
              "    [theme=dark] .colab-df-convert:hover {\n",
              "      background-color: #434B5C;\n",
              "      box-shadow: 0px 1px 3px 1px rgba(0, 0, 0, 0.15);\n",
              "      filter: drop-shadow(0px 1px 2px rgba(0, 0, 0, 0.3));\n",
              "      fill: #FFFFFF;\n",
              "    }\n",
              "  </style>\n",
              "\n",
              "      <script>\n",
              "        const buttonEl =\n",
              "          document.querySelector('#df-0351407c-63c6-4a2d-b2f7-d72022cadfa8 button.colab-df-convert');\n",
              "        buttonEl.style.display =\n",
              "          google.colab.kernel.accessAllowed ? 'block' : 'none';\n",
              "\n",
              "        async function convertToInteractive(key) {\n",
              "          const element = document.querySelector('#df-0351407c-63c6-4a2d-b2f7-d72022cadfa8');\n",
              "          const dataTable =\n",
              "            await google.colab.kernel.invokeFunction('convertToInteractive',\n",
              "                                                     [key], {});\n",
              "          if (!dataTable) return;\n",
              "\n",
              "          const docLinkHtml = 'Like what you see? Visit the ' +\n",
              "            '<a target=\"_blank\" href=https://colab.research.google.com/notebooks/data_table.ipynb>data table notebook</a>'\n",
              "            + ' to learn more about interactive tables.';\n",
              "          element.innerHTML = '';\n",
              "          dataTable['output_type'] = 'display_data';\n",
              "          await google.colab.output.renderOutput(dataTable, element);\n",
              "          const docLink = document.createElement('div');\n",
              "          docLink.innerHTML = docLinkHtml;\n",
              "          element.appendChild(docLink);\n",
              "        }\n",
              "      </script>\n",
              "    </div>\n",
              "  </div>\n",
              "  "
            ]
          },
          "metadata": {},
          "execution_count": 77
        }
      ]
    },
    {
      "cell_type": "markdown",
      "source": [
        "da qui "
      ],
      "metadata": {
        "id": "koTJopypn5x9"
      }
    },
    {
      "cell_type": "code",
      "execution_count": null,
      "metadata": {
        "id": "YoQHms4Bq-kR"
      },
      "outputs": [],
      "source": [
        "target = new_client.target                                     \n",
        "target_query = target.search('acetylcholinesterase')\n",
        "targets = pd.DataFrame.from_dict(target_query)\n",
        "pd.set_option('display.max_rows', 100)\n",
        "pd.set_option('display.max_columns', 100)\n",
        "print(targets)"
      ]
    },
    {
      "cell_type": "code",
      "execution_count": 18,
      "metadata": {
        "id": "jFyCFTvCrBQ0",
        "colab": {
          "base_uri": "https://localhost:8080/",
          "height": 35
        },
        "outputId": "a2ddad6d-b91e-49cd-bd48-362aa878aaca"
      },
      "outputs": [
        {
          "output_type": "execute_result",
          "data": {
            "text/plain": [
              "'CHEMBL220'"
            ],
            "application/vnd.google.colaboratory.intrinsic+json": {
              "type": "string"
            }
          },
          "metadata": {},
          "execution_count": 18
        }
      ],
      "source": [
        "selected_target = targets.target_chembl_id[0]\n",
        "selected_target"
      ]
    },
    {
      "cell_type": "code",
      "execution_count": null,
      "metadata": {
        "id": "O2GG2u3WrEEE"
      },
      "outputs": [],
      "source": [
        "activity = new_client.activity\n",
        "res = activity.filter(target_chembl_id=selected_target).filter(standard_type=\"IC50\")\n",
        "print(res)"
      ]
    },
    {
      "cell_type": "code",
      "execution_count": null,
      "metadata": {
        "id": "kbOCvFcJrJc9"
      },
      "outputs": [],
      "source": [
        "df = pd.DataFrame.from_dict(res)\n",
        "print(df)"
      ]
    },
    {
      "cell_type": "code",
      "execution_count": null,
      "metadata": {
        "id": "rcn6cRGZrNZU"
      },
      "outputs": [],
      "source": [
        "df.to_csv('acetylcholinesterase_bioactivity_data.csv', index=False)"
      ]
    },
    {
      "cell_type": "code",
      "execution_count": null,
      "metadata": {
        "id": "wSnzHtqgrQlF"
      },
      "outputs": [],
      "source": [
        "act_normal = df[df.standard_value.notna()]\n",
        "act_normal = act_normal[act_normal.canonical_smiles.notna()]\n",
        "act_normal = act_normal.drop_duplicates(['canonical_smiles'])\n",
        "act_normal"
      ]
    },
    {
      "cell_type": "code",
      "execution_count": null,
      "metadata": {
        "id": "CFiSpv_drTuV"
      },
      "outputs": [],
      "source": [
        "selection = ['molecule_chembl_id', 'canonical_smiles', 'standard_value']\n",
        "new_act = act_normal[selection]\n",
        "new_act"
      ]
    },
    {
      "cell_type": "code",
      "execution_count": null,
      "metadata": {
        "id": "VtcNkworrXoO"
      },
      "outputs": [],
      "source": [
        "new_act.to_csv('acetylcholinesterase_bioactivity_clear', index=False)"
      ]
    },
    {
      "cell_type": "code",
      "execution_count": null,
      "metadata": {
        "id": "LYZAC9sqrpCt"
      },
      "outputs": [],
      "source": [
        "# This is temporary line\n",
        "new_act = pd.read_csv('acetylcholinesterase_bioactivity_clear')"
      ]
    },
    {
      "cell_type": "code",
      "execution_count": null,
      "metadata": {
        "id": "oJJ-QG1LrsSs"
      },
      "outputs": [],
      "source": [
        "bioactivity_threshold = []\n",
        "for i in new_act.standard_value:\n",
        "  if float(i) >= 10000:\n",
        "    bioactivity_threshold.append('inactive')\n",
        "  elif float(i) <= 1000:\n",
        "    bioactivity_threshold.append('active')\n",
        "  else:\n",
        "    bioactivity_threshold.append('intermediate')\n",
        "bioactivity_class = pd.Series(bioactivity_threshold, name = 'bioactivity_class')\n",
        "act5 = pd.concat([new_act, bioactivity_class], axis=1)\n",
        "act5"
      ]
    },
    {
      "cell_type": "code",
      "execution_count": null,
      "metadata": {
        "id": "LZ7yjq1ururk"
      },
      "outputs": [],
      "source": [
        "act5 = act5.dropna()\n",
        "act5"
      ]
    },
    {
      "cell_type": "code",
      "execution_count": null,
      "metadata": {
        "id": "yAXc6YJYrw9d"
      },
      "outputs": [],
      "source": [
        "act5.to_csv('bioactivity_with_class.csv', index=False)"
      ]
    },
    {
      "cell_type": "code",
      "execution_count": null,
      "metadata": {
        "id": "7zA_ktpBr0p-"
      },
      "outputs": [],
      "source": [
        "! wget https://repo.anaconda.com/miniconda/Miniconda3-py37_4.8.2-Linux-x86_64.sh\n",
        "! chmod +x Miniconda3-py37_4.8.2-Linux-x86_64.sh\n",
        "! bash ./Miniconda3-py37_4.8.2-Linux-x86_64.sh -b -f -p /usr/local\n",
        "! conda install -c rdkit rdkit -y\n",
        "import sys\n",
        "sys.path.append('/usr/local/lib/python3.7/site-packages/')"
      ]
    },
    {
      "cell_type": "code",
      "execution_count": null,
      "metadata": {
        "id": "6kx4rS3gr3sd"
      },
      "outputs": [],
      "source": [
        "act_nosmiles = act5.drop(columns='canonical_smiles')\n",
        "smiles = []\n",
        "\n",
        "for i in act5.canonical_smiles.tolist():\n",
        "  cpd = str(i).split('.')\n",
        "  cpd_longest = max(cpd, key = len)\n",
        "  smiles.append(cpd_longest)\n",
        "\n",
        "smiles = pd.Series(smiles, name='canonical_smiles')\n",
        "act_clean_smiles = pd.concat([act_nosmiles,smiles], axis=1)\n",
        "act_clean_smiles"
      ]
    },
    {
      "cell_type": "code",
      "execution_count": null,
      "metadata": {
        "id": "NFcvAxZPAnnH"
      },
      "outputs": [],
      "source": [
        "\n",
        "def lipinski(smiles, verbose=False):\n",
        "    moldata = []\n",
        "    for elem in smiles:\n",
        "        mol = Chem.MolFromSmiles(elem)\n",
        "        moldata.append(mol)\n",
        "    baseData = np.arange(1, 1)\n",
        "    i = 0\n",
        "    for mol in moldata:\n",
        "\n",
        "        desc_MolWt = Descriptors.MolWt(mol)\n",
        "        desc_MolLogP = Descriptors.MolLogP(mol)\n",
        "        desc_NumHDonors = Lipinski.NumHDonors(mol)\n",
        "        desc_NumHAcceptors = Lipinski.NumHAcceptors(mol)\n",
        "  \n",
        "        row = np.array([desc_MolWt,\n",
        "                        desc_MolLogP,\n",
        "                        desc_NumHDonors,\n",
        "                        desc_NumHAcceptors])\n",
        "        if (i==0):\n",
        "            baseData = row\n",
        "        else:\n",
        "            baseData = np.vstack([baseData, row])\n",
        "        i = i + 1\n",
        "\n",
        "    columnNames =  [\"MW\", \"LogP\", \"NumHDonors\", \"NumHAcceptors\"]\n",
        "    descriptors = pd.DataFrame(data=baseData, columns=columnNames)\n",
        "    return descriptors\n"
      ]
    },
    {
      "cell_type": "code",
      "execution_count": null,
      "metadata": {
        "id": "0T2JY6OID6u_"
      },
      "outputs": [],
      "source": [
        "act_lipinski = lipinski(act_clean_smiles.canonical_smiles)\n",
        "act_lipinski"
      ]
    },
    {
      "cell_type": "code",
      "execution_count": null,
      "metadata": {
        "id": "xLnCc3HtE_Cd"
      },
      "outputs": [],
      "source": [
        "act_comb = pd.concat([act5, act_lipinski], axis = 1)\n",
        "act_comb"
      ]
    },
    {
      "cell_type": "markdown",
      "metadata": {
        "id": "DXatD_w4FW4F"
      },
      "source": [
        "normalizing standard values"
      ]
    },
    {
      "cell_type": "code",
      "execution_count": null,
      "metadata": {
        "id": "frzwrxXMFZEk"
      },
      "outputs": [],
      "source": [
        "def norm_value(input):\n",
        "    norm = []\n",
        "\n",
        "    for i in input['standard_value']:\n",
        "        if i > 100000000:\n",
        "          i = 100000000\n",
        "        norm.append(i)\n",
        "\n",
        "    input['standard_value_norm'] = norm\n",
        "    x = input.drop('standard_value', 1)\n",
        "        \n",
        "    return x"
      ]
    },
    {
      "cell_type": "code",
      "execution_count": null,
      "metadata": {
        "id": "HuA3tdW0Febi"
      },
      "outputs": [],
      "source": [
        "act_norm = norm_value(act_comb)\n",
        "act_norm"
      ]
    },
    {
      "cell_type": "markdown",
      "metadata": {
        "id": "fJX4BDBdFkMs"
      },
      "source": [
        "converting to pIC50"
      ]
    },
    {
      "cell_type": "code",
      "execution_count": null,
      "metadata": {
        "id": "24y3Os7tFi4G"
      },
      "outputs": [],
      "source": [
        "def pIC50(input):\n",
        "    pIC50 = []\n",
        "\n",
        "    for i in input['standard_value_norm']:\n",
        "        molar = i*(10**-9) # Converts nM to M\n",
        "        pIC50.append(-np.log10(molar))\n",
        "\n",
        "    input['pIC50'] = pIC50\n",
        "    x = input.drop('standard_value_norm', 1)\n",
        "        \n",
        "    return x"
      ]
    },
    {
      "cell_type": "code",
      "execution_count": null,
      "metadata": {
        "id": "7UCx_2ukFqet"
      },
      "outputs": [],
      "source": [
        "act_final = pIC50(act_norm)\n",
        "act_final"
      ]
    },
    {
      "cell_type": "code",
      "execution_count": null,
      "metadata": {
        "id": "ZA0cWxfbHIUT"
      },
      "outputs": [],
      "source": [
        "act_final.to_csv('bioactvity_pIC50.csv')"
      ]
    },
    {
      "cell_type": "markdown",
      "metadata": {
        "id": "UvNudUP2IUke"
      },
      "source": [
        "Exploratory data analysis (chemical space analysis) via lipinski descriptors"
      ]
    },
    {
      "cell_type": "code",
      "execution_count": null,
      "metadata": {
        "id": "OX-2wFNeITs_"
      },
      "outputs": [],
      "source": [
        "act_fn = act_final[act_final['bioactivity_class'] != 'intermediate']\n",
        "act_fn"
      ]
    },
    {
      "cell_type": "markdown",
      "metadata": {
        "id": "t7hwhA53IsMS"
      },
      "source": [
        "frequency of 2 classes (active, inactive)"
      ]
    },
    {
      "cell_type": "code",
      "execution_count": null,
      "metadata": {
        "id": "Gg1yi_pPIqYL"
      },
      "outputs": [],
      "source": [
        "plt.figure(figsize=(5.5, 5.5))\n",
        "sns.countplot(x='bioactivity_class', data=act_fn, edgecolor='black')\n",
        "plt.xlabel('Bioactivity class', fontsize=14, fontweight='bold')\n",
        "plt.ylabel('Frequency', fontsize=14, fontweight='bold')\n",
        "plt.savefig('plot_bioactivity_class.pdf')"
      ]
    },
    {
      "cell_type": "markdown",
      "metadata": {
        "id": "_OGm6lDzI1dy"
      },
      "source": [
        "making statistical analysis"
      ]
    },
    {
      "cell_type": "code",
      "execution_count": null,
      "metadata": {
        "id": "rGz2ntRYI4Jb"
      },
      "outputs": [],
      "source": [
        "def mannwhitney(descriptor, verbose=False):\n",
        "  from numpy.random import seed\n",
        "  from numpy.random import randn\n",
        "  from scipy.stats import mannwhitneyu\n",
        "\n",
        "# seed the random number generator\n",
        "  seed(1)\n",
        "\n",
        "# actives and inactives\n",
        "  selection = [descriptor, 'bioactivity_class']\n",
        "  df = act_fn[selection]\n",
        "  active = df[df['bioactivity_class'] == 'active']\n",
        "  active = active[descriptor]\n",
        "\n",
        "  selection = [descriptor, 'bioactivity_class']\n",
        "  df = act_fn[selection]\n",
        "  inactive = df[df['bioactivity_class'] == 'inactive']\n",
        "  inactive = inactive[descriptor]\n",
        "\n",
        "# compare samples\n",
        "  stat, p = mannwhitneyu(active, inactive)\n",
        "  #print('Statistics=%.3f, p=%.3f' % (stat, p))\n",
        "\n",
        "# interpret\n",
        "  alpha = 0.05\n",
        "  if p > alpha:\n",
        "    interpretation = 'Same distribution (fail to reject H0)'\n",
        "  else:\n",
        "    interpretation = 'Different distribution (reject H0)'\n",
        "  \n",
        "  results = pd.DataFrame({'Descriptor':descriptor,\n",
        "                          'Statistics':stat,\n",
        "                          'p':p,\n",
        "                          'alpha':alpha,\n",
        "                          'Interpretation':interpretation}, index=[0])\n",
        "  filename = 'mannwhitneyu_' + descriptor + '.csv'\n",
        "  results.to_csv(filename)\n",
        "\n",
        "  return results"
      ]
    },
    {
      "cell_type": "code",
      "execution_count": null,
      "metadata": {
        "id": "Y_4FAGSpI8rb"
      },
      "outputs": [],
      "source": [
        "plt.figure(figsize=(5.5, 5.5))\n",
        "\n",
        "sns.boxplot(x = 'bioactivity_class', y = 'pIC50', data = act_fn)\n",
        "\n",
        "plt.xlabel('Bioactivity class', fontsize=14, fontweight='bold')\n",
        "plt.ylabel('pIC50 value', fontsize=14, fontweight='bold')\n",
        "\n",
        "plt.savefig('plot_ic50.pdf')"
      ]
    },
    {
      "cell_type": "code",
      "execution_count": null,
      "metadata": {
        "id": "B_PXegE7JCm8"
      },
      "outputs": [],
      "source": [
        "mannwhitney('pIC50')"
      ]
    },
    {
      "cell_type": "code",
      "execution_count": null,
      "metadata": {
        "id": "xQ5WSv8JJRPB"
      },
      "outputs": [],
      "source": [
        "plt.figure(figsize=(5.5, 5.5))\n",
        "\n",
        "sns.boxplot(x = 'bioactivity_class', y = 'MW', data = act_fn)\n",
        "\n",
        "plt.xlabel('Bioactivity class', fontsize=14, fontweight='bold')\n",
        "plt.ylabel('MW value', fontsize=14, fontweight='bold')\n",
        "\n",
        "plt.savefig('plot_MW.pdf')"
      ]
    },
    {
      "cell_type": "code",
      "execution_count": null,
      "metadata": {
        "id": "GVa0zXv6JU7D"
      },
      "outputs": [],
      "source": [
        "mannwhitney('MW')"
      ]
    },
    {
      "cell_type": "code",
      "execution_count": null,
      "metadata": {
        "id": "k-kFqInSJjBV"
      },
      "outputs": [],
      "source": [
        "plt.figure(figsize=(5.5, 5.5))\n",
        "\n",
        "sns.scatterplot(x='MW', y='LogP', data=act_fn, hue='bioactivity_class', size='pIC50', edgecolor='black', alpha=0.7)\n",
        "\n",
        "plt.xlabel('MW', fontsize=14, fontweight='bold')\n",
        "plt.ylabel('LogP', fontsize=14, fontweight='bold')\n",
        "plt.legend(bbox_to_anchor=(1.05, 1), loc=2, borderaxespad=0)\n",
        "plt.savefig('plot_MW_vs_LogP.pdf')"
      ]
    },
    {
      "cell_type": "code",
      "execution_count": null,
      "metadata": {
        "id": "LfXsfiUUKfzC"
      },
      "outputs": [],
      "source": [
        "plt.figure(figsize=(5.5, 5.5))\n",
        "\n",
        "sns.boxplot(x = 'bioactivity_class', y = 'LogP', data = act_fn)\n",
        "\n",
        "plt.xlabel('Bioactivity class', fontsize=14, fontweight='bold')\n",
        "plt.ylabel('LogP value', fontsize=14, fontweight='bold')\n",
        "\n",
        "plt.savefig('plot_LogP.pdf')"
      ]
    },
    {
      "cell_type": "code",
      "execution_count": null,
      "metadata": {
        "id": "wFmRpaSeKj77"
      },
      "outputs": [],
      "source": [
        "mannwhitney('LogP')"
      ]
    },
    {
      "cell_type": "code",
      "execution_count": null,
      "metadata": {
        "id": "zw2AGDBGKnE8"
      },
      "outputs": [],
      "source": [
        "plt.figure(figsize=(5.5, 5.5))\n",
        "\n",
        "sns.boxplot(x = 'bioactivity_class', y = 'NumHDonors', data = act_fn)\n",
        "\n",
        "plt.xlabel('Bioactivity class', fontsize=14, fontweight='bold')\n",
        "plt.ylabel('NumHDon value', fontsize=14, fontweight='bold')\n",
        "\n",
        "plt.savefig('plot_NumHDon.pdf')"
      ]
    },
    {
      "cell_type": "code",
      "execution_count": null,
      "metadata": {
        "id": "b1Zzb4pzK1e0"
      },
      "outputs": [],
      "source": [
        "mannwhitney('NumHDonors')"
      ]
    },
    {
      "cell_type": "code",
      "execution_count": null,
      "metadata": {
        "id": "NEAWEF3dK77x"
      },
      "outputs": [],
      "source": [
        "plt.figure(figsize=(5.5, 5.5))\n",
        "\n",
        "sns.boxplot(x = 'bioactivity_class', y = 'NumHAcceptors', data = act_fn)\n",
        "\n",
        "plt.xlabel('Bioactivity class', fontsize=14, fontweight='bold')\n",
        "plt.ylabel('NumHAcc value', fontsize=14, fontweight='bold')\n",
        "\n",
        "plt.savefig('plot_NumHAcc.pdf')"
      ]
    },
    {
      "cell_type": "code",
      "execution_count": null,
      "metadata": {
        "id": "5D2tGmDWLD6p"
      },
      "outputs": [],
      "source": [
        "mannwhitney('NumHAcceptors')"
      ]
    },
    {
      "cell_type": "markdown",
      "metadata": {
        "id": "S9tPgTEmLIYK"
      },
      "source": [
        "results interpretation\n",
        "\n",
        "All of the four Lipinski descriptors exhibited statistically significant difference between active and inactive molecules."
      ]
    },
    {
      "cell_type": "markdown",
      "metadata": {
        "id": "ot6FtEFmLUrT"
      },
      "source": [
        "let's calculate other descriptors with PADEL"
      ]
    },
    {
      "cell_type": "code",
      "execution_count": null,
      "metadata": {
        "id": "wWuiZc4xLPK0"
      },
      "outputs": [],
      "source": [
        "! wget https://github.com/gromdimon/features/raw/main/padel.sh\n",
        "! wget https://github.com/gromdimon/features/raw/main/padel.zip"
      ]
    },
    {
      "cell_type": "code",
      "execution_count": null,
      "metadata": {
        "id": "n2RNWYMCLfAV"
      },
      "outputs": [],
      "source": [
        "!unzip padel.zip"
      ]
    },
    {
      "cell_type": "code",
      "execution_count": null,
      "metadata": {
        "id": "b33r0tPFLkPS"
      },
      "outputs": [],
      "source": [
        "act_final"
      ]
    },
    {
      "cell_type": "code",
      "execution_count": null,
      "metadata": {
        "id": "yHcTh8fhLvdS"
      },
      "outputs": [],
      "source": [
        "selection = ['canonical_smiles', 'molecule_chembl_id']\n",
        "act_selected = act_final[selection]\n",
        "act_selected.to_csv('molecule.smi', sep='\\t', index=False, header=False )"
      ]
    },
    {
      "cell_type": "code",
      "execution_count": null,
      "metadata": {
        "id": "BihYB7L9L2jq"
      },
      "outputs": [],
      "source": [
        "! cat molecule.smi | head -5\n",
        "! cat molecule.smi | wc -l"
      ]
    },
    {
      "cell_type": "code",
      "execution_count": null,
      "metadata": {
        "id": "-Mrzv48XMFDT"
      },
      "outputs": [],
      "source": [
        "!cat padel.sh"
      ]
    },
    {
      "cell_type": "code",
      "execution_count": null,
      "metadata": {
        "id": "1tVryFTxMN0y"
      },
      "outputs": [],
      "source": [
        "!bash padel.sh"
      ]
    },
    {
      "cell_type": "code",
      "execution_count": null,
      "metadata": {
        "id": "XbXYzcKEOK2q"
      },
      "outputs": [],
      "source": [
        "!ls -l"
      ]
    },
    {
      "cell_type": "markdown",
      "metadata": {
        "id": "Dkv5WDtrOPNj"
      },
      "source": [
        "preparing data for later researchs"
      ]
    },
    {
      "cell_type": "code",
      "execution_count": null,
      "metadata": {
        "id": "Y8uK0GzqOSpM"
      },
      "outputs": [],
      "source": [
        "actx = pd.read_csv('descriptors_output.csv')\n",
        "actx"
      ]
    },
    {
      "cell_type": "code",
      "execution_count": null,
      "metadata": {
        "id": "OYJFFGJ6OW8E"
      },
      "outputs": [],
      "source": [
        "actx = actx.drop(columns='Name')\n",
        "actx\n"
      ]
    },
    {
      "cell_type": "code",
      "execution_count": null,
      "metadata": {
        "id": "LGCK3PaMTMWw"
      },
      "outputs": [],
      "source": [
        "actx.to_csv('actx.csv')"
      ]
    },
    {
      "cell_type": "code",
      "execution_count": null,
      "metadata": {
        "id": "MtWOd6NOTSPX"
      },
      "outputs": [],
      "source": [
        "acty = act_final['pIC50']\n",
        "acty"
      ]
    },
    {
      "cell_type": "code",
      "execution_count": null,
      "metadata": {
        "id": "UOuJfYsRTYoZ"
      },
      "outputs": [],
      "source": [
        "actx.shape"
      ]
    },
    {
      "cell_type": "code",
      "execution_count": null,
      "metadata": {
        "id": "oVworOtbTa3Y"
      },
      "outputs": [],
      "source": [
        "acty.shape"
      ]
    },
    {
      "cell_type": "markdown",
      "metadata": {
        "id": "m8rAgOi4Texp"
      },
      "source": [
        "making new datase"
      ]
    },
    {
      "cell_type": "code",
      "execution_count": null,
      "metadata": {
        "id": "IAoSj0dqTd6r"
      },
      "outputs": [],
      "source": [
        "datasetxy = pd.concat([actx, acty], axis=1)\n",
        "datasetxy"
      ]
    },
    {
      "cell_type": "code",
      "execution_count": null,
      "metadata": {
        "id": "GE_pa80NTnJj"
      },
      "outputs": [],
      "source": [
        "datasetxy.to_csv('dataset_with_padel_pIC50.csv', index=False)"
      ]
    }
  ],
  "metadata": {
    "colab": {
      "provenance": [],
      "authorship_tag": "ABX9TyPDQWlqT55dqPOAlKArRgo2",
      "include_colab_link": true
    },
    "kernelspec": {
      "display_name": "Python 3",
      "name": "python3"
    },
    "language_info": {
      "name": "python"
    },
    "gpuClass": "standard",
    "widgets": {
      "application/vnd.jupyter.widget-state+json": {
        "6666ae9a4d7845948f8d4af009147204": {
          "model_module": "@jupyter-widgets/controls",
          "model_name": "HBoxModel",
          "model_module_version": "1.5.0",
          "state": {
            "_dom_classes": [],
            "_model_module": "@jupyter-widgets/controls",
            "_model_module_version": "1.5.0",
            "_model_name": "HBoxModel",
            "_view_count": null,
            "_view_module": "@jupyter-widgets/controls",
            "_view_module_version": "1.5.0",
            "_view_name": "HBoxView",
            "box_style": "",
            "children": [
              "IPY_MODEL_1bc71613a83347c287a43a68196d43ff",
              "IPY_MODEL_3ccd28e910464a928fa79621d0ea59c0",
              "IPY_MODEL_bab6b4ecb7b3484fb74d202fb4e1b8a8"
            ],
            "layout": "IPY_MODEL_74b32e2515644cf3ac85f9ef48897b2a"
          }
        },
        "1bc71613a83347c287a43a68196d43ff": {
          "model_module": "@jupyter-widgets/controls",
          "model_name": "HTMLModel",
          "model_module_version": "1.5.0",
          "state": {
            "_dom_classes": [],
            "_model_module": "@jupyter-widgets/controls",
            "_model_module_version": "1.5.0",
            "_model_name": "HTMLModel",
            "_view_count": null,
            "_view_module": "@jupyter-widgets/controls",
            "_view_module_version": "1.5.0",
            "_view_name": "HTMLView",
            "description": "",
            "description_tooltip": null,
            "layout": "IPY_MODEL_ecfb1e1aa99a45428c0bdf1a66ad167b",
            "placeholder": "​",
            "style": "IPY_MODEL_d21afca9aa734bc6b014cb6b00300f94",
            "value": "100%"
          }
        },
        "3ccd28e910464a928fa79621d0ea59c0": {
          "model_module": "@jupyter-widgets/controls",
          "model_name": "FloatProgressModel",
          "model_module_version": "1.5.0",
          "state": {
            "_dom_classes": [],
            "_model_module": "@jupyter-widgets/controls",
            "_model_module_version": "1.5.0",
            "_model_name": "FloatProgressModel",
            "_view_count": null,
            "_view_module": "@jupyter-widgets/controls",
            "_view_module_version": "1.5.0",
            "_view_name": "ProgressView",
            "bar_style": "success",
            "description": "",
            "description_tooltip": null,
            "layout": "IPY_MODEL_31dbd007c6d348ef8887248a6aed7342",
            "max": 6387,
            "min": 0,
            "orientation": "horizontal",
            "style": "IPY_MODEL_1c3521cd10c04d31a01a68b475b2e1ad",
            "value": 6387
          }
        },
        "bab6b4ecb7b3484fb74d202fb4e1b8a8": {
          "model_module": "@jupyter-widgets/controls",
          "model_name": "HTMLModel",
          "model_module_version": "1.5.0",
          "state": {
            "_dom_classes": [],
            "_model_module": "@jupyter-widgets/controls",
            "_model_module_version": "1.5.0",
            "_model_name": "HTMLModel",
            "_view_count": null,
            "_view_module": "@jupyter-widgets/controls",
            "_view_module_version": "1.5.0",
            "_view_name": "HTMLView",
            "description": "",
            "description_tooltip": null,
            "layout": "IPY_MODEL_238f074ffe5c43d28cb666986923121e",
            "placeholder": "​",
            "style": "IPY_MODEL_5eaa2c79219944edb9c7112b0b0f495e",
            "value": " 6387/6387 [19:58&lt;00:00,  6.87it/s]"
          }
        },
        "74b32e2515644cf3ac85f9ef48897b2a": {
          "model_module": "@jupyter-widgets/base",
          "model_name": "LayoutModel",
          "model_module_version": "1.2.0",
          "state": {
            "_model_module": "@jupyter-widgets/base",
            "_model_module_version": "1.2.0",
            "_model_name": "LayoutModel",
            "_view_count": null,
            "_view_module": "@jupyter-widgets/base",
            "_view_module_version": "1.2.0",
            "_view_name": "LayoutView",
            "align_content": null,
            "align_items": null,
            "align_self": null,
            "border": null,
            "bottom": null,
            "display": null,
            "flex": null,
            "flex_flow": null,
            "grid_area": null,
            "grid_auto_columns": null,
            "grid_auto_flow": null,
            "grid_auto_rows": null,
            "grid_column": null,
            "grid_gap": null,
            "grid_row": null,
            "grid_template_areas": null,
            "grid_template_columns": null,
            "grid_template_rows": null,
            "height": null,
            "justify_content": null,
            "justify_items": null,
            "left": null,
            "margin": null,
            "max_height": null,
            "max_width": null,
            "min_height": null,
            "min_width": null,
            "object_fit": null,
            "object_position": null,
            "order": null,
            "overflow": null,
            "overflow_x": null,
            "overflow_y": null,
            "padding": null,
            "right": null,
            "top": null,
            "visibility": null,
            "width": null
          }
        },
        "ecfb1e1aa99a45428c0bdf1a66ad167b": {
          "model_module": "@jupyter-widgets/base",
          "model_name": "LayoutModel",
          "model_module_version": "1.2.0",
          "state": {
            "_model_module": "@jupyter-widgets/base",
            "_model_module_version": "1.2.0",
            "_model_name": "LayoutModel",
            "_view_count": null,
            "_view_module": "@jupyter-widgets/base",
            "_view_module_version": "1.2.0",
            "_view_name": "LayoutView",
            "align_content": null,
            "align_items": null,
            "align_self": null,
            "border": null,
            "bottom": null,
            "display": null,
            "flex": null,
            "flex_flow": null,
            "grid_area": null,
            "grid_auto_columns": null,
            "grid_auto_flow": null,
            "grid_auto_rows": null,
            "grid_column": null,
            "grid_gap": null,
            "grid_row": null,
            "grid_template_areas": null,
            "grid_template_columns": null,
            "grid_template_rows": null,
            "height": null,
            "justify_content": null,
            "justify_items": null,
            "left": null,
            "margin": null,
            "max_height": null,
            "max_width": null,
            "min_height": null,
            "min_width": null,
            "object_fit": null,
            "object_position": null,
            "order": null,
            "overflow": null,
            "overflow_x": null,
            "overflow_y": null,
            "padding": null,
            "right": null,
            "top": null,
            "visibility": null,
            "width": null
          }
        },
        "d21afca9aa734bc6b014cb6b00300f94": {
          "model_module": "@jupyter-widgets/controls",
          "model_name": "DescriptionStyleModel",
          "model_module_version": "1.5.0",
          "state": {
            "_model_module": "@jupyter-widgets/controls",
            "_model_module_version": "1.5.0",
            "_model_name": "DescriptionStyleModel",
            "_view_count": null,
            "_view_module": "@jupyter-widgets/base",
            "_view_module_version": "1.2.0",
            "_view_name": "StyleView",
            "description_width": ""
          }
        },
        "31dbd007c6d348ef8887248a6aed7342": {
          "model_module": "@jupyter-widgets/base",
          "model_name": "LayoutModel",
          "model_module_version": "1.2.0",
          "state": {
            "_model_module": "@jupyter-widgets/base",
            "_model_module_version": "1.2.0",
            "_model_name": "LayoutModel",
            "_view_count": null,
            "_view_module": "@jupyter-widgets/base",
            "_view_module_version": "1.2.0",
            "_view_name": "LayoutView",
            "align_content": null,
            "align_items": null,
            "align_self": null,
            "border": null,
            "bottom": null,
            "display": null,
            "flex": null,
            "flex_flow": null,
            "grid_area": null,
            "grid_auto_columns": null,
            "grid_auto_flow": null,
            "grid_auto_rows": null,
            "grid_column": null,
            "grid_gap": null,
            "grid_row": null,
            "grid_template_areas": null,
            "grid_template_columns": null,
            "grid_template_rows": null,
            "height": null,
            "justify_content": null,
            "justify_items": null,
            "left": null,
            "margin": null,
            "max_height": null,
            "max_width": null,
            "min_height": null,
            "min_width": null,
            "object_fit": null,
            "object_position": null,
            "order": null,
            "overflow": null,
            "overflow_x": null,
            "overflow_y": null,
            "padding": null,
            "right": null,
            "top": null,
            "visibility": null,
            "width": null
          }
        },
        "1c3521cd10c04d31a01a68b475b2e1ad": {
          "model_module": "@jupyter-widgets/controls",
          "model_name": "ProgressStyleModel",
          "model_module_version": "1.5.0",
          "state": {
            "_model_module": "@jupyter-widgets/controls",
            "_model_module_version": "1.5.0",
            "_model_name": "ProgressStyleModel",
            "_view_count": null,
            "_view_module": "@jupyter-widgets/base",
            "_view_module_version": "1.2.0",
            "_view_name": "StyleView",
            "bar_color": null,
            "description_width": ""
          }
        },
        "238f074ffe5c43d28cb666986923121e": {
          "model_module": "@jupyter-widgets/base",
          "model_name": "LayoutModel",
          "model_module_version": "1.2.0",
          "state": {
            "_model_module": "@jupyter-widgets/base",
            "_model_module_version": "1.2.0",
            "_model_name": "LayoutModel",
            "_view_count": null,
            "_view_module": "@jupyter-widgets/base",
            "_view_module_version": "1.2.0",
            "_view_name": "LayoutView",
            "align_content": null,
            "align_items": null,
            "align_self": null,
            "border": null,
            "bottom": null,
            "display": null,
            "flex": null,
            "flex_flow": null,
            "grid_area": null,
            "grid_auto_columns": null,
            "grid_auto_flow": null,
            "grid_auto_rows": null,
            "grid_column": null,
            "grid_gap": null,
            "grid_row": null,
            "grid_template_areas": null,
            "grid_template_columns": null,
            "grid_template_rows": null,
            "height": null,
            "justify_content": null,
            "justify_items": null,
            "left": null,
            "margin": null,
            "max_height": null,
            "max_width": null,
            "min_height": null,
            "min_width": null,
            "object_fit": null,
            "object_position": null,
            "order": null,
            "overflow": null,
            "overflow_x": null,
            "overflow_y": null,
            "padding": null,
            "right": null,
            "top": null,
            "visibility": null,
            "width": null
          }
        },
        "5eaa2c79219944edb9c7112b0b0f495e": {
          "model_module": "@jupyter-widgets/controls",
          "model_name": "DescriptionStyleModel",
          "model_module_version": "1.5.0",
          "state": {
            "_model_module": "@jupyter-widgets/controls",
            "_model_module_version": "1.5.0",
            "_model_name": "DescriptionStyleModel",
            "_view_count": null,
            "_view_module": "@jupyter-widgets/base",
            "_view_module_version": "1.2.0",
            "_view_name": "StyleView",
            "description_width": ""
          }
        }
      }
    }
  },
  "nbformat": 4,
  "nbformat_minor": 0
}