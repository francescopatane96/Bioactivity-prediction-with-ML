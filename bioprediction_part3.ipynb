{
  "nbformat": 4,
  "nbformat_minor": 0,
  "metadata": {
    "colab": {
      "name": "bioprediction_part3.ipynb",
      "provenance": [],
      "authorship_tag": "ABX9TyOMT0MW4e4wk0UF3MyO7JNG",
      "include_colab_link": true
    },
    "kernelspec": {
      "name": "python3",
      "display_name": "Python 3"
    },
    "language_info": {
      "name": "python"
    }
  },
  "cells": [
    {
      "cell_type": "markdown",
      "metadata": {
        "id": "view-in-github",
        "colab_type": "text"
      },
      "source": [
        "<a href=\"https://colab.research.google.com/github/francescopatane96/Bioactivity-prediction-with-ML/blob/main/bioprediction_part3.ipynb\" target=\"_parent\"><img src=\"https://colab.research.google.com/assets/colab-badge.svg\" alt=\"Open In Colab\"/></a>"
      ]
    },
    {
      "cell_type": "markdown",
      "source": [
        "Making ML model using randomforest"
      ],
      "metadata": {
        "id": "juKgZ8b2pYLN"
      }
    },
    {
      "cell_type": "code",
      "execution_count": null,
      "metadata": {
        "id": "7g-8LsF7pUCi"
      },
      "outputs": [],
      "source": [
        "from sklearn.ensemble import RandomForestRegressor"
      ]
    },
    {
      "cell_type": "code",
      "source": [
        "X_train = X_train.astype('int32')\n",
        "Y_train = Y_train.astype('float64')"
      ],
      "metadata": {
        "id": "hTCnSpSEpedc"
      },
      "execution_count": null,
      "outputs": []
    },
    {
      "cell_type": "code",
      "source": [
        "model = RandomForestRegressor(n_estimators=100, random_state=42)\n",
        "model.fit(X_train, Y_train)\n",
        "r2 = model.score(X_test, Y_test)\n",
        "r2"
      ],
      "metadata": {
        "id": "aMriGfwzph0l"
      },
      "execution_count": null,
      "outputs": []
    },
    {
      "cell_type": "code",
      "source": [
        "# Try data with test sample\n",
        "\n",
        "Y_pred = model.predict(X_test)\n",
        "print(Y_pred)"
      ],
      "metadata": {
        "id": "Tb4LfkmLpjgE"
      },
      "execution_count": null,
      "outputs": []
    },
    {
      "cell_type": "markdown",
      "source": [
        "evaluate model performance"
      ],
      "metadata": {
        "id": "egbO13zCplJd"
      }
    },
    {
      "cell_type": "code",
      "source": [
        "# Calculate the absolute errors\n",
        "\n",
        "errors = abs(Y_pred - Y_test)\n",
        "print('Mean absolute errors:', round(np.mean(errors), 2), 'degrees.')"
      ],
      "metadata": {
        "id": "wRz96coPplll"
      },
      "execution_count": null,
      "outputs": []
    },
    {
      "cell_type": "code",
      "source": [
        "# Calculate percentage of errors\n",
        "mape = 100 * (errors / Y_test)\n",
        "accuracy = 100 - np.mean(mape)\n",
        "print('Accuracy:', round(accuracy, 2), '%.') "
      ],
      "metadata": {
        "id": "WSQVpcgLpo4M"
      },
      "execution_count": null,
      "outputs": []
    },
    {
      "cell_type": "markdown",
      "source": [
        "prediction for new drug"
      ],
      "metadata": {
        "id": "4FQW3XHapsvc"
      }
    },
    {
      "cell_type": "code",
      "source": [
        "# Only for trying, this are random numbers\n",
        "drug = np.random.randint(0,2,183)\n",
        "#drug = pd.read_csv('...')\n",
        "pred = model.predict([drug])\n",
        "print(\"pIC50 prediction\", pred)"
      ],
      "metadata": {
        "id": "I7rxxm8NptOk"
      },
      "execution_count": null,
      "outputs": []
    }
  ]
}