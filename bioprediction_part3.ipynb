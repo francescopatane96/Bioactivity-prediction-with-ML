{
  "nbformat": 4,
  "nbformat_minor": 0,
  "metadata": {
    "colab": {
      "name": "Copia di bioprediction_part3.ipynb",
      "provenance": [],
      "authorship_tag": "ABX9TyPNDYN8a1lQ8UTEm76w6zib",
      "include_colab_link": true
    },
    "kernelspec": {
      "name": "python3",
      "display_name": "Python 3"
    },
    "language_info": {
      "name": "python"
    }
  },
  "cells": [
    {
      "cell_type": "markdown",
      "metadata": {
        "id": "view-in-github",
        "colab_type": "text"
      },
      "source": [
        "<a href=\"https://colab.research.google.com/github/francescopatane96/Bioactivity-prediction-with-ML/blob/main/bioprediction_part3.ipynb\" target=\"_parent\"><img src=\"https://colab.research.google.com/assets/colab-badge.svg\" alt=\"Open In Colab\"/></a>"
      ]
    },
    {
      "cell_type": "code",
      "source": [
        "!pip install lazypredict"
      ],
      "metadata": {
        "id": "zpbMyFff6A3m"
      },
      "execution_count": null,
      "outputs": []
    },
    {
      "cell_type": "code",
      "source": [
        "import pandas as pd\n",
        "import sklearn\n",
        "import seaborn as sns\n",
        "from sklearn.model_selection import train_test_split\n",
        "import lazypredict\n",
        "from lazypredict.Supervised import LazyRegressor\n",
        "from lazypredict.Supervised import LazyClassifier\n",
        "import numpy as np"
      ],
      "metadata": {
        "id": "a4UFlZN56ER9"
      },
      "execution_count": null,
      "outputs": []
    },
    {
      "cell_type": "code",
      "source": [
        "# Importing data\n",
        "data = pd.read_csv('dataset_with_padel_pIC50.csv')\n",
        "data"
      ],
      "metadata": {
        "id": "mkAPqMrJ6G4G"
      },
      "execution_count": null,
      "outputs": []
    },
    {
      "cell_type": "code",
      "source": [
        "# Feature for proving and Proving our data\n",
        "def check_missing_values(dataframe):\n",
        "    \n",
        "    if dataframe.isnull().sum().sum() > 0:\n",
        "        m_total = dataframe.isnull().sum().sort_values(ascending=False) \n",
        "        total = m_total[m_total > 0]\n",
        "\n",
        "        m_percent = dataframe.isnull().mean().sort_values(ascending=False) \n",
        "        percent = m_percent[m_percent > 0] \n",
        "\n",
        "        missing_data = pd.concat([total, percent], axis=1, keys=['Total', 'Percent'])\n",
        "    \n",
        "        print(f'Total and Percentage of NaN:\\n {missing_data}')\n",
        "    else: \n",
        "        print('No NaN found.')\n",
        "        \n",
        "        \n",
        "check_missing_values(dataframe=data)"
      ],
      "metadata": {
        "id": "K3LkMYwg6Kmt"
      },
      "execution_count": null,
      "outputs": []
    },
    {
      "cell_type": "code",
      "source": [
        "# Remove NaN\n",
        "data = data.dropna()"
      ],
      "metadata": {
        "id": "f64EGsMH6NM1"
      },
      "execution_count": null,
      "outputs": []
    },
    {
      "cell_type": "code",
      "source": [
        "# Making X and Y column\n",
        "X = data.drop(columns='pIC50')\n",
        "Y = data.pIC50"
      ],
      "metadata": {
        "id": "5VivKUcd6PTE"
      },
      "execution_count": null,
      "outputs": []
    },
    {
      "cell_type": "code",
      "source": [
        "print(X.shape)\n",
        "print(Y.shape)"
      ],
      "metadata": {
        "id": "jqH2ifdJ6RQ1"
      },
      "execution_count": null,
      "outputs": []
    },
    {
      "cell_type": "code",
      "source": [
        "# Remove low variance indicators\n",
        "from sklearn.feature_selection import VarianceThreshold\n",
        "selection = VarianceThreshold(threshold=(.8 * (1 - .8)))    \n",
        "X = selection.fit_transform(X)\n",
        "X = X.astype('int32')\n",
        "X.shape"
      ],
      "metadata": {
        "id": "W0E_pT7R6Rvc"
      },
      "execution_count": null,
      "outputs": []
    },
    {
      "cell_type": "code",
      "source": [
        "# Spliting data in 80\\20 ratio\n",
        "X_train, X_test, Y_train, Y_test = train_test_split(X, Y, test_size=.2, random_state=42)"
      ],
      "metadata": {
        "id": "Kc2vt3VP6VdF"
      },
      "execution_count": null,
      "outputs": []
    },
    {
      "cell_type": "code",
      "source": [
        "# Seeing the data that was prepared\n",
        "X_train.shape, Y_train.shape, X_test.shape, Y_test.shape"
      ],
      "metadata": {
        "id": "7-zTEKo26V70"
      },
      "execution_count": null,
      "outputs": []
    },
    {
      "cell_type": "markdown",
      "source": [
        "Making ML model using randomforest"
      ],
      "metadata": {
        "id": "juKgZ8b2pYLN"
      }
    },
    {
      "cell_type": "code",
      "execution_count": null,
      "metadata": {
        "id": "7g-8LsF7pUCi"
      },
      "outputs": [],
      "source": [
        "from sklearn.ensemble import RandomForestRegressor"
      ]
    },
    {
      "cell_type": "code",
      "source": [
        "X_train = X_train.astype('int32')\n",
        "Y_train = Y_train.astype('float64')"
      ],
      "metadata": {
        "id": "hTCnSpSEpedc"
      },
      "execution_count": null,
      "outputs": []
    },
    {
      "cell_type": "code",
      "source": [
        "model = RandomForestRegressor(n_estimators=100, random_state=42)\n",
        "model.fit(X_train, Y_train)\n",
        "r2 = model.score(X_test, Y_test)\n",
        "r2"
      ],
      "metadata": {
        "id": "aMriGfwzph0l"
      },
      "execution_count": null,
      "outputs": []
    },
    {
      "cell_type": "code",
      "source": [
        "# Try data with test sample\n",
        "\n",
        "Y_pred = model.predict(X_test)\n",
        "print(Y_pred)"
      ],
      "metadata": {
        "id": "Tb4LfkmLpjgE"
      },
      "execution_count": null,
      "outputs": []
    },
    {
      "cell_type": "markdown",
      "source": [
        "evaluate model performance"
      ],
      "metadata": {
        "id": "egbO13zCplJd"
      }
    },
    {
      "cell_type": "code",
      "source": [
        "# Calculate the absolute errors\n",
        "\n",
        "errors = abs(Y_pred - Y_test)\n",
        "print('Mean absolute errors:', round(np.mean(errors), 2), 'degrees.')"
      ],
      "metadata": {
        "id": "wRz96coPplll"
      },
      "execution_count": null,
      "outputs": []
    },
    {
      "cell_type": "code",
      "source": [
        "# Calculate percentage of errors\n",
        "mape = 100 * (errors / Y_test)\n",
        "accuracy = 100 - np.mean(mape)\n",
        "print('Accuracy:', round(accuracy, 2), '%.') "
      ],
      "metadata": {
        "id": "WSQVpcgLpo4M"
      },
      "execution_count": null,
      "outputs": []
    },
    {
      "cell_type": "markdown",
      "source": [
        "prediction for new drug"
      ],
      "metadata": {
        "id": "4FQW3XHapsvc"
      }
    },
    {
      "cell_type": "code",
      "source": [
        "\n",
        "drug = pd.read_csv('new_drugs')\n",
        "pred = model.predict([drug])\n",
        "print(\"pIC50 prediction\", pred)"
      ],
      "metadata": {
        "id": "I7rxxm8NptOk"
      },
      "execution_count": null,
      "outputs": []
    },
    {
      "cell_type": "markdown",
      "source": [
        "generate model as Pickle Object"
      ],
      "metadata": {
        "id": "CkS0u3dWk-Mk"
      }
    },
    {
      "cell_type": "code",
      "source": [
        "import pickle"
      ],
      "metadata": {
        "id": "CicXTrs-lRJ7"
      },
      "execution_count": null,
      "outputs": []
    },
    {
      "cell_type": "code",
      "source": [
        "pickle.dump(model, open('acetylcholinesterase_model.pkl', 'wb'))"
      ],
      "metadata": {
        "id": "kw_9Sb1IlApD"
      },
      "execution_count": null,
      "outputs": []
    }
  ]
}