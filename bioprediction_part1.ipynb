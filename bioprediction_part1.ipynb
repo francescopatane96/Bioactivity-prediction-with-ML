{
  "cells": [
    {
      "cell_type": "markdown",
      "metadata": {
        "id": "view-in-github",
        "colab_type": "text"
      },
      "source": [
        "<a href=\"https://colab.research.google.com/github/francescopatane96/Bioactivity-prediction-with-ML/blob/main/bioprediction_part1.ipynb\" target=\"_parent\"><img src=\"https://colab.research.google.com/assets/colab-badge.svg\" alt=\"Open In Colab\"/></a>"
      ]
    },
    {
      "cell_type": "code",
      "execution_count": null,
      "metadata": {
        "id": "e106nlobq1s0"
      },
      "outputs": [],
      "source": [
        "! pip install chembl_webresource_client    "
      ]
    },
    {
      "cell_type": "code",
      "execution_count": null,
      "metadata": {
        "id": "U5H59_sy50Eh"
      },
      "outputs": [],
      "source": [
        "!pip install rdkit"
      ]
    },
    {
      "cell_type": "code",
      "execution_count": null,
      "metadata": {
        "id": "GheijY-dsL_O"
      },
      "outputs": [],
      "source": [
        "import pandas as pd\n",
        "import rdkit\n",
        "from chembl_webresource_client.new_client import new_client\n",
        "from pandas import DataFrame\n",
        "import numpy as np\n",
        "from rdkit import Chem\n",
        "from rdkit.Chem import Descriptors, Lipinski\n",
        "import seaborn as sns\n",
        "import matplotlib.pyplot as plt\n",
        "from sklearn.model_selection import train_test_split\n",
        "from sklearn.ensemble import RandomForestRegressor\n",
        "from sklearn.feature_selection import VarianceThreshold"
      ]
    },
    {
      "cell_type": "code",
      "execution_count": null,
      "metadata": {
        "id": "YoQHms4Bq-kR"
      },
      "outputs": [],
      "source": [
        "target = new_client.target\n",
        "target_query = target.search('acetylcholinesterase')\n",
        "targets = pd.DataFrame.from_dict(target_query)\n",
        "pd.set_option('display.max_rows', 100)\n",
        "pd.set_option('display.max_columns', 100)\n",
        "print(targets)"
      ]
    },
    {
      "cell_type": "code",
      "execution_count": null,
      "metadata": {
        "id": "jFyCFTvCrBQ0"
      },
      "outputs": [],
      "source": [
        "selected_target = targets.target_chembl_id[0]\n",
        "selected_target"
      ]
    },
    {
      "cell_type": "code",
      "execution_count": null,
      "metadata": {
        "id": "O2GG2u3WrEEE"
      },
      "outputs": [],
      "source": [
        "activity = new_client.activity\n",
        "res = activity.filter(target_chembl_id=selected_target).filter(standard_type=\"IC50\")\n",
        "print(res)"
      ]
    },
    {
      "cell_type": "code",
      "execution_count": null,
      "metadata": {
        "id": "kbOCvFcJrJc9"
      },
      "outputs": [],
      "source": [
        "df = pd.DataFrame.from_dict(res)\n",
        "print(df)"
      ]
    },
    {
      "cell_type": "code",
      "execution_count": null,
      "metadata": {
        "id": "rcn6cRGZrNZU"
      },
      "outputs": [],
      "source": [
        "df.to_csv('acetylcholinesterase_bioactivity_data.csv', index=False)"
      ]
    },
    {
      "cell_type": "code",
      "execution_count": null,
      "metadata": {
        "id": "wSnzHtqgrQlF"
      },
      "outputs": [],
      "source": [
        "act_normal = df[df.standard_value.notna()]\n",
        "act_normal = act_normal[act_normal.canonical_smiles.notna()]\n",
        "act_normal = act_normal.drop_duplicates(['canonical_smiles'])\n",
        "act_normal"
      ]
    },
    {
      "cell_type": "code",
      "execution_count": null,
      "metadata": {
        "id": "CFiSpv_drTuV"
      },
      "outputs": [],
      "source": [
        "selection = ['molecule_chembl_id', 'canonical_smiles', 'standard_value']\n",
        "new_act = act_normal[selection]\n",
        "new_act"
      ]
    },
    {
      "cell_type": "code",
      "execution_count": null,
      "metadata": {
        "id": "VtcNkworrXoO"
      },
      "outputs": [],
      "source": [
        "new_act.to_csv('acetylcholinesterase_bioactivity_clear', index=False)"
      ]
    },
    {
      "cell_type": "code",
      "execution_count": null,
      "metadata": {
        "id": "LYZAC9sqrpCt"
      },
      "outputs": [],
      "source": [
        "# This is temporary line\n",
        "new_act = pd.read_csv('acetylcholinesterase_bioactivity_clear')"
      ]
    },
    {
      "cell_type": "code",
      "execution_count": null,
      "metadata": {
        "id": "oJJ-QG1LrsSs"
      },
      "outputs": [],
      "source": [
        "bioactivity_threshold = []\n",
        "for i in new_act.standard_value:\n",
        "  if float(i) >= 10000:\n",
        "    bioactivity_threshold.append('inactive')\n",
        "  elif float(i) <= 1000:\n",
        "    bioactivity_threshold.append('active')\n",
        "  else:\n",
        "    bioactivity_threshold.append('intermediate')\n",
        "bioactivity_class = pd.Series(bioactivity_threshold, name = 'bioactivity_class')\n",
        "act5 = pd.concat([new_act, bioactivity_class], axis=1)\n",
        "act5"
      ]
    },
    {
      "cell_type": "code",
      "execution_count": null,
      "metadata": {
        "id": "LZ7yjq1ururk"
      },
      "outputs": [],
      "source": [
        "act5 = act5.dropna()\n",
        "act5"
      ]
    },
    {
      "cell_type": "code",
      "execution_count": null,
      "metadata": {
        "id": "yAXc6YJYrw9d"
      },
      "outputs": [],
      "source": [
        "act5.to_csv('bioactivity_with_class.csv', index=False)"
      ]
    },
    {
      "cell_type": "code",
      "execution_count": null,
      "metadata": {
        "id": "7zA_ktpBr0p-"
      },
      "outputs": [],
      "source": [
        "! wget https://repo.anaconda.com/miniconda/Miniconda3-py37_4.8.2-Linux-x86_64.sh\n",
        "! chmod +x Miniconda3-py37_4.8.2-Linux-x86_64.sh\n",
        "! bash ./Miniconda3-py37_4.8.2-Linux-x86_64.sh -b -f -p /usr/local\n",
        "! conda install -c rdkit rdkit -y\n",
        "import sys\n",
        "sys.path.append('/usr/local/lib/python3.7/site-packages/')"
      ]
    },
    {
      "cell_type": "code",
      "execution_count": null,
      "metadata": {
        "id": "6kx4rS3gr3sd"
      },
      "outputs": [],
      "source": [
        "act_nosmiles = act5.drop(columns='canonical_smiles')\n",
        "smiles = []\n",
        "\n",
        "for i in act5.canonical_smiles.tolist():\n",
        "  cpd = str(i).split('.')\n",
        "  cpd_longest = max(cpd, key = len)\n",
        "  smiles.append(cpd_longest)\n",
        "\n",
        "smiles = pd.Series(smiles, name='canonical_smiles')\n",
        "act_clean_smiles = pd.concat([act_nosmiles,smiles], axis=1)\n",
        "act_clean_smiles"
      ]
    },
    {
      "cell_type": "code",
      "execution_count": null,
      "metadata": {
        "id": "NFcvAxZPAnnH"
      },
      "outputs": [],
      "source": [
        "\n",
        "def lipinski(smiles, verbose=False):\n",
        "    moldata = []\n",
        "    for elem in smiles:\n",
        "        mol = Chem.MolFromSmiles(elem)\n",
        "        moldata.append(mol)\n",
        "    baseData = np.arange(1, 1)\n",
        "    i = 0\n",
        "    for mol in moldata:\n",
        "\n",
        "        desc_MolWt = Descriptors.MolWt(mol)\n",
        "        desc_MolLogP = Descriptors.MolLogP(mol)\n",
        "        desc_NumHDonors = Lipinski.NumHDonors(mol)\n",
        "        desc_NumHAcceptors = Lipinski.NumHAcceptors(mol)\n",
        "  \n",
        "        row = np.array([desc_MolWt,\n",
        "                        desc_MolLogP,\n",
        "                        desc_NumHDonors,\n",
        "                        desc_NumHAcceptors])\n",
        "        if (i==0):\n",
        "            baseData = row\n",
        "        else:\n",
        "            baseData = np.vstack([baseData, row])\n",
        "        i = i + 1\n",
        "\n",
        "    columnNames =  [\"MW\", \"LogP\", \"NumHDonors\", \"NumHAcceptors\"]\n",
        "    descriptors = pd.DataFrame(data=baseData, columns=columnNames)\n",
        "    return descriptors\n"
      ]
    },
    {
      "cell_type": "code",
      "execution_count": null,
      "metadata": {
        "id": "0T2JY6OID6u_"
      },
      "outputs": [],
      "source": [
        "act_lipinski = lipinski(act_clean_smiles.canonical_smiles)\n",
        "act_lipinski"
      ]
    },
    {
      "cell_type": "code",
      "execution_count": null,
      "metadata": {
        "id": "xLnCc3HtE_Cd"
      },
      "outputs": [],
      "source": [
        "act_comb = pd.concat([act5, act_lipinski], axis = 1)\n",
        "act_comb"
      ]
    },
    {
      "cell_type": "markdown",
      "metadata": {
        "id": "DXatD_w4FW4F"
      },
      "source": [
        "normalizing standard values"
      ]
    },
    {
      "cell_type": "code",
      "execution_count": null,
      "metadata": {
        "id": "frzwrxXMFZEk"
      },
      "outputs": [],
      "source": [
        "def norm_value(input):\n",
        "    norm = []\n",
        "\n",
        "    for i in input['standard_value']:\n",
        "        if i > 100000000:\n",
        "          i = 100000000\n",
        "        norm.append(i)\n",
        "\n",
        "    input['standard_value_norm'] = norm\n",
        "    x = input.drop('standard_value', 1)\n",
        "        \n",
        "    return x"
      ]
    },
    {
      "cell_type": "code",
      "execution_count": null,
      "metadata": {
        "id": "HuA3tdW0Febi"
      },
      "outputs": [],
      "source": [
        "act_norm = norm_value(act_comb)\n",
        "act_norm"
      ]
    },
    {
      "cell_type": "markdown",
      "metadata": {
        "id": "fJX4BDBdFkMs"
      },
      "source": [
        "converting to pIC50"
      ]
    },
    {
      "cell_type": "code",
      "execution_count": null,
      "metadata": {
        "id": "24y3Os7tFi4G"
      },
      "outputs": [],
      "source": [
        "def pIC50(input):\n",
        "    pIC50 = []\n",
        "\n",
        "    for i in input['standard_value_norm']:\n",
        "        molar = i*(10**-9) # Converts nM to M\n",
        "        pIC50.append(-np.log10(molar))\n",
        "\n",
        "    input['pIC50'] = pIC50\n",
        "    x = input.drop('standard_value_norm', 1)\n",
        "        \n",
        "    return x"
      ]
    },
    {
      "cell_type": "code",
      "execution_count": null,
      "metadata": {
        "id": "7UCx_2ukFqet"
      },
      "outputs": [],
      "source": [
        "act_final = pIC50(act_norm)\n",
        "act_final"
      ]
    },
    {
      "cell_type": "code",
      "execution_count": null,
      "metadata": {
        "id": "ZA0cWxfbHIUT"
      },
      "outputs": [],
      "source": [
        "act_final.to_csv('bioactvity_pIC50.csv')"
      ]
    },
    {
      "cell_type": "markdown",
      "metadata": {
        "id": "UvNudUP2IUke"
      },
      "source": [
        "Exploratory data analysis (chemical space analysis) via lipinski descriptors"
      ]
    },
    {
      "cell_type": "code",
      "execution_count": null,
      "metadata": {
        "id": "OX-2wFNeITs_"
      },
      "outputs": [],
      "source": [
        "act_fn = act_final[act_final['bioactivity_class'] != 'intermediate']\n",
        "act_fn"
      ]
    },
    {
      "cell_type": "markdown",
      "metadata": {
        "id": "t7hwhA53IsMS"
      },
      "source": [
        "frequency of 2 classes (active, inactive)"
      ]
    },
    {
      "cell_type": "code",
      "execution_count": null,
      "metadata": {
        "id": "Gg1yi_pPIqYL"
      },
      "outputs": [],
      "source": [
        "plt.figure(figsize=(5.5, 5.5))\n",
        "sns.countplot(x='bioactivity_class', data=act_fn, edgecolor='black')\n",
        "plt.xlabel('Bioactivity class', fontsize=14, fontweight='bold')\n",
        "plt.ylabel('Frequency', fontsize=14, fontweight='bold')\n",
        "plt.savefig('plot_bioactivity_class.pdf')"
      ]
    },
    {
      "cell_type": "markdown",
      "metadata": {
        "id": "_OGm6lDzI1dy"
      },
      "source": [
        "making statistical analysis"
      ]
    },
    {
      "cell_type": "code",
      "execution_count": null,
      "metadata": {
        "id": "rGz2ntRYI4Jb"
      },
      "outputs": [],
      "source": [
        "def mannwhitney(descriptor, verbose=False):\n",
        "  from numpy.random import seed\n",
        "  from numpy.random import randn\n",
        "  from scipy.stats import mannwhitneyu\n",
        "\n",
        "# seed the random number generator\n",
        "  seed(1)\n",
        "\n",
        "# actives and inactives\n",
        "  selection = [descriptor, 'bioactivity_class']\n",
        "  df = act_fn[selection]\n",
        "  active = df[df['bioactivity_class'] == 'active']\n",
        "  active = active[descriptor]\n",
        "\n",
        "  selection = [descriptor, 'bioactivity_class']\n",
        "  df = act_fn[selection]\n",
        "  inactive = df[df['bioactivity_class'] == 'inactive']\n",
        "  inactive = inactive[descriptor]\n",
        "\n",
        "# compare samples\n",
        "  stat, p = mannwhitneyu(active, inactive)\n",
        "  #print('Statistics=%.3f, p=%.3f' % (stat, p))\n",
        "\n",
        "# interpret\n",
        "  alpha = 0.05\n",
        "  if p > alpha:\n",
        "    interpretation = 'Same distribution (fail to reject H0)'\n",
        "  else:\n",
        "    interpretation = 'Different distribution (reject H0)'\n",
        "  \n",
        "  results = pd.DataFrame({'Descriptor':descriptor,\n",
        "                          'Statistics':stat,\n",
        "                          'p':p,\n",
        "                          'alpha':alpha,\n",
        "                          'Interpretation':interpretation}, index=[0])\n",
        "  filename = 'mannwhitneyu_' + descriptor + '.csv'\n",
        "  results.to_csv(filename)\n",
        "\n",
        "  return results"
      ]
    },
    {
      "cell_type": "code",
      "execution_count": null,
      "metadata": {
        "id": "Y_4FAGSpI8rb"
      },
      "outputs": [],
      "source": [
        "plt.figure(figsize=(5.5, 5.5))\n",
        "\n",
        "sns.boxplot(x = 'bioactivity_class', y = 'pIC50', data = act_fn)\n",
        "\n",
        "plt.xlabel('Bioactivity class', fontsize=14, fontweight='bold')\n",
        "plt.ylabel('pIC50 value', fontsize=14, fontweight='bold')\n",
        "\n",
        "plt.savefig('plot_ic50.pdf')"
      ]
    },
    {
      "cell_type": "code",
      "execution_count": null,
      "metadata": {
        "id": "B_PXegE7JCm8"
      },
      "outputs": [],
      "source": [
        "mannwhitney('pIC50')"
      ]
    },
    {
      "cell_type": "code",
      "execution_count": null,
      "metadata": {
        "id": "xQ5WSv8JJRPB"
      },
      "outputs": [],
      "source": [
        "plt.figure(figsize=(5.5, 5.5))\n",
        "\n",
        "sns.boxplot(x = 'bioactivity_class', y = 'MW', data = act_fn)\n",
        "\n",
        "plt.xlabel('Bioactivity class', fontsize=14, fontweight='bold')\n",
        "plt.ylabel('MW value', fontsize=14, fontweight='bold')\n",
        "\n",
        "plt.savefig('plot_MW.pdf')"
      ]
    },
    {
      "cell_type": "code",
      "execution_count": null,
      "metadata": {
        "id": "GVa0zXv6JU7D"
      },
      "outputs": [],
      "source": [
        "mannwhitney('MW')"
      ]
    },
    {
      "cell_type": "code",
      "execution_count": null,
      "metadata": {
        "id": "k-kFqInSJjBV"
      },
      "outputs": [],
      "source": [
        "plt.figure(figsize=(5.5, 5.5))\n",
        "\n",
        "sns.scatterplot(x='MW', y='LogP', data=act_fn, hue='bioactivity_class', size='pIC50', edgecolor='black', alpha=0.7)\n",
        "\n",
        "plt.xlabel('MW', fontsize=14, fontweight='bold')\n",
        "plt.ylabel('LogP', fontsize=14, fontweight='bold')\n",
        "plt.legend(bbox_to_anchor=(1.05, 1), loc=2, borderaxespad=0)\n",
        "plt.savefig('plot_MW_vs_LogP.pdf')"
      ]
    },
    {
      "cell_type": "code",
      "execution_count": null,
      "metadata": {
        "id": "LfXsfiUUKfzC"
      },
      "outputs": [],
      "source": [
        "plt.figure(figsize=(5.5, 5.5))\n",
        "\n",
        "sns.boxplot(x = 'bioactivity_class', y = 'LogP', data = act_fn)\n",
        "\n",
        "plt.xlabel('Bioactivity class', fontsize=14, fontweight='bold')\n",
        "plt.ylabel('LogP value', fontsize=14, fontweight='bold')\n",
        "\n",
        "plt.savefig('plot_LogP.pdf')"
      ]
    },
    {
      "cell_type": "code",
      "execution_count": null,
      "metadata": {
        "id": "wFmRpaSeKj77"
      },
      "outputs": [],
      "source": [
        "mannwhitney('LogP')"
      ]
    },
    {
      "cell_type": "code",
      "execution_count": null,
      "metadata": {
        "id": "zw2AGDBGKnE8"
      },
      "outputs": [],
      "source": [
        "plt.figure(figsize=(5.5, 5.5))\n",
        "\n",
        "sns.boxplot(x = 'bioactivity_class', y = 'NumHDonors', data = act_fn)\n",
        "\n",
        "plt.xlabel('Bioactivity class', fontsize=14, fontweight='bold')\n",
        "plt.ylabel('NumHDon value', fontsize=14, fontweight='bold')\n",
        "\n",
        "plt.savefig('plot_NumHDon.pdf')"
      ]
    },
    {
      "cell_type": "code",
      "execution_count": null,
      "metadata": {
        "id": "b1Zzb4pzK1e0"
      },
      "outputs": [],
      "source": [
        "mannwhitney('NumHDonors')"
      ]
    },
    {
      "cell_type": "code",
      "execution_count": null,
      "metadata": {
        "id": "NEAWEF3dK77x"
      },
      "outputs": [],
      "source": [
        "plt.figure(figsize=(5.5, 5.5))\n",
        "\n",
        "sns.boxplot(x = 'bioactivity_class', y = 'NumHAcceptors', data = act_fn)\n",
        "\n",
        "plt.xlabel('Bioactivity class', fontsize=14, fontweight='bold')\n",
        "plt.ylabel('NumHAcc value', fontsize=14, fontweight='bold')\n",
        "\n",
        "plt.savefig('plot_NumHAcc.pdf')"
      ]
    },
    {
      "cell_type": "code",
      "execution_count": null,
      "metadata": {
        "id": "5D2tGmDWLD6p"
      },
      "outputs": [],
      "source": [
        "mannwhitney('NumHAcceptors')"
      ]
    },
    {
      "cell_type": "markdown",
      "metadata": {
        "id": "S9tPgTEmLIYK"
      },
      "source": [
        "results interpretation\n",
        "\n",
        "All of the four Lipinski descriptors exhibited statistically significant difference between active and inactive molecules."
      ]
    },
    {
      "cell_type": "markdown",
      "metadata": {
        "id": "ot6FtEFmLUrT"
      },
      "source": [
        "let's calculate other descriptors with PADEL"
      ]
    },
    {
      "cell_type": "code",
      "execution_count": null,
      "metadata": {
        "id": "wWuiZc4xLPK0"
      },
      "outputs": [],
      "source": [
        "! wget https://github.com/gromdimon/features/raw/main/padel.sh\n",
        "! wget https://github.com/gromdimon/features/raw/main/padel.zip"
      ]
    },
    {
      "cell_type": "code",
      "execution_count": null,
      "metadata": {
        "id": "n2RNWYMCLfAV"
      },
      "outputs": [],
      "source": [
        "!unzip padel.zip"
      ]
    },
    {
      "cell_type": "code",
      "execution_count": null,
      "metadata": {
        "id": "b33r0tPFLkPS"
      },
      "outputs": [],
      "source": [
        "act_final"
      ]
    },
    {
      "cell_type": "code",
      "execution_count": null,
      "metadata": {
        "id": "yHcTh8fhLvdS"
      },
      "outputs": [],
      "source": [
        "selection = ['canonical_smiles', 'molecule_chembl_id']\n",
        "act_selected = act_final[selection]\n",
        "act_selected.to_csv('molecule.smi', sep='\\t', index=False, header=False )"
      ]
    },
    {
      "cell_type": "code",
      "execution_count": null,
      "metadata": {
        "id": "BihYB7L9L2jq"
      },
      "outputs": [],
      "source": [
        "! cat molecule.smi | head -5\n",
        "! cat molecule.smi | wc -l"
      ]
    },
    {
      "cell_type": "code",
      "execution_count": null,
      "metadata": {
        "id": "-Mrzv48XMFDT"
      },
      "outputs": [],
      "source": [
        "!cat padel.sh"
      ]
    },
    {
      "cell_type": "code",
      "execution_count": null,
      "metadata": {
        "id": "1tVryFTxMN0y"
      },
      "outputs": [],
      "source": [
        "!bash padel.sh"
      ]
    },
    {
      "cell_type": "code",
      "execution_count": null,
      "metadata": {
        "id": "XbXYzcKEOK2q"
      },
      "outputs": [],
      "source": [
        "!ls -l"
      ]
    },
    {
      "cell_type": "markdown",
      "metadata": {
        "id": "Dkv5WDtrOPNj"
      },
      "source": [
        "preparing data for later researchs"
      ]
    },
    {
      "cell_type": "code",
      "execution_count": null,
      "metadata": {
        "id": "Y8uK0GzqOSpM"
      },
      "outputs": [],
      "source": [
        "actx = pd.read_csv('descriptors_output.csv')\n",
        "actx"
      ]
    },
    {
      "cell_type": "code",
      "execution_count": null,
      "metadata": {
        "id": "OYJFFGJ6OW8E"
      },
      "outputs": [],
      "source": [
        "actx = actx.drop(columns='Name')\n",
        "actx\n"
      ]
    },
    {
      "cell_type": "code",
      "execution_count": null,
      "metadata": {
        "id": "LGCK3PaMTMWw"
      },
      "outputs": [],
      "source": [
        "actx.to_csv('actx.csv')"
      ]
    },
    {
      "cell_type": "code",
      "execution_count": null,
      "metadata": {
        "id": "MtWOd6NOTSPX"
      },
      "outputs": [],
      "source": [
        "acty = act_final['pIC50']\n",
        "acty"
      ]
    },
    {
      "cell_type": "code",
      "execution_count": null,
      "metadata": {
        "id": "UOuJfYsRTYoZ"
      },
      "outputs": [],
      "source": [
        "actx.shape"
      ]
    },
    {
      "cell_type": "code",
      "execution_count": null,
      "metadata": {
        "id": "oVworOtbTa3Y"
      },
      "outputs": [],
      "source": [
        "acty.shape"
      ]
    },
    {
      "cell_type": "markdown",
      "metadata": {
        "id": "m8rAgOi4Texp"
      },
      "source": [
        "making new datase"
      ]
    },
    {
      "cell_type": "code",
      "execution_count": null,
      "metadata": {
        "id": "IAoSj0dqTd6r"
      },
      "outputs": [],
      "source": [
        "datasetxy = pd.concat([actx, acty], axis=1)\n",
        "datasetxy"
      ]
    },
    {
      "cell_type": "code",
      "execution_count": null,
      "metadata": {
        "id": "GE_pa80NTnJj"
      },
      "outputs": [],
      "source": [
        "datasetxy.to_csv('dataset_with_padel_pIC50.csv', index=False)"
      ]
    }
  ],
  "metadata": {
    "colab": {
      "name": "Copia di Untitled0.ipynb",
      "provenance": [],
      "authorship_tag": "ABX9TyPDX2/hiyY6fhbEL+Hx35CD",
      "include_colab_link": true
    },
    "kernelspec": {
      "display_name": "Python 3",
      "name": "python3"
    },
    "language_info": {
      "name": "python"
    },
    "accelerator": "GPU",
    "gpuClass": "standard"
  },
  "nbformat": 4,
  "nbformat_minor": 0
}